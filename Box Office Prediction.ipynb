{
 "cells": [
  {
   "cell_type": "code",
   "execution_count": 1,
   "metadata": {},
   "outputs": [],
   "source": [
    "import re\n",
    "import gc\n",
    "gc.enable()\n",
    "\n",
    "import numpy as np\n",
    "import pandas as pd\n",
    "from collections import defaultdict\n",
    "\n",
    "import seaborn as sns\n",
    "import matplotlib.pyplot as plt\n",
    "import scipy.stats as stats\n",
    "\n",
    "from jupyterthemes import jtplot\n",
    "jtplot.style(ticks=True, grid=True, figsize=(20, 10))\n",
    "%matplotlib inline"
   ]
  },
  {
   "cell_type": "markdown",
   "metadata": {},
   "source": [
    "Things to do:\n",
    "\n",
    "- Can use release date to make generalizations.  E.g. if it's relaesed around valentines day and is a romance movie it may be more popular than if it was released during the summer.  Could make anew column based on release window\n",
    "- Need to extract values from dictionaries for 'belongs_to_collection', 'genres', 'spoken_languages', 'keywords', 'cast', etc.\n",
    "- Need to take into account if a title is a sequel\n",
    "- Can make a column to determine how successful a movie was (i.e. revenue - budget)\n",
    "- Can make a column with number of words in title\n",
    "- For movies with $0 budget, can use linear regression to predict value (could use things like cast/crew size, release year, etc. as predictors)"
   ]
  },
  {
   "cell_type": "code",
   "execution_count": 2,
   "metadata": {},
   "outputs": [],
   "source": [
    "# Function to reduce memory usage.  From: https://www.kaggle.com/fabiendaniel/detecting-malwares-with-lgbm\n",
    "def reduce_mem_usage(df, verbose=True):\n",
    "    numerics = ['int16', 'int32', 'int64', 'float16', 'float32', 'float64']\n",
    "    start_mem = df.memory_usage().sum() / 1024**2    \n",
    "    for col in df.columns:\n",
    "        col_type = df[col].dtypes\n",
    "        if col_type in numerics:\n",
    "            c_min = df[col].min()\n",
    "            c_max = df[col].max()\n",
    "            if str(col_type)[:3] == 'int':\n",
    "                if c_min > np.iinfo(np.int8).min and c_max < np.iinfo(np.int8).max:\n",
    "                    df[col] = df[col].astype(np.int8)\n",
    "                elif c_min > np.iinfo(np.int16).min and c_max < np.iinfo(np.int16).max:\n",
    "                    df[col] = df[col].astype(np.int16)\n",
    "                elif c_min > np.iinfo(np.int32).min and c_max < np.iinfo(np.int32).max:\n",
    "                    df[col] = df[col].astype(np.int32)\n",
    "                elif c_min > np.iinfo(np.int64).min and c_max < np.iinfo(np.int64).max:\n",
    "                    df[col] = df[col].astype(np.int64)  \n",
    "            else:\n",
    "                if c_min > np.finfo(np.float16).min and c_max < np.finfo(np.float16).max:\n",
    "                    df[col] = df[col].astype(np.float16)\n",
    "                elif c_min > np.finfo(np.float32).min and c_max < np.finfo(np.float32).max:\n",
    "                    df[col] = df[col].astype(np.float32)\n",
    "                else:\n",
    "                    df[col] = df[col].astype(np.float64)    \n",
    "    end_mem = df.memory_usage().sum() / 1024**2\n",
    "    if verbose: print('Mem. usage decreased to {:5.2f} Mb ({:.1f}% reduction)'.format(end_mem, 100 * (start_mem - end_mem) / start_mem))\n",
    "    return df"
   ]
  },
  {
   "cell_type": "code",
   "execution_count": 3,
   "metadata": {
    "scrolled": true
   },
   "outputs": [
    {
     "data": {
      "text/html": [
       "<div>\n",
       "<style scoped>\n",
       "    .dataframe tbody tr th:only-of-type {\n",
       "        vertical-align: middle;\n",
       "    }\n",
       "\n",
       "    .dataframe tbody tr th {\n",
       "        vertical-align: top;\n",
       "    }\n",
       "\n",
       "    .dataframe thead th {\n",
       "        text-align: right;\n",
       "    }\n",
       "</style>\n",
       "<table border=\"1\" class=\"dataframe\">\n",
       "  <thead>\n",
       "    <tr style=\"text-align: right;\">\n",
       "      <th></th>\n",
       "      <th>id</th>\n",
       "      <th>belongs_to_collection</th>\n",
       "      <th>budget</th>\n",
       "      <th>genres</th>\n",
       "      <th>homepage</th>\n",
       "      <th>imdb_id</th>\n",
       "      <th>original_language</th>\n",
       "      <th>original_title</th>\n",
       "      <th>overview</th>\n",
       "      <th>popularity</th>\n",
       "      <th>...</th>\n",
       "      <th>release_date</th>\n",
       "      <th>runtime</th>\n",
       "      <th>spoken_languages</th>\n",
       "      <th>status</th>\n",
       "      <th>tagline</th>\n",
       "      <th>title</th>\n",
       "      <th>Keywords</th>\n",
       "      <th>cast</th>\n",
       "      <th>crew</th>\n",
       "      <th>revenue</th>\n",
       "    </tr>\n",
       "  </thead>\n",
       "  <tbody>\n",
       "    <tr>\n",
       "      <th>0</th>\n",
       "      <td>1</td>\n",
       "      <td>[{'id': 313576, 'name': 'Hot Tub Time Machine ...</td>\n",
       "      <td>14000000</td>\n",
       "      <td>[{'id': 35, 'name': 'Comedy'}]</td>\n",
       "      <td>NaN</td>\n",
       "      <td>tt2637294</td>\n",
       "      <td>en</td>\n",
       "      <td>Hot Tub Time Machine 2</td>\n",
       "      <td>When Lou, who has become the \"father of the In...</td>\n",
       "      <td>6.575393</td>\n",
       "      <td>...</td>\n",
       "      <td>2/20/15</td>\n",
       "      <td>93.0</td>\n",
       "      <td>[{'iso_639_1': 'en', 'name': 'English'}]</td>\n",
       "      <td>Released</td>\n",
       "      <td>The Laws of Space and Time are About to be Vio...</td>\n",
       "      <td>Hot Tub Time Machine 2</td>\n",
       "      <td>[{'id': 4379, 'name': 'time travel'}, {'id': 9...</td>\n",
       "      <td>[{'cast_id': 4, 'character': 'Lou', 'credit_id...</td>\n",
       "      <td>[{'credit_id': '59ac067c92514107af02c8c8', 'de...</td>\n",
       "      <td>12314651</td>\n",
       "    </tr>\n",
       "    <tr>\n",
       "      <th>1</th>\n",
       "      <td>2</td>\n",
       "      <td>[{'id': 107674, 'name': 'The Princess Diaries ...</td>\n",
       "      <td>40000000</td>\n",
       "      <td>[{'id': 35, 'name': 'Comedy'}, {'id': 18, 'nam...</td>\n",
       "      <td>NaN</td>\n",
       "      <td>tt0368933</td>\n",
       "      <td>en</td>\n",
       "      <td>The Princess Diaries 2: Royal Engagement</td>\n",
       "      <td>Mia Thermopolis is now a college graduate and ...</td>\n",
       "      <td>8.248895</td>\n",
       "      <td>...</td>\n",
       "      <td>8/6/04</td>\n",
       "      <td>113.0</td>\n",
       "      <td>[{'iso_639_1': 'en', 'name': 'English'}]</td>\n",
       "      <td>Released</td>\n",
       "      <td>It can take a lifetime to find true love; she'...</td>\n",
       "      <td>The Princess Diaries 2: Royal Engagement</td>\n",
       "      <td>[{'id': 2505, 'name': 'coronation'}, {'id': 42...</td>\n",
       "      <td>[{'cast_id': 1, 'character': 'Mia Thermopolis'...</td>\n",
       "      <td>[{'credit_id': '52fe43fe9251416c7502563d', 'de...</td>\n",
       "      <td>95149435</td>\n",
       "    </tr>\n",
       "    <tr>\n",
       "      <th>2</th>\n",
       "      <td>3</td>\n",
       "      <td>NaN</td>\n",
       "      <td>3300000</td>\n",
       "      <td>[{'id': 18, 'name': 'Drama'}]</td>\n",
       "      <td>http://sonyclassics.com/whiplash/</td>\n",
       "      <td>tt2582802</td>\n",
       "      <td>en</td>\n",
       "      <td>Whiplash</td>\n",
       "      <td>Under the direction of a ruthless instructor, ...</td>\n",
       "      <td>64.299990</td>\n",
       "      <td>...</td>\n",
       "      <td>10/10/14</td>\n",
       "      <td>105.0</td>\n",
       "      <td>[{'iso_639_1': 'en', 'name': 'English'}]</td>\n",
       "      <td>Released</td>\n",
       "      <td>The road to greatness can take you to the edge.</td>\n",
       "      <td>Whiplash</td>\n",
       "      <td>[{'id': 1416, 'name': 'jazz'}, {'id': 1523, 'n...</td>\n",
       "      <td>[{'cast_id': 5, 'character': 'Andrew Neimann',...</td>\n",
       "      <td>[{'credit_id': '54d5356ec3a3683ba0000039', 'de...</td>\n",
       "      <td>13092000</td>\n",
       "    </tr>\n",
       "    <tr>\n",
       "      <th>3</th>\n",
       "      <td>4</td>\n",
       "      <td>NaN</td>\n",
       "      <td>1200000</td>\n",
       "      <td>[{'id': 53, 'name': 'Thriller'}, {'id': 18, 'n...</td>\n",
       "      <td>http://kahaanithefilm.com/</td>\n",
       "      <td>tt1821480</td>\n",
       "      <td>hi</td>\n",
       "      <td>Kahaani</td>\n",
       "      <td>Vidya Bagchi (Vidya Balan) arrives in Kolkata ...</td>\n",
       "      <td>3.174936</td>\n",
       "      <td>...</td>\n",
       "      <td>3/9/12</td>\n",
       "      <td>122.0</td>\n",
       "      <td>[{'iso_639_1': 'en', 'name': 'English'}, {'iso...</td>\n",
       "      <td>Released</td>\n",
       "      <td>NaN</td>\n",
       "      <td>Kahaani</td>\n",
       "      <td>[{'id': 10092, 'name': 'mystery'}, {'id': 1054...</td>\n",
       "      <td>[{'cast_id': 1, 'character': 'Vidya Bagchi', '...</td>\n",
       "      <td>[{'credit_id': '52fe48779251416c9108d6eb', 'de...</td>\n",
       "      <td>16000000</td>\n",
       "    </tr>\n",
       "    <tr>\n",
       "      <th>4</th>\n",
       "      <td>5</td>\n",
       "      <td>NaN</td>\n",
       "      <td>0</td>\n",
       "      <td>[{'id': 28, 'name': 'Action'}, {'id': 53, 'nam...</td>\n",
       "      <td>NaN</td>\n",
       "      <td>tt1380152</td>\n",
       "      <td>ko</td>\n",
       "      <td>마린보이</td>\n",
       "      <td>Marine Boy is the story of a former national s...</td>\n",
       "      <td>1.148070</td>\n",
       "      <td>...</td>\n",
       "      <td>2/5/09</td>\n",
       "      <td>118.0</td>\n",
       "      <td>[{'iso_639_1': 'ko', 'name': '한국어/조선말'}]</td>\n",
       "      <td>Released</td>\n",
       "      <td>NaN</td>\n",
       "      <td>Marine Boy</td>\n",
       "      <td>NaN</td>\n",
       "      <td>[{'cast_id': 3, 'character': 'Chun-soo', 'cred...</td>\n",
       "      <td>[{'credit_id': '52fe464b9251416c75073b43', 'de...</td>\n",
       "      <td>3923970</td>\n",
       "    </tr>\n",
       "  </tbody>\n",
       "</table>\n",
       "<p>5 rows × 23 columns</p>\n",
       "</div>"
      ],
      "text/plain": [
       "   id                              belongs_to_collection    budget  \\\n",
       "0   1  [{'id': 313576, 'name': 'Hot Tub Time Machine ...  14000000   \n",
       "1   2  [{'id': 107674, 'name': 'The Princess Diaries ...  40000000   \n",
       "2   3                                                NaN   3300000   \n",
       "3   4                                                NaN   1200000   \n",
       "4   5                                                NaN         0   \n",
       "\n",
       "                                              genres  \\\n",
       "0                     [{'id': 35, 'name': 'Comedy'}]   \n",
       "1  [{'id': 35, 'name': 'Comedy'}, {'id': 18, 'nam...   \n",
       "2                      [{'id': 18, 'name': 'Drama'}]   \n",
       "3  [{'id': 53, 'name': 'Thriller'}, {'id': 18, 'n...   \n",
       "4  [{'id': 28, 'name': 'Action'}, {'id': 53, 'nam...   \n",
       "\n",
       "                            homepage    imdb_id original_language  \\\n",
       "0                                NaN  tt2637294                en   \n",
       "1                                NaN  tt0368933                en   \n",
       "2  http://sonyclassics.com/whiplash/  tt2582802                en   \n",
       "3         http://kahaanithefilm.com/  tt1821480                hi   \n",
       "4                                NaN  tt1380152                ko   \n",
       "\n",
       "                             original_title  \\\n",
       "0                    Hot Tub Time Machine 2   \n",
       "1  The Princess Diaries 2: Royal Engagement   \n",
       "2                                  Whiplash   \n",
       "3                                   Kahaani   \n",
       "4                                      마린보이   \n",
       "\n",
       "                                            overview  popularity    ...     \\\n",
       "0  When Lou, who has become the \"father of the In...    6.575393    ...      \n",
       "1  Mia Thermopolis is now a college graduate and ...    8.248895    ...      \n",
       "2  Under the direction of a ruthless instructor, ...   64.299990    ...      \n",
       "3  Vidya Bagchi (Vidya Balan) arrives in Kolkata ...    3.174936    ...      \n",
       "4  Marine Boy is the story of a former national s...    1.148070    ...      \n",
       "\n",
       "  release_date runtime                                   spoken_languages  \\\n",
       "0      2/20/15    93.0           [{'iso_639_1': 'en', 'name': 'English'}]   \n",
       "1       8/6/04   113.0           [{'iso_639_1': 'en', 'name': 'English'}]   \n",
       "2     10/10/14   105.0           [{'iso_639_1': 'en', 'name': 'English'}]   \n",
       "3       3/9/12   122.0  [{'iso_639_1': 'en', 'name': 'English'}, {'iso...   \n",
       "4       2/5/09   118.0           [{'iso_639_1': 'ko', 'name': '한국어/조선말'}]   \n",
       "\n",
       "     status                                            tagline  \\\n",
       "0  Released  The Laws of Space and Time are About to be Vio...   \n",
       "1  Released  It can take a lifetime to find true love; she'...   \n",
       "2  Released    The road to greatness can take you to the edge.   \n",
       "3  Released                                                NaN   \n",
       "4  Released                                                NaN   \n",
       "\n",
       "                                      title  \\\n",
       "0                    Hot Tub Time Machine 2   \n",
       "1  The Princess Diaries 2: Royal Engagement   \n",
       "2                                  Whiplash   \n",
       "3                                   Kahaani   \n",
       "4                                Marine Boy   \n",
       "\n",
       "                                            Keywords  \\\n",
       "0  [{'id': 4379, 'name': 'time travel'}, {'id': 9...   \n",
       "1  [{'id': 2505, 'name': 'coronation'}, {'id': 42...   \n",
       "2  [{'id': 1416, 'name': 'jazz'}, {'id': 1523, 'n...   \n",
       "3  [{'id': 10092, 'name': 'mystery'}, {'id': 1054...   \n",
       "4                                                NaN   \n",
       "\n",
       "                                                cast  \\\n",
       "0  [{'cast_id': 4, 'character': 'Lou', 'credit_id...   \n",
       "1  [{'cast_id': 1, 'character': 'Mia Thermopolis'...   \n",
       "2  [{'cast_id': 5, 'character': 'Andrew Neimann',...   \n",
       "3  [{'cast_id': 1, 'character': 'Vidya Bagchi', '...   \n",
       "4  [{'cast_id': 3, 'character': 'Chun-soo', 'cred...   \n",
       "\n",
       "                                                crew   revenue  \n",
       "0  [{'credit_id': '59ac067c92514107af02c8c8', 'de...  12314651  \n",
       "1  [{'credit_id': '52fe43fe9251416c7502563d', 'de...  95149435  \n",
       "2  [{'credit_id': '54d5356ec3a3683ba0000039', 'de...  13092000  \n",
       "3  [{'credit_id': '52fe48779251416c9108d6eb', 'de...  16000000  \n",
       "4  [{'credit_id': '52fe464b9251416c75073b43', 'de...   3923970  \n",
       "\n",
       "[5 rows x 23 columns]"
      ]
     },
     "execution_count": 3,
     "metadata": {},
     "output_type": "execute_result"
    }
   ],
   "source": [
    "train = pd.read_csv('train.csv')\n",
    "test = pd.read_csv('test.csv')\n",
    "train.head()"
   ]
  },
  {
   "cell_type": "code",
   "execution_count": 4,
   "metadata": {
    "scrolled": true
   },
   "outputs": [
    {
     "name": "stdout",
     "output_type": "stream",
     "text": [
      "<class 'pandas.core.frame.DataFrame'>\n",
      "RangeIndex: 3000 entries, 0 to 2999\n",
      "Data columns (total 23 columns):\n",
      "id                       3000 non-null int64\n",
      "belongs_to_collection    604 non-null object\n",
      "budget                   3000 non-null int64\n",
      "genres                   2993 non-null object\n",
      "homepage                 946 non-null object\n",
      "imdb_id                  3000 non-null object\n",
      "original_language        3000 non-null object\n",
      "original_title           3000 non-null object\n",
      "overview                 2992 non-null object\n",
      "popularity               3000 non-null float64\n",
      "poster_path              2999 non-null object\n",
      "production_companies     2844 non-null object\n",
      "production_countries     2945 non-null object\n",
      "release_date             3000 non-null object\n",
      "runtime                  2998 non-null float64\n",
      "spoken_languages         2980 non-null object\n",
      "status                   3000 non-null object\n",
      "tagline                  2403 non-null object\n",
      "title                    3000 non-null object\n",
      "Keywords                 2724 non-null object\n",
      "cast                     2987 non-null object\n",
      "crew                     2984 non-null object\n",
      "revenue                  3000 non-null int64\n",
      "dtypes: float64(2), int64(3), object(18)\n",
      "memory usage: 539.1+ KB\n"
     ]
    }
   ],
   "source": [
    "train.info()"
   ]
  },
  {
   "cell_type": "markdown",
   "metadata": {},
   "source": [
    "## EDA\n",
    "It's likely features like budget, popularity, and release date will correlate strongly with revenue.  By contrast, features like poster path might not be helpful without extensive analysis."
   ]
  },
  {
   "cell_type": "code",
   "execution_count": 5,
   "metadata": {},
   "outputs": [
    {
     "data": {
      "text/plain": [
       "<matplotlib.axes._subplots.AxesSubplot at 0x1f4a7b28518>"
      ]
     },
     "execution_count": 5,
     "metadata": {},
     "output_type": "execute_result"
    },
    {
     "data": {
      "image/png": "[encoded data removed]",
      "text/plain": [
       "<matplotlib.figure.Figure at 0x1f4abaaccc0>"
      ]
     },
     "metadata": {
      "needs_background": "dark"
     },
     "output_type": "display_data"
    }
   ],
   "source": [
    "# Revenues are not uniformally distributed\n",
    "train['revenue'].hist(bins=25)"
   ]
  },
  {
   "cell_type": "code",
   "execution_count": 6,
   "metadata": {
    "scrolled": true
   },
   "outputs": [
    {
     "data": {
      "text/html": [
       "<div>\n",
       "<style scoped>\n",
       "    .dataframe tbody tr th:only-of-type {\n",
       "        vertical-align: middle;\n",
       "    }\n",
       "\n",
       "    .dataframe tbody tr th {\n",
       "        vertical-align: top;\n",
       "    }\n",
       "\n",
       "    .dataframe thead th {\n",
       "        text-align: right;\n",
       "    }\n",
       "</style>\n",
       "<table border=\"1\" class=\"dataframe\">\n",
       "  <thead>\n",
       "    <tr style=\"text-align: right;\">\n",
       "      <th></th>\n",
       "      <th>id</th>\n",
       "      <th>belongs_to_collection</th>\n",
       "      <th>budget</th>\n",
       "      <th>genres</th>\n",
       "      <th>homepage</th>\n",
       "      <th>imdb_id</th>\n",
       "      <th>original_language</th>\n",
       "      <th>original_title</th>\n",
       "      <th>overview</th>\n",
       "      <th>popularity</th>\n",
       "      <th>...</th>\n",
       "      <th>release_date</th>\n",
       "      <th>runtime</th>\n",
       "      <th>spoken_languages</th>\n",
       "      <th>status</th>\n",
       "      <th>tagline</th>\n",
       "      <th>title</th>\n",
       "      <th>Keywords</th>\n",
       "      <th>cast</th>\n",
       "      <th>crew</th>\n",
       "      <th>revenue</th>\n",
       "    </tr>\n",
       "  </thead>\n",
       "  <tbody>\n",
       "    <tr>\n",
       "      <th>347</th>\n",
       "      <td>348</td>\n",
       "      <td>NaN</td>\n",
       "      <td>12</td>\n",
       "      <td>[{'id': 14, 'name': 'Fantasy'}, {'id': 18, 'na...</td>\n",
       "      <td>NaN</td>\n",
       "      <td>tt0118172</td>\n",
       "      <td>en</td>\n",
       "      <td>The Wind in the Willows</td>\n",
       "      <td>Jailed for his reckless driving, rambunctious ...</td>\n",
       "      <td>1.410322</td>\n",
       "      <td>...</td>\n",
       "      <td>10/16/96</td>\n",
       "      <td>84.0</td>\n",
       "      <td>[{'iso_639_1': 'en', 'name': 'English'}, {'iso...</td>\n",
       "      <td>Released</td>\n",
       "      <td>Go wild in the country!</td>\n",
       "      <td>The Wind in the Willows</td>\n",
       "      <td>NaN</td>\n",
       "      <td>[{'cast_id': 2, 'character': 'Toad', 'credit_i...</td>\n",
       "      <td>[{'credit_id': '59ce7655c3a3686aca01a522', 'de...</td>\n",
       "      <td>1</td>\n",
       "    </tr>\n",
       "    <tr>\n",
       "      <th>1754</th>\n",
       "      <td>1755</td>\n",
       "      <td>NaN</td>\n",
       "      <td>2</td>\n",
       "      <td>[{'id': 53, 'name': 'Thriller'}, {'id': 10769,...</td>\n",
       "      <td>NaN</td>\n",
       "      <td>tt0110604</td>\n",
       "      <td>en</td>\n",
       "      <td>Mute Witness</td>\n",
       "      <td>Billy is mute, but it hasn't kept her from bec...</td>\n",
       "      <td>2.466066</td>\n",
       "      <td>...</td>\n",
       "      <td>9/28/95</td>\n",
       "      <td>95.0</td>\n",
       "      <td>[{'iso_639_1': 'ru', 'name': 'Pусский'}, {'iso...</td>\n",
       "      <td>Released</td>\n",
       "      <td>She Can't Speak. She Can't Scream. She Can't B...</td>\n",
       "      <td>Mute Witness</td>\n",
       "      <td>[{'id': 3713, 'name': 'chase'}, {'id': 6149, '...</td>\n",
       "      <td>[{'cast_id': 22, 'character': 'Billy Hughes', ...</td>\n",
       "      <td>[{'credit_id': '52fe4775c3a36847f8136af1', 'de...</td>\n",
       "      <td>1</td>\n",
       "    </tr>\n",
       "    <tr>\n",
       "      <th>1917</th>\n",
       "      <td>1918</td>\n",
       "      <td>NaN</td>\n",
       "      <td>592</td>\n",
       "      <td>[{'id': 10749, 'name': 'Romance'}, {'id': 18, ...</td>\n",
       "      <td>NaN</td>\n",
       "      <td>tt0016104</td>\n",
       "      <td>en</td>\n",
       "      <td>The Merry Widow</td>\n",
       "      <td>Prince Danilo falls in love with dancer Sally ...</td>\n",
       "      <td>0.286719</td>\n",
       "      <td>...</td>\n",
       "      <td>8/26/25</td>\n",
       "      <td>137.0</td>\n",
       "      <td>NaN</td>\n",
       "      <td>Released</td>\n",
       "      <td>NaN</td>\n",
       "      <td>The Merry Widow</td>\n",
       "      <td>[{'id': 1691, 'name': 'dance'}, {'id': 10181, ...</td>\n",
       "      <td>[{'cast_id': 2, 'character': \"Sally O'Hara\", '...</td>\n",
       "      <td>[{'credit_id': '57351170c3a36802410000d5', 'de...</td>\n",
       "      <td>1</td>\n",
       "    </tr>\n",
       "    <tr>\n",
       "      <th>1874</th>\n",
       "      <td>1875</td>\n",
       "      <td>NaN</td>\n",
       "      <td>0</td>\n",
       "      <td>[{'id': 80, 'name': 'Crime'}, {'id': 18, 'name...</td>\n",
       "      <td>http://www.vt4.be/vermist</td>\n",
       "      <td>tt1133617</td>\n",
       "      <td>en</td>\n",
       "      <td>Vermist</td>\n",
       "      <td>Five members of the Missing Persons Task Force...</td>\n",
       "      <td>0.229233</td>\n",
       "      <td>...</td>\n",
       "      <td>1/1/07</td>\n",
       "      <td>0.0</td>\n",
       "      <td>[{'iso_639_1': 'nl', 'name': 'Nederlands'}]</td>\n",
       "      <td>Released</td>\n",
       "      <td>NaN</td>\n",
       "      <td>Missing</td>\n",
       "      <td>NaN</td>\n",
       "      <td>[{'cast_id': 2, 'character': 'Murat Hoxha', 'c...</td>\n",
       "      <td>[{'credit_id': '52fe4838c3a36847f815cef1', 'de...</td>\n",
       "      <td>1</td>\n",
       "    </tr>\n",
       "    <tr>\n",
       "      <th>695</th>\n",
       "      <td>696</td>\n",
       "      <td>NaN</td>\n",
       "      <td>1</td>\n",
       "      <td>[{'id': 10749, 'name': 'Romance'}, {'id': 53, ...</td>\n",
       "      <td>NaN</td>\n",
       "      <td>tt0374271</td>\n",
       "      <td>hi</td>\n",
       "      <td>Tere Naam</td>\n",
       "      <td>Lower Caste Radhey Mohan is a no good slacker,...</td>\n",
       "      <td>1.280455</td>\n",
       "      <td>...</td>\n",
       "      <td>8/15/03</td>\n",
       "      <td>132.0</td>\n",
       "      <td>[{'iso_639_1': 'hi', 'name': 'हिन्दी'}]</td>\n",
       "      <td>Released</td>\n",
       "      <td>Unfortunately a true love story</td>\n",
       "      <td>Tere Naam</td>\n",
       "      <td>NaN</td>\n",
       "      <td>[{'cast_id': 3, 'character': 'Radhe Mohan', 'c...</td>\n",
       "      <td>[{'credit_id': '52fe491ec3a36847f8189cfb', 'de...</td>\n",
       "      <td>2</td>\n",
       "    </tr>\n",
       "  </tbody>\n",
       "</table>\n",
       "<p>5 rows × 23 columns</p>\n",
       "</div>"
      ],
      "text/plain": [
       "        id belongs_to_collection  budget  \\\n",
       "347    348                   NaN      12   \n",
       "1754  1755                   NaN       2   \n",
       "1917  1918                   NaN     592   \n",
       "1874  1875                   NaN       0   \n",
       "695    696                   NaN       1   \n",
       "\n",
       "                                                 genres  \\\n",
       "347   [{'id': 14, 'name': 'Fantasy'}, {'id': 18, 'na...   \n",
       "1754  [{'id': 53, 'name': 'Thriller'}, {'id': 10769,...   \n",
       "1917  [{'id': 10749, 'name': 'Romance'}, {'id': 18, ...   \n",
       "1874  [{'id': 80, 'name': 'Crime'}, {'id': 18, 'name...   \n",
       "695   [{'id': 10749, 'name': 'Romance'}, {'id': 53, ...   \n",
       "\n",
       "                       homepage    imdb_id original_language  \\\n",
       "347                         NaN  tt0118172                en   \n",
       "1754                        NaN  tt0110604                en   \n",
       "1917                        NaN  tt0016104                en   \n",
       "1874  http://www.vt4.be/vermist  tt1133617                en   \n",
       "695                         NaN  tt0374271                hi   \n",
       "\n",
       "               original_title  \\\n",
       "347   The Wind in the Willows   \n",
       "1754             Mute Witness   \n",
       "1917          The Merry Widow   \n",
       "1874                  Vermist   \n",
       "695                 Tere Naam   \n",
       "\n",
       "                                               overview  popularity   ...    \\\n",
       "347   Jailed for his reckless driving, rambunctious ...    1.410322   ...     \n",
       "1754  Billy is mute, but it hasn't kept her from bec...    2.466066   ...     \n",
       "1917  Prince Danilo falls in love with dancer Sally ...    0.286719   ...     \n",
       "1874  Five members of the Missing Persons Task Force...    0.229233   ...     \n",
       "695   Lower Caste Radhey Mohan is a no good slacker,...    1.280455   ...     \n",
       "\n",
       "     release_date runtime                                   spoken_languages  \\\n",
       "347      10/16/96    84.0  [{'iso_639_1': 'en', 'name': 'English'}, {'iso...   \n",
       "1754      9/28/95    95.0  [{'iso_639_1': 'ru', 'name': 'Pусский'}, {'iso...   \n",
       "1917      8/26/25   137.0                                                NaN   \n",
       "1874       1/1/07     0.0        [{'iso_639_1': 'nl', 'name': 'Nederlands'}]   \n",
       "695       8/15/03   132.0            [{'iso_639_1': 'hi', 'name': 'हिन्दी'}]   \n",
       "\n",
       "        status                                            tagline  \\\n",
       "347   Released                            Go wild in the country!   \n",
       "1754  Released  She Can't Speak. She Can't Scream. She Can't B...   \n",
       "1917  Released                                                NaN   \n",
       "1874  Released                                                NaN   \n",
       "695   Released                    Unfortunately a true love story   \n",
       "\n",
       "                        title  \\\n",
       "347   The Wind in the Willows   \n",
       "1754             Mute Witness   \n",
       "1917          The Merry Widow   \n",
       "1874                  Missing   \n",
       "695                 Tere Naam   \n",
       "\n",
       "                                               Keywords  \\\n",
       "347                                                 NaN   \n",
       "1754  [{'id': 3713, 'name': 'chase'}, {'id': 6149, '...   \n",
       "1917  [{'id': 1691, 'name': 'dance'}, {'id': 10181, ...   \n",
       "1874                                                NaN   \n",
       "695                                                 NaN   \n",
       "\n",
       "                                                   cast  \\\n",
       "347   [{'cast_id': 2, 'character': 'Toad', 'credit_i...   \n",
       "1754  [{'cast_id': 22, 'character': 'Billy Hughes', ...   \n",
       "1917  [{'cast_id': 2, 'character': \"Sally O'Hara\", '...   \n",
       "1874  [{'cast_id': 2, 'character': 'Murat Hoxha', 'c...   \n",
       "695   [{'cast_id': 3, 'character': 'Radhe Mohan', 'c...   \n",
       "\n",
       "                                                   crew revenue  \n",
       "347   [{'credit_id': '59ce7655c3a3686aca01a522', 'de...       1  \n",
       "1754  [{'credit_id': '52fe4775c3a36847f8136af1', 'de...       1  \n",
       "1917  [{'credit_id': '57351170c3a36802410000d5', 'de...       1  \n",
       "1874  [{'credit_id': '52fe4838c3a36847f815cef1', 'de...       1  \n",
       "695   [{'credit_id': '52fe491ec3a36847f8189cfb', 'de...       2  \n",
       "\n",
       "[5 rows x 23 columns]"
      ]
     },
     "execution_count": 6,
     "metadata": {},
     "output_type": "execute_result"
    }
   ],
   "source": [
    "# When comparing the listed revenues with their actual values found online, \n",
    "# it's clear the values given here are not accurate.\n",
    "train.sort_values('revenue').head()"
   ]
  },
  {
   "cell_type": "code",
   "execution_count": 7,
   "metadata": {},
   "outputs": [
    {
     "data": {
      "text/plain": [
       "<matplotlib.axes._subplots.AxesSubplot at 0x1f4a65f0cc0>"
      ]
     },
     "execution_count": 7,
     "metadata": {},
     "output_type": "execute_result"
    },
    {
     "data": {
      "image/png": "[encoded data removed]",
      "text/plain": [
       "<matplotlib.figure.Figure at 0x1f4a7c07fd0>"
      ]
     },
     "metadata": {
      "needs_background": "dark"
     },
     "output_type": "display_data"
    }
   ],
   "source": [
    "# Budget is also skewed.\n",
    "train['budget'].hist(bins=25)"
   ]
  },
  {
   "cell_type": "code",
   "execution_count": 8,
   "metadata": {},
   "outputs": [
    {
     "data": {
      "text/plain": [
       "count    3.000000e+03\n",
       "mean     2.253133e+07\n",
       "std      3.702609e+07\n",
       "min      0.000000e+00\n",
       "25%      0.000000e+00\n",
       "50%      8.000000e+06\n",
       "75%      2.900000e+07\n",
       "max      3.800000e+08\n",
       "Name: budget, dtype: float64"
      ]
     },
     "execution_count": 8,
     "metadata": {},
     "output_type": "execute_result"
    }
   ],
   "source": [
    "# $0 budget for some movies?\n",
    "train['budget'].describe()"
   ]
  },
  {
   "cell_type": "code",
   "execution_count": 9,
   "metadata": {
    "scrolled": true
   },
   "outputs": [
    {
     "name": "stdout",
     "output_type": "stream",
     "text": [
      "Movies with 0$ Budget: 812\n"
     ]
    },
    {
     "data": {
      "text/html": [
       "<div>\n",
       "<style scoped>\n",
       "    .dataframe tbody tr th:only-of-type {\n",
       "        vertical-align: middle;\n",
       "    }\n",
       "\n",
       "    .dataframe tbody tr th {\n",
       "        vertical-align: top;\n",
       "    }\n",
       "\n",
       "    .dataframe thead th {\n",
       "        text-align: right;\n",
       "    }\n",
       "</style>\n",
       "<table border=\"1\" class=\"dataframe\">\n",
       "  <thead>\n",
       "    <tr style=\"text-align: right;\">\n",
       "      <th></th>\n",
       "      <th>id</th>\n",
       "      <th>belongs_to_collection</th>\n",
       "      <th>budget</th>\n",
       "      <th>genres</th>\n",
       "      <th>homepage</th>\n",
       "      <th>imdb_id</th>\n",
       "      <th>original_language</th>\n",
       "      <th>original_title</th>\n",
       "      <th>overview</th>\n",
       "      <th>popularity</th>\n",
       "      <th>...</th>\n",
       "      <th>release_date</th>\n",
       "      <th>runtime</th>\n",
       "      <th>spoken_languages</th>\n",
       "      <th>status</th>\n",
       "      <th>tagline</th>\n",
       "      <th>title</th>\n",
       "      <th>Keywords</th>\n",
       "      <th>cast</th>\n",
       "      <th>crew</th>\n",
       "      <th>revenue</th>\n",
       "    </tr>\n",
       "  </thead>\n",
       "  <tbody>\n",
       "    <tr>\n",
       "      <th>4</th>\n",
       "      <td>5</td>\n",
       "      <td>NaN</td>\n",
       "      <td>0</td>\n",
       "      <td>[{'id': 28, 'name': 'Action'}, {'id': 53, 'nam...</td>\n",
       "      <td>NaN</td>\n",
       "      <td>tt1380152</td>\n",
       "      <td>ko</td>\n",
       "      <td>마린보이</td>\n",
       "      <td>Marine Boy is the story of a former national s...</td>\n",
       "      <td>1.148070</td>\n",
       "      <td>...</td>\n",
       "      <td>2/5/09</td>\n",
       "      <td>118.0</td>\n",
       "      <td>[{'iso_639_1': 'ko', 'name': '한국어/조선말'}]</td>\n",
       "      <td>Released</td>\n",
       "      <td>NaN</td>\n",
       "      <td>Marine Boy</td>\n",
       "      <td>NaN</td>\n",
       "      <td>[{'cast_id': 3, 'character': 'Chun-soo', 'cred...</td>\n",
       "      <td>[{'credit_id': '52fe464b9251416c75073b43', 'de...</td>\n",
       "      <td>3923970</td>\n",
       "    </tr>\n",
       "    <tr>\n",
       "      <th>7</th>\n",
       "      <td>8</td>\n",
       "      <td>NaN</td>\n",
       "      <td>0</td>\n",
       "      <td>[{'id': 99, 'name': 'Documentary'}]</td>\n",
       "      <td>NaN</td>\n",
       "      <td>tt0391024</td>\n",
       "      <td>en</td>\n",
       "      <td>Control Room</td>\n",
       "      <td>A chronicle which provides a rare window into ...</td>\n",
       "      <td>1.949044</td>\n",
       "      <td>...</td>\n",
       "      <td>1/15/04</td>\n",
       "      <td>84.0</td>\n",
       "      <td>[{'iso_639_1': 'ar', 'name': 'العربية'}, {'iso...</td>\n",
       "      <td>Released</td>\n",
       "      <td>Different channels. Different truths.</td>\n",
       "      <td>Control Room</td>\n",
       "      <td>[{'id': 917, 'name': 'journalism'}, {'id': 163...</td>\n",
       "      <td>[{'cast_id': 2, 'character': 'Himself', 'credi...</td>\n",
       "      <td>[{'credit_id': '52fe47a69251416c750a0daf', 'de...</td>\n",
       "      <td>2586511</td>\n",
       "    </tr>\n",
       "    <tr>\n",
       "      <th>8</th>\n",
       "      <td>9</td>\n",
       "      <td>[{'id': 256377, 'name': 'The Muppet Collection...</td>\n",
       "      <td>0</td>\n",
       "      <td>[{'id': 28, 'name': 'Action'}, {'id': 35, 'nam...</td>\n",
       "      <td>NaN</td>\n",
       "      <td>tt0117110</td>\n",
       "      <td>en</td>\n",
       "      <td>Muppet Treasure Island</td>\n",
       "      <td>After telling the story of Flint's last journe...</td>\n",
       "      <td>6.902423</td>\n",
       "      <td>...</td>\n",
       "      <td>2/16/96</td>\n",
       "      <td>100.0</td>\n",
       "      <td>[{'iso_639_1': 'en', 'name': 'English'}]</td>\n",
       "      <td>Released</td>\n",
       "      <td>Set sail for Muppet mayhem!</td>\n",
       "      <td>Muppet Treasure Island</td>\n",
       "      <td>[{'id': 2041, 'name': 'island'}, {'id': 4418, ...</td>\n",
       "      <td>[{'cast_id': 1, 'character': 'Long John Silver...</td>\n",
       "      <td>[{'credit_id': '52fe43c89251416c7501deb3', 'de...</td>\n",
       "      <td>34327391</td>\n",
       "    </tr>\n",
       "    <tr>\n",
       "      <th>11</th>\n",
       "      <td>12</td>\n",
       "      <td>[{'id': 48190, 'name': 'Revenge of the Nerds C...</td>\n",
       "      <td>0</td>\n",
       "      <td>[{'id': 35, 'name': 'Comedy'}]</td>\n",
       "      <td>NaN</td>\n",
       "      <td>tt0093857</td>\n",
       "      <td>en</td>\n",
       "      <td>Revenge of the Nerds II: Nerds in Paradise</td>\n",
       "      <td>The members of the Lambda Lambda Lambda frater...</td>\n",
       "      <td>10.543750</td>\n",
       "      <td>...</td>\n",
       "      <td>7/10/87</td>\n",
       "      <td>98.0</td>\n",
       "      <td>[{'iso_639_1': 'en', 'name': 'English'}]</td>\n",
       "      <td>Released</td>\n",
       "      <td>They're Back!</td>\n",
       "      <td>Revenge of the Nerds II: Nerds in Paradise</td>\n",
       "      <td>[{'id': 5801, 'name': 'nerd'}, {'id': 6876, 'n...</td>\n",
       "      <td>[{'cast_id': 2, 'character': 'Lewis Skolnick',...</td>\n",
       "      <td>[{'credit_id': '52fe46f49251416c750891e9', 'de...</td>\n",
       "      <td>22642033</td>\n",
       "    </tr>\n",
       "    <tr>\n",
       "      <th>17</th>\n",
       "      <td>18</td>\n",
       "      <td>NaN</td>\n",
       "      <td>0</td>\n",
       "      <td>[{'id': 18, 'name': 'Drama'}, {'id': 10749, 'n...</td>\n",
       "      <td>NaN</td>\n",
       "      <td>tt1700845</td>\n",
       "      <td>en</td>\n",
       "      <td>The Invisible Woman</td>\n",
       "      <td>In 1857, at the height of his fame and fortune...</td>\n",
       "      <td>4.183558</td>\n",
       "      <td>...</td>\n",
       "      <td>12/25/13</td>\n",
       "      <td>111.0</td>\n",
       "      <td>[{'iso_639_1': 'en', 'name': 'English'}]</td>\n",
       "      <td>Released</td>\n",
       "      <td>His greatest story was the one he could never ...</td>\n",
       "      <td>The Invisible Woman</td>\n",
       "      <td>[{'id': 5565, 'name': 'biography'}, {'id': 180...</td>\n",
       "      <td>[{'cast_id': 7, 'character': 'Charles Dickens'...</td>\n",
       "      <td>[{'credit_id': '53b94a260e0a2676c7009b37', 'de...</td>\n",
       "      <td>1234254</td>\n",
       "    </tr>\n",
       "  </tbody>\n",
       "</table>\n",
       "<p>5 rows × 23 columns</p>\n",
       "</div>"
      ],
      "text/plain": [
       "    id                              belongs_to_collection  budget  \\\n",
       "4    5                                                NaN       0   \n",
       "7    8                                                NaN       0   \n",
       "8    9  [{'id': 256377, 'name': 'The Muppet Collection...       0   \n",
       "11  12  [{'id': 48190, 'name': 'Revenge of the Nerds C...       0   \n",
       "17  18                                                NaN       0   \n",
       "\n",
       "                                               genres homepage    imdb_id  \\\n",
       "4   [{'id': 28, 'name': 'Action'}, {'id': 53, 'nam...      NaN  tt1380152   \n",
       "7                 [{'id': 99, 'name': 'Documentary'}]      NaN  tt0391024   \n",
       "8   [{'id': 28, 'name': 'Action'}, {'id': 35, 'nam...      NaN  tt0117110   \n",
       "11                     [{'id': 35, 'name': 'Comedy'}]      NaN  tt0093857   \n",
       "17  [{'id': 18, 'name': 'Drama'}, {'id': 10749, 'n...      NaN  tt1700845   \n",
       "\n",
       "   original_language                              original_title  \\\n",
       "4                 ko                                        마린보이   \n",
       "7                 en                                Control Room   \n",
       "8                 en                      Muppet Treasure Island   \n",
       "11                en  Revenge of the Nerds II: Nerds in Paradise   \n",
       "17                en                         The Invisible Woman   \n",
       "\n",
       "                                             overview  popularity    ...     \\\n",
       "4   Marine Boy is the story of a former national s...    1.148070    ...      \n",
       "7   A chronicle which provides a rare window into ...    1.949044    ...      \n",
       "8   After telling the story of Flint's last journe...    6.902423    ...      \n",
       "11  The members of the Lambda Lambda Lambda frater...   10.543750    ...      \n",
       "17  In 1857, at the height of his fame and fortune...    4.183558    ...      \n",
       "\n",
       "   release_date runtime                                   spoken_languages  \\\n",
       "4        2/5/09   118.0           [{'iso_639_1': 'ko', 'name': '한국어/조선말'}]   \n",
       "7       1/15/04    84.0  [{'iso_639_1': 'ar', 'name': 'العربية'}, {'iso...   \n",
       "8       2/16/96   100.0           [{'iso_639_1': 'en', 'name': 'English'}]   \n",
       "11      7/10/87    98.0           [{'iso_639_1': 'en', 'name': 'English'}]   \n",
       "17     12/25/13   111.0           [{'iso_639_1': 'en', 'name': 'English'}]   \n",
       "\n",
       "      status                                            tagline  \\\n",
       "4   Released                                                NaN   \n",
       "7   Released              Different channels. Different truths.   \n",
       "8   Released                        Set sail for Muppet mayhem!   \n",
       "11  Released                                      They're Back!   \n",
       "17  Released  His greatest story was the one he could never ...   \n",
       "\n",
       "                                         title  \\\n",
       "4                                   Marine Boy   \n",
       "7                                 Control Room   \n",
       "8                       Muppet Treasure Island   \n",
       "11  Revenge of the Nerds II: Nerds in Paradise   \n",
       "17                         The Invisible Woman   \n",
       "\n",
       "                                             Keywords  \\\n",
       "4                                                 NaN   \n",
       "7   [{'id': 917, 'name': 'journalism'}, {'id': 163...   \n",
       "8   [{'id': 2041, 'name': 'island'}, {'id': 4418, ...   \n",
       "11  [{'id': 5801, 'name': 'nerd'}, {'id': 6876, 'n...   \n",
       "17  [{'id': 5565, 'name': 'biography'}, {'id': 180...   \n",
       "\n",
       "                                                 cast  \\\n",
       "4   [{'cast_id': 3, 'character': 'Chun-soo', 'cred...   \n",
       "7   [{'cast_id': 2, 'character': 'Himself', 'credi...   \n",
       "8   [{'cast_id': 1, 'character': 'Long John Silver...   \n",
       "11  [{'cast_id': 2, 'character': 'Lewis Skolnick',...   \n",
       "17  [{'cast_id': 7, 'character': 'Charles Dickens'...   \n",
       "\n",
       "                                                 crew   revenue  \n",
       "4   [{'credit_id': '52fe464b9251416c75073b43', 'de...   3923970  \n",
       "7   [{'credit_id': '52fe47a69251416c750a0daf', 'de...   2586511  \n",
       "8   [{'credit_id': '52fe43c89251416c7501deb3', 'de...  34327391  \n",
       "11  [{'credit_id': '52fe46f49251416c750891e9', 'de...  22642033  \n",
       "17  [{'credit_id': '53b94a260e0a2676c7009b37', 'de...   1234254  \n",
       "\n",
       "[5 rows x 23 columns]"
      ]
     },
     "execution_count": 9,
     "metadata": {},
     "output_type": "execute_result"
    }
   ],
   "source": [
    "print('Movies with 0$ Budget:', len(train[train['budget'] == 0]))\n",
    "train[train['budget'] == 0].head()"
   ]
  },
  {
   "cell_type": "markdown",
   "metadata": {},
   "source": [
    "I'll come back to budget and update the values using a linear regression approach.  But it will be helpful to have as much information as possible for other features like runtime as this might affect the total budget."
   ]
  },
  {
   "cell_type": "code",
   "execution_count": 10,
   "metadata": {
    "scrolled": true
   },
   "outputs": [],
   "source": [
    "# Create columns for year, month, and day of week\n",
    "train['release_date'] = pd.to_datetime(train['release_date'], infer_datetime_format=True)\n",
    "train['release_day'] = train['release_date'].apply(lambda t: t.day)\n",
    "train['release_weekday'] = train['release_date'].apply(lambda t: t.weekday())\n",
    "train['release_month'] = train['release_date'].apply(lambda t: t.month)\n",
    "# Year was being interpreted as future dates in some cases so I had to adjust some values\n",
    "train['release_year'] = train['release_date'].apply(lambda t: t.year if t.year < 2018 else t.year -100)\n",
    "\n",
    "#train.drop('release_date', inplace=True)"
   ]
  },
  {
   "cell_type": "code",
   "execution_count": 11,
   "metadata": {},
   "outputs": [
    {
     "data": {
      "text/plain": [
       "<matplotlib.axes._subplots.AxesSubplot at 0x1f4a7cbfe80>"
      ]
     },
     "execution_count": 11,
     "metadata": {},
     "output_type": "execute_result"
    },
    {
     "data": {
      "image/png": "[encoded data removed]",
      "text/plain": [
       "<matplotlib.figure.Figure at 0x1f4a7c4fcc0>"
      ]
     },
     "metadata": {
      "needs_background": "dark"
     },
     "output_type": "display_data"
    }
   ],
   "source": [
    "train['runtime'].hist(bins=25)"
   ]
  },
  {
   "cell_type": "code",
   "execution_count": 12,
   "metadata": {
    "scrolled": true
   },
   "outputs": [
    {
     "data": {
      "text/plain": [
       "12"
      ]
     },
     "execution_count": 12,
     "metadata": {},
     "output_type": "execute_result"
    }
   ],
   "source": [
    "len(train[train['runtime'] == 0])"
   ]
  },
  {
   "cell_type": "code",
   "execution_count": 13,
   "metadata": {},
   "outputs": [],
   "source": [
    "# I'll write a function that will map the average runtime for each year to movies with 0 runtie.\n",
    "from collections import defaultdict\n",
    "def map_runtime(df):\n",
    "    df['runtime'].fillna(0)\n",
    "    \n",
    "    run = df[(df['runtime'].notnull()) & (df['runtime'] != 0)]\n",
    "    year_mean = run.groupby(['release_year'])['runtime'].agg('mean')\n",
    "    d = dict(year_mean)\n",
    "    \n",
    "    for i in df[df['runtime'] == 0]:\n",
    "        df['runtime'] = df.loc[:, 'release_year'].map(d)\n",
    "    \n",
    "    return df"
   ]
  },
  {
   "cell_type": "code",
   "execution_count": 14,
   "metadata": {
    "scrolled": true
   },
   "outputs": [
    {
     "data": {
      "text/plain": [
       "count    3000.000000\n",
       "mean      108.286306\n",
       "std         5.871085\n",
       "min        53.666667\n",
       "25%       105.609756\n",
       "50%       107.666667\n",
       "75%       109.673267\n",
       "max       152.800000\n",
       "Name: runtime, dtype: float64"
      ]
     },
     "execution_count": 14,
     "metadata": {},
     "output_type": "execute_result"
    }
   ],
   "source": [
    "train = map_runtime(train)\n",
    "train.runtime.describe()"
   ]
  },
  {
   "cell_type": "code",
   "execution_count": 15,
   "metadata": {},
   "outputs": [
    {
     "data": {
      "text/plain": [
       "0                                  NaN\n",
       "1                                  NaN\n",
       "2    http://sonyclassics.com/whiplash/\n",
       "3           http://kahaanithefilm.com/\n",
       "4                                  NaN\n",
       "Name: homepage, dtype: object"
      ]
     },
     "execution_count": 15,
     "metadata": {},
     "output_type": "execute_result"
    }
   ],
   "source": [
    "train['homepage'].head()"
   ]
  },
  {
   "cell_type": "code",
   "execution_count": 16,
   "metadata": {
    "scrolled": true
   },
   "outputs": [],
   "source": [
    "# For homepage, I'll change it to 0 for NaN and 1 if a page is listed.\n",
    "train['homepage'].fillna(0, inplace=True)\n",
    "train.loc[train['homepage'] != 0, 'homepage'] = 1"
   ]
  },
  {
   "cell_type": "code",
   "execution_count": 17,
   "metadata": {},
   "outputs": [
    {
     "data": {
      "text/plain": [
       "0    /tQtWuwvMf0hCc2QR2tkolwl7c3c.jpg\n",
       "1    /w9Z7A0GHEhIp7etpj0vyKOeU1Wx.jpg\n",
       "2    /lIv1QinFqz4dlp5U4lQ6HaiskOZ.jpg\n",
       "3    /aTXRaPrWSinhcmCrcfJK17urp3F.jpg\n",
       "4    /m22s7zvkVFDU9ir56PiiqIEWFdT.jpg\n",
       "Name: poster_path, dtype: object"
      ]
     },
     "execution_count": 17,
     "metadata": {},
     "output_type": "execute_result"
    }
   ],
   "source": [
    "train['poster_path'].head()"
   ]
  },
  {
   "cell_type": "code",
   "execution_count": 18,
   "metadata": {},
   "outputs": [],
   "source": [
    "# For poster_path, I'll change it to 0 for NaN and 1 if a path is listed.\n",
    "train['poster_path'].fillna(0, inplace=True)\n",
    "train.loc[train['poster_path'] != 0, 'poster_path'] = 1"
   ]
  },
  {
   "cell_type": "code",
   "execution_count": 19,
   "metadata": {},
   "outputs": [
    {
     "data": {
      "text/plain": [
       "count                              2993\n",
       "unique                              872\n",
       "top       [{'id': 18, 'name': 'Drama'}]\n",
       "freq                                266\n",
       "Name: genres, dtype: object"
      ]
     },
     "execution_count": 19,
     "metadata": {},
     "output_type": "execute_result"
    }
   ],
   "source": [
    "train['genres'].describe()"
   ]
  },
  {
   "cell_type": "code",
   "execution_count": 20,
   "metadata": {
    "scrolled": true
   },
   "outputs": [],
   "source": [
    "# For genres, I'll fill Na values with drama (most common).  Likely a better approach available.\n",
    "train.genres = train.genres.fillna('18')"
   ]
  },
  {
   "cell_type": "code",
   "execution_count": 21,
   "metadata": {},
   "outputs": [
    {
     "name": "stdout",
     "output_type": "stream",
     "text": [
      "id (0.017909195885463886, 0.40241828602089913)\n",
      "budget (1.0, 0.0)\n",
      "homepage (0.2417547039471847, 1.814358753007644e-30)\n",
      "popularity (0.3108474146149489, 3.1687924375628966e-50)\n",
      "poster_path (nan, 1.0)\n",
      "runtime (-0.01742233839140922, 0.4153330881417603)\n",
      "revenue (0.7398406428204244, 0.0)\n",
      "release_day (0.030095150789206496, 0.15935417726880094)\n",
      "release_weekday (-0.11927488136876276, 2.1934367661662928e-08)\n",
      "release_month (0.017836234957327154, 0.4043382369993158)\n",
      "release_year (0.25074968918533286, 1.0101895055833836e-32)\n"
     ]
    },
    {
     "name": "stderr",
     "output_type": "stream",
     "text": [
      "C:\\Users\\micha\\Anaconda3\\lib\\site-packages\\scipy\\stats\\stats.py:3010: RuntimeWarning: invalid value encountered in double_scalars\n",
      "  r = r_num / r_den\n",
      "C:\\Users\\micha\\Anaconda3\\lib\\site-packages\\scipy\\stats\\stats.py:5256: RuntimeWarning: invalid value encountered in less\n",
      "  x = np.where(x < 1.0, x, 1.0)  # if x > 1 then return 1.0\n"
     ]
    }
   ],
   "source": [
    "# To fill in zero budget data points, I'll try to use correlated values as predictors\n",
    "X = train[train['budget'] != 0]\n",
    "for i in X.select_dtypes(include='number', exclude='datetime'):\n",
    "    print(i, stats.pearsonr(X.budget, X[i]))"
   ]
  },
  {
   "cell_type": "code",
   "execution_count": 22,
   "metadata": {},
   "outputs": [],
   "source": [
    "# release_year and popularity correlate most strongly with budget\n",
    "def map_budget(df):\n",
    "    d = defaultdict()\n",
    "    #df['budget'] = df['budget'].fillna(0)\n",
    "    X = df[df['budget'] != 0]\n",
    "    \n",
    "    year_mean = pd.Series(X.groupby(['release_year'])['budget'].agg('mean'))\n",
    "    d = dict(year_mean)\n",
    "    \n",
    "    for i in df[df['budget'] == 0]:\n",
    "        df['budget'] = df.loc[:, 'release_year'].map(d)\n",
    "    \n",
    "    # In a few cases, there are only 1 or 2 movies provided from a given year and are filled with Na values\n",
    "    df.budget = df.sort_values(by='release_year').budget.fillna(method='ffill')\n",
    "    \n",
    "    return df"
   ]
  },
  {
   "cell_type": "code",
   "execution_count": 23,
   "metadata": {},
   "outputs": [
    {
     "data": {
      "text/plain": [
       "count    3.000000e+03\n",
       "mean     3.026364e+07\n",
       "std      1.234361e+07\n",
       "min      5.920000e+02\n",
       "25%      2.130938e+07\n",
       "50%      3.376819e+07\n",
       "75%      3.937068e+07\n",
       "max      7.041973e+07\n",
       "Name: budget, dtype: float64"
      ]
     },
     "execution_count": 23,
     "metadata": {},
     "output_type": "execute_result"
    }
   ],
   "source": [
    "train = map_budget(train)\n",
    "train.budget.describe()"
   ]
  },
  {
   "cell_type": "code",
   "execution_count": 24,
   "metadata": {},
   "outputs": [
    {
     "data": {
      "text/plain": [
       "0    [{'id': 313576, 'name': 'Hot Tub Time Machine ...\n",
       "1    [{'id': 107674, 'name': 'The Princess Diaries ...\n",
       "2                                                  NaN\n",
       "3                                                  NaN\n",
       "4                                                  NaN\n",
       "Name: belongs_to_collection, dtype: object"
      ]
     },
     "execution_count": 24,
     "metadata": {},
     "output_type": "execute_result"
    }
   ],
   "source": [
    "train['belongs_to_collection'].head()"
   ]
  },
  {
   "cell_type": "code",
   "execution_count": 25,
   "metadata": {},
   "outputs": [],
   "source": [
    "# belongs_to_collection NaN values can be replaced with 'none'\n",
    "train['belongs_to_collection'] = train['belongs_to_collection'].fillna('none')"
   ]
  },
  {
   "cell_type": "code",
   "execution_count": 26,
   "metadata": {},
   "outputs": [
    {
     "data": {
      "text/plain": [
       "0             [{'iso_639_1': 'en', 'name': 'English'}]\n",
       "1             [{'iso_639_1': 'en', 'name': 'English'}]\n",
       "2             [{'iso_639_1': 'en', 'name': 'English'}]\n",
       "3    [{'iso_639_1': 'en', 'name': 'English'}, {'iso...\n",
       "4             [{'iso_639_1': 'ko', 'name': '한국어/조선말'}]\n",
       "Name: spoken_languages, dtype: object"
      ]
     },
     "execution_count": 26,
     "metadata": {},
     "output_type": "execute_result"
    }
   ],
   "source": [
    "train['spoken_languages'].head()"
   ]
  },
  {
   "cell_type": "code",
   "execution_count": 27,
   "metadata": {
    "scrolled": true
   },
   "outputs": [
    {
     "data": {
      "text/plain": [
       "[{'iso_639_1': 'en', 'name': 'English'}]                                                                                                                                                                                                             1817\n",
       "[{'iso_639_1': 'en', 'name': 'English'}, {'iso_639_1': 'es', 'name': 'Español'}]                                                                                                                                                                       86\n",
       "[{'iso_639_1': 'en', 'name': 'English'}, {'iso_639_1': 'fr', 'name': 'Français'}]                                                                                                                                                                      77\n",
       "[{'iso_639_1': 'ru', 'name': 'Pусский'}]                                                                                                                                                                                                               45\n",
       "[{'iso_639_1': 'fr', 'name': 'Français'}]                                                                                                                                                                                                              40\n",
       "[{'iso_639_1': 'en', 'name': 'English'}, {'iso_639_1': 'it', 'name': 'Italiano'}]                                                                                                                                                                      34\n",
       "[{'iso_639_1': 'hi', 'name': 'हिन्दी'}]                                                                                                                                                                                                                31\n",
       "[{'iso_639_1': 'es', 'name': 'Español'}]                                                                                                                                                                                                               29\n",
       "[{'iso_639_1': 'en', 'name': 'English'}, {'iso_639_1': 'ru', 'name': 'Pусский'}]                                                                                                                                                                       29\n",
       "[{'iso_639_1': 'es', 'name': 'Español'}, {'iso_639_1': 'en', 'name': 'English'}]                                                                                                                                                                       28\n",
       "[{'iso_639_1': 'en', 'name': 'English'}, {'iso_639_1': 'de', 'name': 'Deutsch'}]                                                                                                                                                                       28\n",
       "[{'iso_639_1': 'ja', 'name': '日本語'}]                                                                                                                                                                                                                   26\n",
       "[{'iso_639_1': 'fr', 'name': 'Français'}, {'iso_639_1': 'en', 'name': 'English'}]                                                                                                                                                                      23\n",
       "NaN                                                                                                                                                                                                                                                    20\n",
       "[{'iso_639_1': 'en', 'name': 'English'}, {'iso_639_1': 'pt', 'name': 'Português'}]                                                                                                                                                                     18\n",
       "[{'iso_639_1': 'it', 'name': 'Italiano'}]                                                                                                                                                                                                              15\n",
       "[{'iso_639_1': 'ta', 'name': 'தமிழ்'}]                                                                                                                                                                                                                 14\n",
       "[{'iso_639_1': 'ko', 'name': '한국어/조선말'}]                                                                                                                                                                                                               14\n",
       "[{'iso_639_1': 'en', 'name': 'English'}, {'iso_639_1': 'zh', 'name': '普通话'}]                                                                                                                                                                           12\n",
       "[{'iso_639_1': 'en', 'name': 'English'}, {'iso_639_1': 'fr', 'name': 'Français'}, {'iso_639_1': 'it', 'name': 'Italiano'}]                                                                                                                             12\n",
       "[{'iso_639_1': 'de', 'name': 'Deutsch'}]                                                                                                                                                                                                               11\n",
       "[{'iso_639_1': 'en', 'name': 'English'}, {'iso_639_1': 'fr', 'name': 'Français'}, {'iso_639_1': 'de', 'name': 'Deutsch'}]                                                                                                                              10\n",
       "[{'iso_639_1': 'en', 'name': 'English'}, {'iso_639_1': 'ja', 'name': '日本語'}]                                                                                                                                                                           10\n",
       "[{'iso_639_1': 'de', 'name': 'Deutsch'}, {'iso_639_1': 'en', 'name': 'English'}]                                                                                                                                                                       10\n",
       "[{'iso_639_1': 'cn', 'name': '广州话 / 廣州話'}]                                                                                                                                                                                                              8\n",
       "[{'iso_639_1': 'en', 'name': 'English'}, {'iso_639_1': 'hu', 'name': 'Magyar'}]                                                                                                                                                                         8\n",
       "[{'iso_639_1': 'xx', 'name': 'No Language'}]                                                                                                                                                                                                            7\n",
       "[{'iso_639_1': 'zh', 'name': '普通话'}]                                                                                                                                                                                                                    7\n",
       "[{'iso_639_1': 'cs', 'name': 'Český'}, {'iso_639_1': 'en', 'name': 'English'}]                                                                                                                                                                          7\n",
       "[{'iso_639_1': 'ru', 'name': 'Pусский'}, {'iso_639_1': 'en', 'name': 'English'}]                                                                                                                                                                        7\n",
       "                                                                                                                                                                                                                                                     ... \n",
       "[{'iso_639_1': 'he', 'name': 'עִבְרִית'}, {'iso_639_1': 'la', 'name': 'Latin'}]                                                                                                                                                                         1\n",
       "[{'iso_639_1': 'en', 'name': 'English'}, {'iso_639_1': 'de', 'name': 'Deutsch'}, {'iso_639_1': 'sw', 'name': 'Kiswahili'}]                                                                                                                              1\n",
       "[{'iso_639_1': 'cs', 'name': 'Český'}, {'iso_639_1': 'en', 'name': 'English'}, {'iso_639_1': 'es', 'name': 'Español'}, {'iso_639_1': 'sh', 'name': ''}]                                                                                                 1\n",
       "[{'iso_639_1': 'it', 'name': 'Italiano'}, {'iso_639_1': 'tr', 'name': 'Türkçe'}]                                                                                                                                                                        1\n",
       "[{'iso_639_1': 'cn', 'name': '广州话 / 廣州話'}, {'iso_639_1': 'zh', 'name': '普通话'}, {'iso_639_1': 'th', 'name': 'ภาษาไทย'}]                                                                                                                                  1\n",
       "[{'iso_639_1': 'el', 'name': 'ελληνικά'}, {'iso_639_1': 'en', 'name': 'English'}, {'iso_639_1': 'ga', 'name': 'Gaeilge'}]                                                                                                                               1\n",
       "[{'iso_639_1': 'en', 'name': 'English'}, {'iso_639_1': 'kk', 'name': 'қазақ'}]                                                                                                                                                                          1\n",
       "[{'iso_639_1': 'en', 'name': 'English'}, {'iso_639_1': 'it', 'name': 'Italiano'}, {'iso_639_1': 'yi', 'name': ''}]                                                                                                                                      1\n",
       "[{'iso_639_1': 'sv', 'name': 'svenska'}, {'iso_639_1': 'it', 'name': 'Italiano'}, {'iso_639_1': 'fr', 'name': 'Français'}]                                                                                                                              1\n",
       "[{'iso_639_1': 'en', 'name': 'English'}, {'iso_639_1': 'fr', 'name': 'Français'}, {'iso_639_1': 'so', 'name': 'Somali'}]                                                                                                                                1\n",
       "[{'iso_639_1': 'en', 'name': 'English'}, {'iso_639_1': 'es', 'name': 'Español'}, {'iso_639_1': 'th', 'name': 'ภาษาไทย'}, {'iso_639_1': 'vi', 'name': 'Tiếng Việt'}]                                                                                     1\n",
       "[{'iso_639_1': 'es', 'name': 'Español'}, {'iso_639_1': 'en', 'name': 'English'}, {'iso_639_1': 'de', 'name': 'Deutsch'}, {'iso_639_1': 'nl', 'name': 'Nederlands'}, {'iso_639_1': 'fr', 'name': 'Français'}]                                            1\n",
       "[{'iso_639_1': 'en', 'name': 'English'}, {'iso_639_1': 'ur', 'name': 'اردو'}]                                                                                                                                                                           1\n",
       "[{'iso_639_1': 'en', 'name': 'English'}, {'iso_639_1': 'pt', 'name': 'Português'}, {'iso_639_1': 'tl', 'name': ''}]                                                                                                                                     1\n",
       "[{'iso_639_1': 'en', 'name': 'English'}, {'iso_639_1': 'ja', 'name': '日本語'}, {'iso_639_1': 'sv', 'name': 'svenska'}]                                                                                                                                    1\n",
       "[{'iso_639_1': 'en', 'name': 'English'}, {'iso_639_1': 'ur', 'name': 'اردو'}, {'iso_639_1': 'zh', 'name': '普通话'}]                                                                                                                                       1\n",
       "[{'iso_639_1': 'sv', 'name': 'svenska'}, {'iso_639_1': 'en', 'name': 'English'}, {'iso_639_1': 'fr', 'name': 'Français'}, {'iso_639_1': 'de', 'name': 'Deutsch'}, {'iso_639_1': 'tr', 'name': 'Türkçe'}, {'iso_639_1': 'it', 'name': 'Italiano'}]       1\n",
       "[{'iso_639_1': 'en', 'name': 'English'}, {'iso_639_1': 'ja', 'name': '日本語'}, {'iso_639_1': 'it', 'name': 'Italiano'}, {'iso_639_1': 'fr', 'name': 'Français'}]                                                                                          1\n",
       "[{'iso_639_1': 'en', 'name': 'English'}, {'iso_639_1': 'ta', 'name': 'தமிழ்'}, {'iso_639_1': 'te', 'name': 'తెలుగు'}]                                                                                                                                   1\n",
       "[{'iso_639_1': 'la', 'name': 'Latin'}, {'iso_639_1': 'en', 'name': 'English'}, {'iso_639_1': 'fr', 'name': 'Français'}]                                                                                                                                 1\n",
       "[{'iso_639_1': 'en', 'name': 'English'}, {'iso_639_1': 'fr', 'name': 'Français'}, {'iso_639_1': 'sv', 'name': 'svenska'}, {'iso_639_1': 'ta', 'name': 'தமிழ்'}]                                                                                         1\n",
       "[{'iso_639_1': 'ru', 'name': 'Pусский'}, {'iso_639_1': 'en', 'name': 'English'}, {'iso_639_1': 'fr', 'name': 'Français'}]                                                                                                                               1\n",
       "[{'iso_639_1': 'pl', 'name': 'Polski'}, {'iso_639_1': 'es', 'name': 'Español'}]                                                                                                                                                                         1\n",
       "[{'iso_639_1': 'en', 'name': 'English'}, {'iso_639_1': 'ru', 'name': 'Pусский'}, {'iso_639_1': 'sr', 'name': 'Srpski'}]                                                                                                                                 1\n",
       "[{'iso_639_1': 'en', 'name': 'English'}, {'iso_639_1': 'ru', 'name': 'Pусский'}, {'iso_639_1': 'fr', 'name': 'Français'}, {'iso_639_1': 'ar', 'name': 'العربية'}, {'iso_639_1': 'sv', 'name': 'svenska'}]                                               1\n",
       "[{'iso_639_1': 'en', 'name': 'English'}, {'iso_639_1': 'ru', 'name': 'Pусский'}, {'iso_639_1': 'pl', 'name': 'Polski'}]                                                                                                                                 1\n",
       "[{'iso_639_1': 'bg', 'name': 'български език'}, {'iso_639_1': 'en', 'name': 'English'}]                                                                                                                                                                 1\n",
       "[{'iso_639_1': 'hu', 'name': 'Magyar'}, {'iso_639_1': 'sk', 'name': 'Slovenčina'}]                                                                                                                                                                      1\n",
       "[{'iso_639_1': 'en', 'name': 'English'}, {'iso_639_1': 'hu', 'name': 'Magyar'}, {'iso_639_1': 'ru', 'name': 'Pусский'}]                                                                                                                                 1\n",
       "[{'iso_639_1': 'en', 'name': 'English'}, {'iso_639_1': 'es', 'name': 'Español'}, {'iso_639_1': 'ru', 'name': 'Pусский'}]                                                                                                                                1\n",
       "Name: spoken_languages, Length: 402, dtype: int64"
      ]
     },
     "execution_count": 27,
     "metadata": {},
     "output_type": "execute_result"
    }
   ],
   "source": [
    "train.spoken_languages.value_counts(dropna=False)"
   ]
  },
  {
   "cell_type": "code",
   "execution_count": 28,
   "metadata": {},
   "outputs": [],
   "source": [
    "# For spoken_languages I'll fill Na values with [{'iso_639_1': 'en', 'name': 'English'}]\n",
    "train.spoken_languages = train.spoken_languages.fillna(\"[{'iso_639_1': 'en', 'name': 'English'}]\")"
   ]
  },
  {
   "cell_type": "code",
   "execution_count": 29,
   "metadata": {},
   "outputs": [
    {
     "data": {
      "text/plain": [
       "0    When Lou, who has become the \"father of the In...\n",
       "1    Mia Thermopolis is now a college graduate and ...\n",
       "2    Under the direction of a ruthless instructor, ...\n",
       "3    Vidya Bagchi (Vidya Balan) arrives in Kolkata ...\n",
       "4    Marine Boy is the story of a former national s...\n",
       "Name: overview, dtype: object"
      ]
     },
     "execution_count": 29,
     "metadata": {},
     "output_type": "execute_result"
    }
   ],
   "source": [
    "train['overview'].head()"
   ]
  },
  {
   "cell_type": "code",
   "execution_count": 30,
   "metadata": {},
   "outputs": [],
   "source": [
    "# For overview, I'll fill Na values with 'none'\n",
    "train.overview = train.overview.fillna('none')"
   ]
  },
  {
   "cell_type": "code",
   "execution_count": 31,
   "metadata": {},
   "outputs": [
    {
     "data": {
      "text/plain": [
       "0    [{'id': 4379, 'name': 'time travel'}, {'id': 9...\n",
       "1    [{'id': 2505, 'name': 'coronation'}, {'id': 42...\n",
       "2    [{'id': 1416, 'name': 'jazz'}, {'id': 1523, 'n...\n",
       "3    [{'id': 10092, 'name': 'mystery'}, {'id': 1054...\n",
       "4                                                  NaN\n",
       "Name: Keywords, dtype: object"
      ]
     },
     "execution_count": 31,
     "metadata": {},
     "output_type": "execute_result"
    }
   ],
   "source": [
    "train['Keywords'].head()"
   ]
  },
  {
   "cell_type": "code",
   "execution_count": 32,
   "metadata": {},
   "outputs": [],
   "source": [
    "# For Keywords, I'll fill Na values with 'none'\n",
    "train.Keywords = train.Keywords.fillna('none')"
   ]
  },
  {
   "cell_type": "code",
   "execution_count": 33,
   "metadata": {},
   "outputs": [
    {
     "data": {
      "text/plain": [
       "count                                                  2945\n",
       "unique                                                  321\n",
       "top       [{'iso_3166_1': 'US', 'name': 'United States o...\n",
       "freq                                                   1752\n",
       "Name: production_countries, dtype: object"
      ]
     },
     "execution_count": 33,
     "metadata": {},
     "output_type": "execute_result"
    }
   ],
   "source": [
    "train.production_countries.describe()"
   ]
  },
  {
   "cell_type": "code",
   "execution_count": 34,
   "metadata": {},
   "outputs": [],
   "source": [
    "# For production_countries, I'll fill Na with the most common value\n",
    "train.production_countries = train.production_countries.fillna(\"[{'iso_3166_1': 'US', 'name': 'United States of America'}]\")"
   ]
  },
  {
   "cell_type": "code",
   "execution_count": 35,
   "metadata": {},
   "outputs": [
    {
     "data": {
      "text/plain": [
       "[{'name': 'Paramount Pictures', 'id': 4}]                                                                                                                                                                                                                                                                                                                                                                                                                                                                                                                                       51\n",
       "[{'name': 'Universal Pictures', 'id': 33}]                                                                                                                                                                                                                                                                                                                                                                                                                                                                                                                                      36\n",
       "[{'name': 'Metro-Goldwyn-Mayer (MGM)', 'id': 8411}]                                                                                                                                                                                                                                                                                                                                                                                                                                                                                                                             32\n",
       "[{'name': 'Warner Bros.', 'id': 6194}]                                                                                                                                                                                                                                                                                                                                                                                                                                                                                                                                          32\n",
       "[{'name': 'Twentieth Century Fox Film Corporation', 'id': 306}]                                                                                                                                                                                                                                                                                                                                                                                                                                                                                                                 24\n",
       "[{'name': 'Columbia Pictures', 'id': 5}]                                                                                                                                                                                                                                                                                                                                                                                                                                                                                                                                        17\n",
       "[{'name': 'Touchstone Pictures', 'id': 9195}]                                                                                                                                                                                                                                                                                                                                                                                                                                                                                                                                   17\n",
       "[{'name': 'New Line Cinema', 'id': 12}]                                                                                                                                                                                                                                                                                                                                                                                                                                                                                                                                         17\n",
       "[{'name': 'TriStar Pictures', 'id': 559}]                                                                                                                                                                                                                                                                                                                                                                                                                                                                                                                                       16\n",
       "[{'name': 'Walt Disney Pictures', 'id': 2}]                                                                                                                                                                                                                                                                                                                                                                                                                                                                                                                                     12\n",
       "[{'name': 'Orion Pictures', 'id': 41}]                                                                                                                                                                                                                                                                                                                                                                                                                                                                                                                                          12\n",
       "[{'name': 'United Artists', 'id': 60}]                                                                                                                                                                                                                                                                                                                                                                                                                                                                                                                                          11\n",
       "[{'name': 'Columbia Pictures Corporation', 'id': 441}]                                                                                                                                                                                                                                                                                                                                                                                                                                                                                                                          10\n",
       "[{'name': 'Miramax Films', 'id': 14}]                                                                                                                                                                                                                                                                                                                                                                                                                                                                                                                                            9\n",
       "[{'name': 'Hollywood Pictures', 'id': 915}]                                                                                                                                                                                                                                                                                                                                                                                                                                                                                                                                      7\n",
       "[{'name': 'Warner Bros.', 'id': 6194}, {'name': 'Morgan Creek Productions', 'id': 10210}]                                                                                                                                                                                                                                                                                                                                                                                                                                                                                        7\n",
       "[{'name': 'Eon Productions', 'id': 7576}]                                                                                                                                                                                                                                                                                                                                                                                                                                                                                                                                        6\n",
       "[{'name': 'Blue Sky Studios', 'id': 9383}, {'name': 'Twentieth Century Fox Animation', 'id': 11749}]                                                                                                                                                                                                                                                                                                                                                                                                                                                                             6\n",
       "[{'name': 'Focus Features', 'id': 10146}]                                                                                                                                                                                                                                                                                                                                                                                                                                                                                                                                        5\n",
       "[{'name': 'Hollywood Pictures', 'id': 915}, {'name': 'Cinergi Pictures Entertainment', 'id': 1504}]                                                                                                                                                                                                                                                                                                                                                                                                                                                                              5\n",
       "[{'name': 'Artisan Entertainment', 'id': 2188}]                                                                                                                                                                                                                                                                                                                                                                                                                                                                                                                                  5\n",
       "[{'name': 'Fox 2000 Pictures', 'id': 711}]                                                                                                                                                                                                                                                                                                                                                                                                                                                                                                                                       5\n",
       "[{'name': 'Walt Disney Pictures', 'id': 2}, {'name': 'Pixar Animation Studios', 'id': 3}]                                                                                                                                                                                                                                                                                                                                                                                                                                                                                        5\n",
       "[{'name': 'Dimension Films', 'id': 7405}]                                                                                                                                                                                                                                                                                                                                                                                                                                                                                                                                        5\n",
       "[{'name': 'Universal Pictures', 'id': 33}, {'name': 'Amblin Entertainment', 'id': 56}]                                                                                                                                                                                                                                                                                                                                                                                                                                                                                           5\n",
       "[{'name': 'Golden Harvest Company', 'id': 2521}]                                                                                                                                                                                                                                                                                                                                                                                                                                                                                                                                 5\n",
       "[{'name': 'TriStar Pictures', 'id': 559}, {'name': 'Carolco Pictures', 'id': 14723}]                                                                                                                                                                                                                                                                                                                                                                                                                                                                                             4\n",
       "[{'name': 'Touchstone Pictures', 'id': 9195}, {'name': 'Silver Screen Partners IV', 'id': 10282}]                                                                                                                                                                                                                                                                                                                                                                                                                                                                                4\n",
       "[{'name': 'UTV Motion Pictures', 'id': 2320}]                                                                                                                                                                                                                                                                                                                                                                                                                                                                                                                                    4\n",
       "[{'name': 'Walt Disney Pictures', 'id': 2}, {'name': 'Walt Disney Feature Animation', 'id': 10217}]                                                                                                                                                                                                                                                                                                                                                                                                                                                                              4\n",
       "                                                                                                                                                                                                                                                                                                                                                                                                                                                                                                                                                                                ..\n",
       "[{'name': 'Columbia Pictures', 'id': 5}, {'name': 'Sony Pictures Animation', 'id': 2251}, {'name': 'Kerner Entertainment Company', 'id': 7311}, {'name': 'Hemisphere Media Capital', 'id': 9169}, {'name': 'NeoReel', 'id': 24097}]                                                                                                                                                                                                                                                                                                                                              1\n",
       "[{'name': 'Madras Talkies', 'id': 3118}, {'name': 'Studio Green', 'id': 12630}]                                                                                                                                                                                                                                                                                                                                                                                                                                                                                                  1\n",
       "[{'name': 'Eddie Murphy Productions', 'id': 30}]                                                                                                                                                                                                                                                                                                                                                                                                                                                                                                                                 1\n",
       "[{'name': 'Village Roadshow Pictures', 'id': 79}, {'name': 'Legendary Pictures', 'id': 923}, {'name': 'Playtone', 'id': 4171}, {'name': 'Wild Things Productions', 'id': 5289}, {'name': 'Warner Bros.', 'id': 6194}]                                                                                                                                                                                                                                                                                                                                                            1\n",
       "[{'name': 'Ignite Entertainment', 'id': 4131}]                                                                                                                                                                                                                                                                                                                                                                                                                                                                                                                                   1\n",
       "[{'name': 'Saga Film', 'id': 859}, {'name': 'Tappeluft Pictures', 'id': 7941}, {'name': 'thefyzz', 'id': 36109}]                                                                                                                                                                                                                                                                                                                                                                                                                                                                 1\n",
       "[{'name': 'Dharma Productions Dillywood', 'id': 66326}]                                                                                                                                                                                                                                                                                                                                                                                                                                                                                                                          1\n",
       "[{'name': 'Jürgen Brüning Filmproduktion', 'id': 1373}, {'name': 'Dangerous to Know Swell Co.', 'id': 56302}, {'name': 'Hustler White Productions', 'id': 56303}]                                                                                                                                                                                                                                                                                                                                                                                                                1\n",
       "[{'name': 'Walt Disney Pictures', 'id': 2}, {'name': 'Jerry Bruckheimer Films', 'id': 130}, {'name': 'Saturn Films', 'id': 831}, {'name': 'Broken Road Productions', 'id': 8000}, {'name': 'Junction Entertainment', 'id': 19097}]                                                                                                                                                                                                                                                                                                                                               1\n",
       "[{'name': 'Twentieth Century Fox Film Corporation', 'id': 306}, {'name': 'Regency Enterprises', 'id': 508}, {'name': 'New Regency Pictures', 'id': 10104}, {'name': 'Pacific Standard', 'id': 15829}, {'name': 'TSG Entertainment', 'id': 22213}, {'name': 'Artemple - Hollywood', 'id': 60682}]                                                                                                                                                                                                                                                                                 1\n",
       "[{'name': 'Glass Eye Pix', 'id': 1360}, {'name': 'Belladonna Productions', 'id': 2341}, {'name': 'Off Hollywood Pictures', 'id': 3768}]                                                                                                                                                                                                                                                                                                                                                                                                                                          1\n",
       "[{'name': 'Castle Rock Entertainment', 'id': 97}, {'name': 'Envision Entertainment', 'id': 31832}, {'name': 'ASIG Productions', 'id': 32245}]                                                                                                                                                                                                                                                                                                                                                                                                                                    1\n",
       "[{'name': 'New Line Cinema', 'id': 12}, {'name': 'Village Roadshow Pictures', 'id': 79}, {'name': 'Likely Story', 'id': 1785}, {'name': 'Anonymous Content', 'id': 10039}, {'name': 'Overbrook Entertainment', 'id': 12485}, {'name': 'PalmStar Media', 'id': 49152}]                                                                                                                                                                                                                                                                                                            1\n",
       "[{'name': 'Fifth Avenue Entertainment', 'id': 15342}, {'name': 'Trans Atlantic Entertainment', 'id': 15343}, {'name': 'Lakeshore International', 'id': 53458}]                                                                                                                                                                                                                                                                                                                                                                                                                   1\n",
       "[{'name': 'Road Movies Filmproduktion GmbH', 'id': 45}, {'name': 'Argos Films', 'id': 6116}, {'name': 'Westdeutscher Rundfunk (WDR)', 'id': 7025}]                                                                                                                                                                                                                                                                                                                                                                                                                               1\n",
       "[{'name': 'Broken Lizard Industries', 'id': 2773}]                                                                                                                                                                                                                                                                                                                                                                                                                                                                                                                               1\n",
       "[{'name': 'Walt Disney', 'id': 5888}, {'name': 'Walden Media', 'id': 10221}, {'name': 'Stillking Films', 'id': 11345}, {'name': 'Ozumi Films', 'id': 11440}, {'name': 'Propeler', 'id': 11441}, {'name': 'Silverbell Films', 'id': 11442}, {'name': 'Revolution Sun Studios', 'id': 76043}]                                                                                                                                                                                                                                                                                      1\n",
       "[{'name': \"Les Films d'Ici\", 'id': 1848}, {'name': 'Bridgit Folman Film Gang', 'id': 17931}, {'name': 'Razor Film Produktion', 'id': 17932}]                                                                                                                                                                                                                                                                                                                                                                                                                                     1\n",
       "[{'name': 'Paramount Pictures', 'id': 4}, {'name': 'DreamWorks SKG', 'id': 27}, {'name': 'Amblin Entertainment', 'id': 56}, {'name': 'Di Bonaventura Pictures', 'id': 435}, {'name': 'Platinum Dunes', 'id': 2481}, {'name': 'thinkfilm', 'id': 12247}, {'name': 'SprocketHeads', 'id': 20011}, {'name': 'Hasbro Studios', 'id': 22826}, {'name': 'Revolution Sun Studios', 'id': 76043}]                                                                                                                                                                                        1\n",
       "[{'name': 'Hartbeat Productions', 'id': 40268}]                                                                                                                                                                                                                                                                                                                                                                                                                                                                                                                                  1\n",
       "[{'name': 'Warner Bros. Pictures', 'id': 174}, {'name': 'Focus Features', 'id': 10146}, {'name': 'Baltimore Spring Creek Productions', 'id': 16061}]                                                                                                                                                                                                                                                                                                                                                                                                                             1\n",
       "[{'name': 'Goldcrest Films International', 'id': 500}, {'name': 'Peter Newman/Interal', 'id': 23359}, {'name': 'Mary Breen-Farrelly Productions', 'id': 23360}, {'name': 'Irish Film Industry', 'id': 55424}, {'name': 'Pachyderm Production', 'id': 60892}]                                                                                                                                                                                                                                                                                                                     1\n",
       "[{'name': 'Simcom Limited', 'id': 15059}, {'name': 'Allarcom Limited', 'id': 15493}, {'name': 'British Columbia Television', 'id': 15494}, {'name': 'CFCN Communications', 'id': 21287}, {'name': 'TBA Film', 'id': 21288}]                                                                                                                                                                                                                                                                                                                                                      1\n",
       "[{'name': 'Younger Than You', 'id': 1047}, {'name': 'Sikelia Productions', 'id': 23243}, {'name': 'Verdi Productions', 'id': 37765}, {'name': 'Bruce Cohen Productions', 'id': 86096}]                                                                                                                                                                                                                                                                                                                                                                                           1\n",
       "[{'name': 'Paramount Pictures', 'id': 4}, {'name': 'Motion Picture Associates', 'id': 12275}]                                                                                                                                                                                                                                                                                                                                                                                                                                                                                    1\n",
       "[{'name': 'Walt Disney Pictures', 'id': 2}, {'name': 'Walt Disney Animation Studios', 'id': 6125}]                                                                                                                                                                                                                                                                                                                                                                                                                                                                               1\n",
       "[{'name': 'BBC Films', 'id': 288}, {'name': 'Ecosse Films', 'id': 1267}, {'name': 'HanWay Films', 'id': 2395}, {'name': 'UK Film Council', 'id': 2452}, {'name': '2 Entertain', 'id': 2689}, {'name': 'Zak Productions', 'id': 8881}, {'name': 'Brideshead Films', 'id': 11558}, {'name': 'Mestiere Cinema', 'id': 11559}]                                                                                                                                                                                                                                                       1\n",
       "[{'name': 'Universal Pictures', 'id': 33}, {'name': 'Tales From The Crypt Holdings', 'id': 69626}, {'name': 'Universal City Studios', 'id': 69627}]                                                                                                                                                                                                                                                                                                                                                                                                                              1\n",
       "[{'name': 'WingNut Films', 'id': 11}, {'name': 'TriStar Pictures', 'id': 559}, {'name': 'Key Creatives', 'id': 2300}, {'name': 'Block / Hanson', 'id': 8504}, {'name': 'Canadian Film or Video Production Tax Credit (CPTC)', 'id': 8582}, {'name': 'The Department of Trade and Industry of South Africa', 'id': 10884}, {'name': 'QED International', 'id': 11029}, {'name': 'Province of British Columbia Production Services Tax Credit', 'id': 12200}, {'name': 'District 9', 'id': 20667}, {'name': 'New Zealand Post Digital and Visual Effects Grant', 'id': 20668}]     1\n",
       "[{'name': 'Amblin Entertainment', 'id': 56}, {'name': 'Hollywood Pictures', 'id': 915}, {'name': 'Tangled Web Productions', 'id': 2104}]                                                                                                                                                                                                                                                                                                                                                                                                                                         1\n",
       "Name: production_companies, Length: 2383, dtype: int64"
      ]
     },
     "execution_count": 35,
     "metadata": {},
     "output_type": "execute_result"
    }
   ],
   "source": [
    "train.production_companies.value_counts()"
   ]
  },
  {
   "cell_type": "markdown",
   "metadata": {},
   "source": [
    "## Feature Engineering"
   ]
  },
  {
   "cell_type": "code",
   "execution_count": 36,
   "metadata": {},
   "outputs": [
    {
     "data": {
      "text/plain": [
       "count    3000.000000\n",
       "mean        2.757000\n",
       "std         1.582862\n",
       "min         1.000000\n",
       "25%         2.000000\n",
       "50%         2.000000\n",
       "75%         3.000000\n",
       "max        11.000000\n",
       "Name: title_length, dtype: float64"
      ]
     },
     "execution_count": 36,
     "metadata": {},
     "output_type": "execute_result"
    }
   ],
   "source": [
    "# Create a columns for title length\n",
    "title_len = []\n",
    "for i in train['title']:\n",
    "    title_len.append(len(i.split()))\n",
    "title_len = pd.Series(title_len, name='title_length')\n",
    "train = pd.concat([train,title_len], axis=1)\n",
    "\n",
    "train['title_length'].describe()"
   ]
  },
  {
   "cell_type": "code",
   "execution_count": 37,
   "metadata": {},
   "outputs": [
    {
     "data": {
      "text/plain": [
       "count    3000.000000\n",
       "mean        2.506000\n",
       "std         1.112824\n",
       "min         1.000000\n",
       "25%         2.000000\n",
       "50%         2.000000\n",
       "75%         3.000000\n",
       "max         7.000000\n",
       "Name: num_genre_types, dtype: float64"
      ]
     },
     "execution_count": 37,
     "metadata": {},
     "output_type": "execute_result"
    }
   ],
   "source": [
    "# For genres, I'll make a new column counting the number of listed genre types\n",
    "# This will strip out all characters except for numbers, and return this as an array\n",
    "genre_ids = []\n",
    "for i in train['genres']:\n",
    "    i = re.findall('\\d+', i)\n",
    "    genre_ids.append(i)\n",
    "genre_ids = pd.Series(genre_ids, name='genre_ids').astype(str)\n",
    "\n",
    "# This will count the number of genres listed for each film\n",
    "num_genre_types = []\n",
    "for i in genre_ids:\n",
    "    num_genre_types.append(len(i.split()))\n",
    "num_genre_types = pd.Series(num_genre_types, name='num_genre_types').astype(int)\n",
    "train = pd.concat([train, genre_ids, num_genre_types], axis=1)\n",
    "\n",
    "train['num_genre_types'].describe()"
   ]
  },
  {
   "cell_type": "code",
   "execution_count": 38,
   "metadata": {},
   "outputs": [
    {
     "data": {
      "text/plain": [
       "count    3000.000000\n",
       "mean        0.022000\n",
       "std         0.146708\n",
       "min         0.000000\n",
       "25%         0.000000\n",
       "50%         0.000000\n",
       "75%         0.000000\n",
       "max         1.000000\n",
       "Name: is_sequel, dtype: float64"
      ]
     },
     "execution_count": 38,
     "metadata": {},
     "output_type": "execute_result"
    }
   ],
   "source": [
    "# Create column for sequels\n",
    "is_sequel = []\n",
    "for i in train['Keywords']:\n",
    "    if 'sequel' in str(i):\n",
    "        is_sequel.append(1)\n",
    "    else:\n",
    "        is_sequel.append(0)\n",
    "is_sequel = pd.Series(is_sequel, name='is_sequel')\n",
    "train = pd.concat([train, is_sequel], axis=1)\n",
    "\n",
    "train['is_sequel'].describe()"
   ]
  },
  {
   "cell_type": "code",
   "execution_count": 39,
   "metadata": {
    "scrolled": true
   },
   "outputs": [
    {
     "data": {
      "text/plain": [
       "count    3000.000000\n",
       "mean        7.482667\n",
       "std         6.705770\n",
       "min         1.000000\n",
       "25%         3.000000\n",
       "50%         6.000000\n",
       "75%        11.000000\n",
       "max       151.000000\n",
       "Name: num_keywords, dtype: float64"
      ]
     },
     "execution_count": 39,
     "metadata": {},
     "output_type": "execute_result"
    }
   ],
   "source": [
    "keyword_words = []\n",
    "for i in train['Keywords']:\n",
    "    i = re.findall('[a-zA-Z \\t]+', i)\n",
    "    stopwords = ['id', 'name', ' ']\n",
    "    i = [word for word in i if word not in stopwords]\n",
    "    keyword_words.append(i)\n",
    "keyword_words = pd.Series(keyword_words, name='keyword_words').astype(str)\n",
    "train = pd.concat([train, keyword_words], axis=1)\n",
    "\n",
    "# This will count the number of Keywords listed for each film\n",
    "num_keywords = []\n",
    "for i in keyword_words:\n",
    "    num_keywords.append(len(i.split(',')))\n",
    "num_keywords = pd.Series(num_keywords, name='num_keywords').astype(int)\n",
    "train = pd.concat([train, num_keywords], axis=1)\n",
    "\n",
    "train['num_keywords'].describe()"
   ]
  },
  {
   "cell_type": "code",
   "execution_count": 40,
   "metadata": {
    "scrolled": true
   },
   "outputs": [
    {
     "data": {
      "text/plain": [
       "0                          [4379, 9663, 11830, 179431]\n",
       "1                            [2505, 4263, 6038, 13072]\n",
       "2    [1416, 1523, 1640, 2176, 14512, 14819, 33896, ...\n",
       "3    [10092, 10540, 11734, 14536, 14636, 208364, 22...\n",
       "4                                                   []\n",
       "Name: keyword_ids, dtype: object"
      ]
     },
     "execution_count": 40,
     "metadata": {},
     "output_type": "execute_result"
    }
   ],
   "source": [
    "# could use the numbers from the categories, sum them up, and then convert them to a category to target incode\n",
    "keyword_ids = []\n",
    "for i in train['Keywords']:\n",
    "    i = re.findall('[0-9]+', i)\n",
    "    keyword_ids.append(i)\n",
    "keyword_ids = pd.Series(keyword_ids, name='keyword_ids')\n",
    "train = pd.concat([keyword_ids, train], axis=1)\n",
    "train.keyword_ids.head()"
   ]
  },
  {
   "cell_type": "code",
   "execution_count": 41,
   "metadata": {},
   "outputs": [
    {
     "data": {
      "text/plain": [
       "0    [{'id': 313576, 'name': 'Hot Tub Time Machine ...\n",
       "1    [{'id': 107674, 'name': 'The Princess Diaries ...\n",
       "2                                                 none\n",
       "3                                                 none\n",
       "4                                                 none\n",
       "Name: belongs_to_collection, dtype: object"
      ]
     },
     "execution_count": 41,
     "metadata": {},
     "output_type": "execute_result"
    }
   ],
   "source": [
    "train.belongs_to_collection.head()"
   ]
  },
  {
   "cell_type": "code",
   "execution_count": 42,
   "metadata": {
    "scrolled": true
   },
   "outputs": [
    {
     "data": {
      "text/plain": [
       "count              3000\n",
       "unique              423\n",
       "top       No Collection\n",
       "freq               2396\n",
       "Name: collection_id, dtype: object"
      ]
     },
     "execution_count": 42,
     "metadata": {},
     "output_type": "execute_result"
    }
   ],
   "source": [
    "# Extract number from belongs to collection\n",
    "collection_id = []\n",
    "for i in train['belongs_to_collection']:\n",
    "    i = re.findall('[0-9]+', i)\n",
    "    collection_id.append(i[:1])\n",
    "collection_id = pd.Series(collection_id, name='collection_id').apply(lambda x: ''.join([str(i) for i in x]))\n",
    "\n",
    "# Fill in blank values with 'No Collection'\n",
    "for i in collection_id[collection_id == ''].index:\n",
    "    collection_id.loc[i] = 'No Collection'\n",
    "\n",
    "train = pd.concat([train, collection_id], axis=1)\n",
    "\n",
    "train['collection_id'].describe()"
   ]
  },
  {
   "cell_type": "code",
   "execution_count": 43,
   "metadata": {},
   "outputs": [
    {
     "data": {
      "text/plain": [
       "count    3000.000000\n",
       "mean        0.201333\n",
       "std         0.401063\n",
       "min         0.000000\n",
       "25%         0.000000\n",
       "50%         0.000000\n",
       "75%         0.000000\n",
       "max         1.000000\n",
       "Name: is_in_collection, dtype: float64"
      ]
     },
     "execution_count": 43,
     "metadata": {},
     "output_type": "execute_result"
    }
   ],
   "source": [
    "# Add column with 1 for movies in a collection and 0 if not\n",
    "is_in_collection = []\n",
    "for i in train['collection_id']:\n",
    "    if i != 'No Collection':\n",
    "        is_in_collection.append(1)\n",
    "    else:\n",
    "        is_in_collection.append(0)\n",
    "\n",
    "is_in_collection = pd.Series(is_in_collection, name='is_in_collection')\n",
    "train = pd.concat([train, is_in_collection], axis=1)\n",
    "\n",
    "train['is_in_collection'].describe()"
   ]
  },
  {
   "cell_type": "code",
   "execution_count": 44,
   "metadata": {},
   "outputs": [
    {
     "data": {
      "text/plain": [
       "0    [{'iso_3166_1': 'US', 'name': 'United States o...\n",
       "1    [{'iso_3166_1': 'US', 'name': 'United States o...\n",
       "2    [{'iso_3166_1': 'US', 'name': 'United States o...\n",
       "3              [{'iso_3166_1': 'IN', 'name': 'India'}]\n",
       "4        [{'iso_3166_1': 'KR', 'name': 'South Korea'}]\n",
       "Name: production_countries, dtype: object"
      ]
     },
     "execution_count": 44,
     "metadata": {},
     "output_type": "execute_result"
    }
   ],
   "source": [
    "train['production_countries'].head()"
   ]
  },
  {
   "cell_type": "code",
   "execution_count": 45,
   "metadata": {},
   "outputs": [
    {
     "data": {
      "text/plain": [
       "count    3000.00000\n",
       "mean        0.77900\n",
       "std         0.41499\n",
       "min         0.00000\n",
       "25%         1.00000\n",
       "50%         1.00000\n",
       "75%         1.00000\n",
       "max         1.00000\n",
       "Name: US_prod_country, dtype: float64"
      ]
     },
     "execution_count": 45,
     "metadata": {},
     "output_type": "execute_result"
    }
   ],
   "source": [
    "# Create a column for production country (1 for US, 0 for rest of world)\n",
    "# It would be helpful if countries had different codes, but they all appear to be the same so it's difficult to work with\n",
    "US_prod_country = []\n",
    "for i in train['production_countries']:\n",
    "    if 'US' in str(i):\n",
    "        US_prod_country.append(1)\n",
    "    else:\n",
    "        US_prod_country.append(0)\n",
    "US_prod_country = pd.Series(US_prod_country, name='US_prod_country')\n",
    "train = pd.concat([train, US_prod_country], axis=1)\n",
    "\n",
    "train['US_prod_country'].describe()"
   ]
  },
  {
   "cell_type": "code",
   "execution_count": 46,
   "metadata": {
    "scrolled": true
   },
   "outputs": [
    {
     "data": {
      "text/plain": [
       "count    3000.000000\n",
       "mean        1.344667\n",
       "std         0.731699\n",
       "min         1.000000\n",
       "25%         1.000000\n",
       "50%         1.000000\n",
       "75%         1.000000\n",
       "max         8.000000\n",
       "Name: num_production_countries, dtype: float64"
      ]
     },
     "execution_count": 46,
     "metadata": {},
     "output_type": "execute_result"
    }
   ],
   "source": [
    "# Create column for number of production countries\n",
    "num_production_countries = []\n",
    "for i in train['production_countries']:\n",
    "    i = re.findall('[a-zA-Z \\t]+', str(i))\n",
    "    num_production_countries.append(str(i).count('name'))\n",
    "num_production_countries = pd.Series(num_production_countries, name='num_production_countries')\n",
    "train = pd.concat([train, num_production_countries], axis=1)\n",
    "\n",
    "train['num_production_countries'].describe()"
   ]
  },
  {
   "cell_type": "code",
   "execution_count": 47,
   "metadata": {
    "scrolled": true
   },
   "outputs": [
    {
     "data": {
      "text/plain": [
       "0    False\n",
       "1    False\n",
       "2    False\n",
       "3    False\n",
       "4    False\n",
       "Name: production_company_8, dtype: object"
      ]
     },
     "execution_count": 47,
     "metadata": {},
     "output_type": "execute_result"
    }
   ],
   "source": [
    "# Create a column for each production company name and a column for the number of companies\n",
    "production_company_names = []\n",
    "num_production_companies = []\n",
    "for i in train['production_companies']:\n",
    "    i = re.findall('[a-zA-Z \\t]+', str(i))\n",
    "    stopwords = ['id', 'name', ' ']\n",
    "    production_company_names.append([word for word in i if word not in stopwords])\n",
    "    num_production_companies.append(str(i).count('name'))\n",
    "\n",
    "production_company_1 = []\n",
    "production_company_2 = []\n",
    "production_company_3 = []\n",
    "production_company_4 = []\n",
    "production_company_5 = []\n",
    "production_company_6 = []\n",
    "production_company_7 = []\n",
    "production_company_8 = []\n",
    "\n",
    "for i in production_company_names:\n",
    "    try:\n",
    "        production_company_1.append(i[:][0:1])\n",
    "        production_company_2.append(i[:][1:2])\n",
    "        production_company_3.append(i[:][2:3])\n",
    "        production_company_4.append(i[:][3:4])\n",
    "        production_company_5.append(i[:][4:5])\n",
    "        production_company_6.append(i[:][5:6])\n",
    "        production_company_7.append(i[:][6:7])\n",
    "        production_company_8.append(i[:][7:8])\n",
    "    except:\n",
    "        production_company_1.append('none')\n",
    "        production_company_2.append('none')\n",
    "        production_company_3.append('none')\n",
    "        production_company_4.append('none')\n",
    "        production_company_5.append('none')\n",
    "        production_company_6.append('none')\n",
    "        production_company_7.append('none')\n",
    "        production_company_8.append('none')\n",
    "\n",
    "num_production_companies = pd.Series(num_production_companies, name='num_production_companies')\n",
    "production_company_1 = pd.Series(production_company_1, name='production_company_1').apply(''.join)\n",
    "for i in production_company_1[production_company_1 == ''].index:\n",
    "    production_company_1.iloc[i] = False\n",
    "production_company_2 = pd.Series(production_company_2, name='production_company_2').apply(''.join)\n",
    "for i in production_company_2[production_company_2 == ''].index:\n",
    "    production_company_2.iloc[i] = False\n",
    "production_company_3 = pd.Series(production_company_3, name='production_company_3').apply(''.join)\n",
    "for i in production_company_3[production_company_3 == ''].index:\n",
    "    production_company_3.iloc[i] = False\n",
    "production_company_4 = pd.Series(production_company_4, name='production_company_4').apply(''.join)\n",
    "for i in production_company_4[production_company_4 == ''].index:\n",
    "    production_company_4.iloc[i] = False\n",
    "production_company_5 = pd.Series(production_company_5, name='production_company_5').apply(''.join)\n",
    "for i in production_company_5[production_company_5 == ''].index:\n",
    "    production_company_5.iloc[i] = False\n",
    "production_company_6 = pd.Series(production_company_6, name='production_company_6').apply(''.join)\n",
    "for i in production_company_6[production_company_6 == ''].index:\n",
    "    production_company_6.iloc[i] = False\n",
    "production_company_7 = pd.Series(production_company_7, name='production_company_7').apply(''.join)\n",
    "for i in production_company_7[production_company_7 == ''].index:\n",
    "    production_company_7.iloc[i] = False\n",
    "production_company_8 = pd.Series(production_company_8, name='production_company_8').apply(''.join)\n",
    "for i in production_company_8[production_company_8 == ''].index:\n",
    "    production_company_8.iloc[i] = False\n",
    "train = pd.concat([train, num_production_companies, production_company_1, production_company_2,\n",
    "              production_company_3, production_company_4, production_company_5, production_company_6,\n",
    "              production_company_7, production_company_8], axis=1)\n",
    "\n",
    "train.production_company_8.head()"
   ]
  },
  {
   "cell_type": "code",
   "execution_count": 48,
   "metadata": {},
   "outputs": [
    {
     "data": {
      "text/plain": [
       "count    3000.000000\n",
       "mean        1.459000\n",
       "std         0.880479\n",
       "min         1.000000\n",
       "25%         1.000000\n",
       "50%         1.000000\n",
       "75%         2.000000\n",
       "max         9.000000\n",
       "Name: num_spoken_languages, dtype: float64"
      ]
     },
     "execution_count": 48,
     "metadata": {},
     "output_type": "execute_result"
    }
   ],
   "source": [
    "# Create a column for number of spoken languages\n",
    "num_spoken_languages = []\n",
    "for i in train['spoken_languages']:\n",
    "    a = str(i).split()\n",
    "    num_spoken_languages.append(a.count(\"'name':\"))\n",
    "num_spoken_languages = pd.Series(num_spoken_languages, name = 'num_spoken_languages')\n",
    "train = pd.concat([train, num_spoken_languages], axis=1)\n",
    "\n",
    "train['num_spoken_languages'].describe()"
   ]
  },
  {
   "cell_type": "code",
   "execution_count": 49,
   "metadata": {},
   "outputs": [
    {
     "data": {
      "text/plain": [
       "count    3000.000000\n",
       "mean        0.998667\n",
       "std         0.036497\n",
       "min         0.000000\n",
       "25%         1.000000\n",
       "50%         1.000000\n",
       "75%         1.000000\n",
       "max         1.000000\n",
       "Name: status_is_released, dtype: float64"
      ]
     },
     "execution_count": 49,
     "metadata": {},
     "output_type": "execute_result"
    }
   ],
   "source": [
    "# Create column for release status\n",
    "status_is_released = []\n",
    "for i in train['status']:\n",
    "    if i == 'Released':\n",
    "        status_is_released.append(1)\n",
    "    else:\n",
    "        status_is_released.append(0)\n",
    "status_is_released = pd.Series(status_is_released, name = 'status_is_released')\n",
    "train = pd.concat([train, status_is_released], axis=1)\n",
    "train['status_is_released'].describe()"
   ]
  },
  {
   "cell_type": "code",
   "execution_count": 328,
   "metadata": {},
   "outputs": [],
   "source": [
    "def data_processing(df):\n",
    "    # Create columns for year, month, and day of week\n",
    "    df['release_date'] = df['release_date'].fillna(method='ffill')\n",
    "    df['release_date'] = pd.to_datetime(df['release_date'], infer_datetime_format=True)\n",
    "    df['release_day'] = df['release_date'].apply(lambda t: t.day)\n",
    "    df['release_weekday'] = df['release_date'].apply(lambda t: t.weekday())\n",
    "    df['release_month'] = df['release_date'].apply(lambda t: t.month)\n",
    "    # Year was being interpreted as future dates in some cases so I had to adjust some values\n",
    "    df['release_year'] = df['release_date'].apply(lambda t: t.year if t.year < 2018 else t.year -100)\n",
    "    \n",
    "    # Function that will map the average runtime for each year to movies with 0 runtie.\n",
    "    def map_runtime(df):\n",
    "        df['runtime'].fillna(0)\n",
    "    \n",
    "        run = df[(df['runtime'].notnull()) & (df['runtime'] != 0)]\n",
    "        year_mean = run.groupby(['release_year'])['runtime'].agg('mean')\n",
    "        d = dict(year_mean)\n",
    "    \n",
    "        for i in df[df['runtime'] == 0]:\n",
    "            df['runtime'] = df.loc[:, 'release_year'].map(d)\n",
    "        return df\n",
    "    df = map_runtime(df)\n",
    "    \n",
    "    # For homepage, I'll change it to 0 for NaN and 1 if a page is listed.\n",
    "    df['homepage'].fillna(0, inplace=True)\n",
    "    df.loc[df['homepage'] != 0, 'homepage'] = 1\n",
    "    \n",
    "    # For poster_path, I'll change it to 0 for NaN and 1 if a path is listed.\n",
    "    df['poster_path'].fillna(0, inplace=True)\n",
    "    df.loc[df['poster_path'] != 0, 'poster_path'] = 1\n",
    "    \n",
    "    # release_year correlates strongly with budget, so I'll use that to estimate the null values\n",
    "    def map_budget(df):\n",
    "        d = defaultdict()\n",
    "        X = df[df['budget'] != 0]\n",
    "        year_mean = pd.Series(X.groupby(['release_year'])['budget'].agg('mean'))\n",
    "        d = dict(year_mean)\n",
    "    \n",
    "        for i in df[df['budget'] == 0]:\n",
    "            df['budget'] = df.loc[:, 'release_year'].map(d)\n",
    "    \n",
    "        # In a few cases, there are only 1 or 2 movies provided from a given year and are filled with Na values\n",
    "        df.budget = df.sort_values(by='release_year').budget.fillna(method='ffill')\n",
    "        return df\n",
    "    df = map_budget(df)\n",
    "    \n",
    "    # Fill remaining Na values\n",
    "    df['belongs_to_collection'] = df['belongs_to_collection'].fillna('none')\n",
    "    df.spoken_languages = df.spoken_languages.fillna(\"[{'iso_639_1': 'en', 'name': 'English'}]\")\n",
    "    df.overview = df.overview.fillna('none')\n",
    "    df.Keywords = df.Keywords.fillna('none')\n",
    "    df.production_countries = df.production_countries.fillna(\n",
    "        \"[{'iso_3166_1': 'US', 'name': 'United States of America'}]\")\n",
    "    df.genres = df.genres.fillna('18')\n",
    "    \n",
    "    ############ Feature Engineering ############\n",
    "    \n",
    "    # Create a columns for title length\n",
    "    title_len = []\n",
    "    for i in df['title']:\n",
    "        title_len.append(len(str(i).split()))\n",
    "    title_len = pd.Series(title_len, name='title_length')\n",
    "    df = pd.concat([df, title_len], axis=1)\n",
    "    \n",
    "    # Create columns for genres id's and for number of genres listed\n",
    "    genre_id = []\n",
    "    num_genre_types = []\n",
    "    for i in df['genres']:\n",
    "        i = re.findall('\\d+', str(i))\n",
    "        genre_id.append(i)\n",
    "    genre_id = pd.Series(genre_id, name='genre_id') #.apply(lambda x: ''.join([str(i) for i in x]))\n",
    "    \n",
    "    genre_id_1 = []\n",
    "    genre_id_2 = []\n",
    "    genre_id_3 = []\n",
    "    genre_id_4 = []\n",
    "    genre_id_5 = []\n",
    "    genre_id_6 = []\n",
    "    genre_id_7 = []\n",
    "\n",
    "    for i in genre_id:\n",
    "        try:\n",
    "            genre_id_1.append(i[:][0:1])\n",
    "            genre_id_2.append(i[:][1:2])\n",
    "            genre_id_3.append(i[:][2:3])\n",
    "            genre_id_4.append(i[:][3:4])\n",
    "            genre_id_5.append(i[:][4:5])\n",
    "            genre_id_6.append(i[:][5:6])\n",
    "            genre_id_7.append(i[:][6:7])\n",
    "        except:\n",
    "            genre_id_1.append('none')\n",
    "            genre_id_2.append('none')\n",
    "            genre_id_3.append('none')\n",
    "            genre_id_4.append('none')\n",
    "            genre_id_5.append('none')\n",
    "            genre_id_6.append('none')\n",
    "            genre_id_7.append('none')\n",
    "            \n",
    "    genre_id_1 = pd.Series(genre_id_1, name='genre_id_1').apply(''.join)\n",
    "    for i in genre_id_1[genre_id_1 == ''].index:\n",
    "        genre_id_1.iloc[i] = 'none'\n",
    "    genre_id_2 = pd.Series(genre_id_2, name='genre_id_2').apply(''.join)\n",
    "    for i in genre_id_2[genre_id_2 == ''].index:\n",
    "        genre_id_2.iloc[i] = 'none'\n",
    "    genre_id_3 = pd.Series(genre_id_3, name='genre_id_3').apply(''.join)\n",
    "    for i in genre_id_3[genre_id_3 == ''].index:\n",
    "        genre_id_3.iloc[i] = 'none'\n",
    "    genre_id_4 = pd.Series(genre_id_4, name='genre_id_4').apply(''.join)\n",
    "    for i in genre_id_4[genre_id_4 == ''].index:\n",
    "        genre_id_4.iloc[i] = 'none'\n",
    "    genre_id_5 = pd.Series(genre_id_5, name='genre_id_5').apply(''.join)\n",
    "    for i in genre_id_5[genre_id_5 == ''].index:\n",
    "        genre_id_5.iloc[i] = 'none'\n",
    "    genre_id_6 = pd.Series(genre_id_6, name='genre_id_6').apply(''.join)\n",
    "    for i in genre_id_6[genre_id_6 == ''].index:\n",
    "        genre_id_6.iloc[i] = 'none'\n",
    "    genre_id_7 = pd.Series(genre_id_7, name='genre_id_7').apply(''.join)\n",
    "    for i in genre_id_7[genre_id_7 == ''].index:\n",
    "        genre_id_7.iloc[i] = 'none'\n",
    "    \n",
    "    for i in genre_id.astype(str):\n",
    "        num_genre_types.append(len(i.split(',')))\n",
    "    num_genre_types = pd.Series(num_genre_types, name='num_genre_types').astype(int)\n",
    "    df = pd.concat([df, genre_id_1, genre_id_2, genre_id_3, genre_id_4, genre_id_5, \n",
    "                    genre_id_6, genre_id_7, num_genre_types], axis=1)\n",
    "    \n",
    "    # Create column for sequels\n",
    "    is_sequel = []\n",
    "    for i in df['Keywords']:\n",
    "        if 'sequel' in str(i):\n",
    "            is_sequel.append(1)\n",
    "        else:\n",
    "            is_sequel.append(0)\n",
    "    is_sequel = pd.Series(is_sequel, name='is_sequel')\n",
    "    df = pd.concat([df, is_sequel], axis=1)\n",
    "    \n",
    "    keyword_words = []\n",
    "    for i in df['Keywords']:\n",
    "        i = re.findall('[a-zA-Z \\t]+', str(i))\n",
    "        stopwords = ['id', 'name', ' ']\n",
    "        i = [word for word in i if word not in stopwords]\n",
    "        keyword_words.append(i)\n",
    "    keyword_words = pd.Series(keyword_words, name='keyword_words')\n",
    "    df = pd.concat([df, keyword_words], axis=1)\n",
    "\n",
    "    # This will count the number of Keywords listed for each film\n",
    "    num_keywords = []\n",
    "    for i in keyword_words:\n",
    "        num_keywords.append(len(str(i).split(',')))\n",
    "    num_keywords = pd.Series(num_keywords, name='num_keywords').astype(int)\n",
    "    df = pd.concat([df, num_keywords], axis=1)\n",
    "    \n",
    "    # Create column for Keyword Id numbers\n",
    "    keyword_ids = []\n",
    "    for i in df['Keywords']:\n",
    "        i = re.findall('[0-9]+', str(i))\n",
    "        keyword_ids.append(i)\n",
    "    keyword_ids = pd.Series(keyword_ids, name='keyword_ids')\n",
    "    #df = pd.concat([keyword_ids, df], axis=1)\n",
    "    \n",
    "    # Extract number from belongs to collection\n",
    "    collection_id = []\n",
    "    for i in df['belongs_to_collection']:\n",
    "        i = re.findall('[0-9]+', str(i))\n",
    "        collection_id.append(i[:1])\n",
    "    collection_id= pd.Series(collection_id, name='collection_id').apply(lambda x: ''.join([str(i) for i in x]))\n",
    "\n",
    "    # Fill in blank values with 'No Collection'\n",
    "    for i in collection_id[collection_id == ''].index:\n",
    "        collection_id.loc[i] = 'no collection'\n",
    "    collection_id = collection_id\n",
    "    df = pd.concat([df, collection_id], axis=1)\n",
    "    \n",
    "    # Add column with 1 for movies in a collection and 0 if not\n",
    "    is_in_collection = []\n",
    "    for i in df['collection_id']:\n",
    "        if i != 'no collection':\n",
    "            is_in_collection.append(1)\n",
    "        else:\n",
    "            is_in_collection.append(0)\n",
    "    is_in_collection = pd.Series(is_in_collection, name='is_in_collection').astype(int)\n",
    "    df = pd.concat([is_in_collection, df], axis=1)\n",
    "    \n",
    "    # Create a column for production country (1 for US, 0 for rest of world)\n",
    "    # It would be helpful if countries had different codes, but they all appear to be the same so it's difficult to work with\n",
    "    US_prod_country = []\n",
    "    for i in df['production_countries']:\n",
    "        if 'US' in str(i):\n",
    "            US_prod_country.append(1)\n",
    "        else:\n",
    "            US_prod_country.append(0)\n",
    "    US_prod_country = pd.Series(US_prod_country, name='US_prod_country')\n",
    "    df = pd.concat([df, US_prod_country], axis=1)\n",
    "    \n",
    "    # Create column for number of production countries\n",
    "    num_prod_countries = []\n",
    "    for i in df['production_countries']:\n",
    "        i = re.findall('[a-zA-Z \\t]+', str(i))\n",
    "        num_prod_countries.append(str(i).count('name'))\n",
    "    num_prod_countries = pd.Series(num_prod_countries, name='num_production_countries')\n",
    "    df = pd.concat([df, num_prod_countries], axis=1)\n",
    "    \n",
    "    # Create a column for each production company name and a column for the number of companies\n",
    "    production_company_names = []\n",
    "    num_production_companies = []\n",
    "    for i in df['production_companies']:\n",
    "        i = re.findall('[a-zA-Z \\t]+', str(i))\n",
    "        stopwords = ['id', 'name', ' ']\n",
    "        production_company_names.append([word for word in i if word not in stopwords])\n",
    "        num_production_companies.append(str(i).count('name'))\n",
    "\n",
    "    production_company_1 = []\n",
    "    production_company_2 = []\n",
    "    production_company_3 = []\n",
    "    production_company_4 = []\n",
    "    production_company_5 = []\n",
    "    production_company_6 = []\n",
    "    production_company_7 = []\n",
    "    production_company_8 = []\n",
    "\n",
    "    for i in production_company_names:\n",
    "        try:\n",
    "            production_company_1.append(i[:][0:1])\n",
    "            production_company_2.append(i[:][1:2])\n",
    "            production_company_3.append(i[:][2:3])\n",
    "            production_company_4.append(i[:][3:4])\n",
    "            production_company_5.append(i[:][4:5])\n",
    "            production_company_6.append(i[:][5:6])\n",
    "            production_company_7.append(i[:][6:7])\n",
    "            production_company_8.append(i[:][7:8])\n",
    "        except:\n",
    "            production_company_1.append('none')\n",
    "            production_company_2.append('none')\n",
    "            production_company_3.append('none')\n",
    "            production_company_4.append('none')\n",
    "            production_company_5.append('none')\n",
    "            production_company_6.append('none')\n",
    "            production_company_7.append('none')\n",
    "            production_company_8.append('none')\n",
    "\n",
    "    num_production_companies = pd.Series(num_production_companies, name='num_production_companies')\n",
    "    production_company_1 = pd.Series(production_company_1, name='production_company_1').apply(''.join)\n",
    "    for i in production_company_1[production_company_1 == ''].index:\n",
    "        production_company_1.iloc[i] = 'none'\n",
    "    production_company_2 = pd.Series(production_company_2, name='production_company_2').apply(''.join)\n",
    "    for i in production_company_2[production_company_2 == ''].index:\n",
    "        production_company_2.iloc[i] = 'none'\n",
    "    production_company_3 = pd.Series(production_company_3, name='production_company_3').apply(''.join)\n",
    "    for i in production_company_3[production_company_3 == ''].index:\n",
    "        production_company_3.iloc[i] = 'none'\n",
    "    production_company_4 = pd.Series(production_company_4, name='production_company_4').apply(''.join)\n",
    "    for i in production_company_4[production_company_4 == ''].index:\n",
    "        production_company_4.iloc[i] = 'none'\n",
    "    production_company_5 = pd.Series(production_company_5, name='production_company_5').apply(''.join)\n",
    "    for i in production_company_5[production_company_5 == ''].index:\n",
    "        production_company_5.iloc[i] = 'none'\n",
    "    production_company_6 = pd.Series(production_company_6, name='production_company_6').apply(''.join)\n",
    "    for i in production_company_6[production_company_6 == ''].index:\n",
    "        production_company_6.iloc[i] = 'none'\n",
    "    production_company_7 = pd.Series(production_company_7, name='production_company_7').apply(''.join)\n",
    "    for i in production_company_7[production_company_7 == ''].index:\n",
    "        production_company_7.iloc[i] = 'none'\n",
    "    production_company_8 = pd.Series(production_company_8, name='production_company_8').apply(''.join)\n",
    "    for i in production_company_8[production_company_8 == ''].index:\n",
    "        production_company_8.iloc[i] = 'none'\n",
    "    df = pd.concat([df, num_production_companies, production_company_1, production_company_2,\n",
    "              production_company_3, production_company_4, production_company_5, production_company_6,\n",
    "              production_company_7, production_company_8], axis=1)\n",
    "    \n",
    "    # Create a column for number of spoken languages\n",
    "    num_spoken_languages=[]\n",
    "    for i in df['spoken_languages']:\n",
    "        a = str(i).split()\n",
    "        num_spoken_languages.append(a.count(\"'name':\"))\n",
    "    num_spoken_languages = pd.Series(num_spoken_languages, name = 'num_spoken_languages')\n",
    "    df = pd.concat([df, num_spoken_languages], axis=1)\n",
    "        \n",
    "    # Create column for release status\n",
    "    status_is_released = []\n",
    "    for i in df['status']:\n",
    "        if i == 'Released':\n",
    "            status_is_released.append(1)\n",
    "        else:\n",
    "            status_is_released.append(0)\n",
    "    status_is_released = pd.Series(status_is_released, name = 'status_is_released')\n",
    "    df = pd.concat([df, status_is_released], axis=1)\n",
    "    \n",
    "    # Drop columns that have been engineered\n",
    "    df = df.drop(['belongs_to_collection', 'genres', 'Keywords', 'belongs_to_collection', 'homepage', 'imdb_id', \n",
    "                 'original_title', 'overview', 'poster_path', 'production_companies', 'production_countries',\n",
    "                 'release_date', 'spoken_languages', 'status', 'tagline', 'title', 'cast', 'crew'], axis=1)\n",
    "    # Drop 'keyword_words' column for now.  Can work with it later.\n",
    "    df = df.drop(['keyword_words'], axis=1)\n",
    "    return reduce_mem_usage(df)"
   ]
  },
  {
   "cell_type": "code",
   "execution_count": 339,
   "metadata": {
    "scrolled": true
   },
   "outputs": [
    {
     "name": "stdout",
     "output_type": "stream",
     "text": [
      "Mem. usage decreased to  0.48 Mb (39.9% reduction)\n",
      "Mem. usage decreased to  0.68 Mb (39.9% reduction)\n"
     ]
    }
   ],
   "source": [
    "# Reload the data fresh and apply the processing function\n",
    "train = pd.read_csv('train.csv')\n",
    "test = pd.read_csv('test.csv')\n",
    "train = data_processing(train)\n",
    "test = data_processing(test)"
   ]
  },
  {
   "cell_type": "markdown",
   "metadata": {},
   "source": [
    "#### Dealing with categorical columns"
   ]
  },
  {
   "cell_type": "code",
   "execution_count": 52,
   "metadata": {
    "scrolled": true
   },
   "outputs": [
    {
     "name": "stdout",
     "output_type": "stream",
     "text": [
      "<class 'pandas.core.frame.DataFrame'>\n",
      "RangeIndex: 3000 entries, 0 to 2999\n",
      "Data columns (total 36 columns):\n",
      "is_in_collection            3000 non-null int8\n",
      "id                          3000 non-null int16\n",
      "budget                      3000 non-null float32\n",
      "original_language           3000 non-null object\n",
      "popularity                  3000 non-null float16\n",
      "runtime                     3000 non-null float16\n",
      "revenue                     3000 non-null int32\n",
      "release_day                 3000 non-null int8\n",
      "release_weekday             3000 non-null int8\n",
      "release_month               3000 non-null int8\n",
      "release_year                3000 non-null int16\n",
      "title_length                3000 non-null int8\n",
      "genre_id_1                  3000 non-null object\n",
      "genre_id_2                  3000 non-null object\n",
      "genre_id_3                  3000 non-null object\n",
      "genre_id_4                  3000 non-null object\n",
      "genre_id_5                  3000 non-null object\n",
      "genre_id_6                  3000 non-null object\n",
      "genre_id_7                  3000 non-null object\n",
      "num_genre_types             3000 non-null int8\n",
      "is_sequel                   3000 non-null int8\n",
      "num_keywords                3000 non-null int16\n",
      "collection_id               3000 non-null object\n",
      "US_prod_country             3000 non-null int8\n",
      "num_production_countries    3000 non-null int8\n",
      "num_production_companies    3000 non-null int8\n",
      "production_company_1        3000 non-null object\n",
      "production_company_2        3000 non-null object\n",
      "production_company_3        3000 non-null object\n",
      "production_company_4        3000 non-null object\n",
      "production_company_5        3000 non-null object\n",
      "production_company_6        3000 non-null object\n",
      "production_company_7        3000 non-null object\n",
      "production_company_8        3000 non-null object\n",
      "num_spoken_languages        3000 non-null int8\n",
      "status_is_released          3000 non-null int8\n",
      "dtypes: float16(2), float32(1), int16(3), int32(1), int8(12), object(17)\n",
      "memory usage: 486.4+ KB\n"
     ]
    }
   ],
   "source": [
    "# There are 13 object columns that will need to be converted to numeric\n",
    "train.info()"
   ]
  },
  {
   "cell_type": "markdown",
   "metadata": {},
   "source": [
    "I'll label encode the category columns using sklearn."
   ]
  },
  {
   "cell_type": "code",
   "execution_count": 53,
   "metadata": {},
   "outputs": [],
   "source": [
    "def train_target_encoded_year(df, cols):\n",
    "    \"\"\"Function will take a dataframe and replace any passed categorical columns with the average revenue for each unique value from a given year.\"\"\"\n",
    "    for i in cols:\n",
    "        d = df.groupby(['release_year', i]).agg({'revenue':'mean'})\n",
    "        df = df.set_index(['release_year', i], drop=False)\n",
    "        df[i] = d.revenue\n",
    "        df = df.reset_index(drop=True)\n",
    "    return df"
   ]
  },
  {
   "cell_type": "code",
   "execution_count": 216,
   "metadata": {},
   "outputs": [],
   "source": [
    "def test_target_encoded_year(df_train, df_test, cols):\n",
    "    \"\"\"Function will take a dataframe and replace any passed categorical columns with the unique average revenue per year generated from the training dataframe.\"\"\"\n",
    "    for i in cols:\n",
    "        d = df_train.groupby(['release_year', i]).agg({'revenue':'mean'})\n",
    "        df_test = df_test.set_index(['release_year', i], drop=False)\n",
    "        df_test[i] = d.revenue\n",
    "        df_test = df_test.reset_index(drop=True)\n",
    "    return df_test"
   ]
  },
  {
   "cell_type": "code",
   "execution_count": 55,
   "metadata": {},
   "outputs": [],
   "source": [
    "def target_encode(df, target_feature, m = 300): \n",
    "    d = defaultdict()\n",
    "    target_mean = df[target_feature].mean()\n",
    "    \n",
    "    # Map values and create dictionary   \n",
    "    for cat_feature in df.select_dtypes(include='category'):\n",
    "        group_target_mean = df.groupby([cat_feature])[target_feature].agg('mean')\n",
    "        group_target_count = df.groupby([cat_feature])[target_feature].agg('count')\n",
    "        smooth = (group_target_count * group_target_mean + m * target_mean) / (group_target_count + m)\n",
    "        k = pd.Series(df[cat_feature])\n",
    "        v = df[cat_feature].map(smooth)\n",
    "        d[cat_feature] = dict(zip(k, v))\n",
    "        df[cat_feature] = df[cat_feature].map(smooth)\n",
    "        \n",
    "    return df, d\n",
    "\n",
    "for i in df_test[df_test.isnull()]: #df_test[df_test.isnull()].index\n",
    "    if i['release_year'] in d: # df_test.iloc[i]['release_year'] in d:\n",
    "        X[i] = X[i].map(d[i]) # df_test[]"
   ]
  },
  {
   "cell_type": "code",
   "execution_count": 248,
   "metadata": {},
   "outputs": [],
   "source": [
    "def test_target_encoded_year(df_train, df_test):\n",
    "    \"\"\"Function will take a dataframe and replace any passed categorical columns with the unique average revenue per year generated from the training dataframe.\"\"\"\n",
    "    cols = df_test.select_dtypes(include='object').columns\n",
    "    for col in cols:\n",
    "        d = df_train.groupby(['release_year', col]).agg({'revenue':'mean'})\n",
    "        df_test = df_test.set_index(['release_year', col], drop=False)\n",
    "        df_test[col] = d.revenue\n",
    "        df_test = df_test.reset_index(drop=True)\n",
    "        \n",
    "    # There are a numerous missing values in the test set after processing so I'll fill them with the yearly avg.\n",
    "    for col in cols:\n",
    "        #d = defaultdict()\n",
    "        X = df_test[df_test[col].notnull()]\n",
    "        year_mean = pd.Series(X.groupby(['release_year'])[col].agg('mean'))\n",
    "        d = dict(year_mean)\n",
    "    \n",
    "        for i in df_test[df_test['budget'].isnull()]:\n",
    "            df_test[col] = df_test.loc[:, 'release_year'].map(d)\n",
    "    \n",
    "    return reduce_mem_usage(df_test)"
   ]
  },
  {
   "cell_type": "code",
   "execution_count": null,
   "metadata": {},
   "outputs": [],
   "source": [
    "# The numeric columns look okay, but budget may need normalization as the st. dev is quite large\n",
    "train.describe()"
   ]
  },
  {
   "cell_type": "code",
   "execution_count": null,
   "metadata": {},
   "outputs": [],
   "source": [
    "# Budget normalization - Didn't improve model accuracy for linear regression (remained the same)\n",
    "#train.budget = (train.budget - train.budget.mean()) / (train.budget.max() - train.budget.min())\n",
    "#train.head()"
   ]
  },
  {
   "cell_type": "code",
   "execution_count": 301,
   "metadata": {},
   "outputs": [],
   "source": [
    "from category_encoders import *\n",
    "from sklearn.preprocessing import LabelEncoder"
   ]
  },
  {
   "cell_type": "code",
   "execution_count": 330,
   "metadata": {
    "scrolled": true
   },
   "outputs": [],
   "source": [
    "# Make complete list of genre ids\n",
    "genre_ids = train['genre_id_1']\n",
    "for i in train.loc[:, 'genre_id_2': 'genre_id_7'].columns:\n",
    "    genre_ids = pd.concat([genre_ids, train[i]], axis=0)\n",
    "\n",
    "le = LabelEncoder()\n",
    "lab_enc = le.fit_transform(genre_ids)\n",
    "genre_ids_dict = dict(zip(genre_ids, lab_enc))\n",
    "\n",
    "# Map genre_ids_dict to genre_id columns\n",
    "for i in train.loc[:, 'genre_id_1': 'genre_id_7'].columns:\n",
    "    train[i] = train[i].map(genre_ids_dict)"
   ]
  },
  {
   "cell_type": "code",
   "execution_count": 331,
   "metadata": {},
   "outputs": [
    {
     "data": {
      "text/html": [
       "<div>\n",
       "<style scoped>\n",
       "    .dataframe tbody tr th:only-of-type {\n",
       "        vertical-align: middle;\n",
       "    }\n",
       "\n",
       "    .dataframe tbody tr th {\n",
       "        vertical-align: top;\n",
       "    }\n",
       "\n",
       "    .dataframe thead th {\n",
       "        text-align: right;\n",
       "    }\n",
       "</style>\n",
       "<table border=\"1\" class=\"dataframe\">\n",
       "  <thead>\n",
       "    <tr style=\"text-align: right;\">\n",
       "      <th></th>\n",
       "      <th>production_company_2</th>\n",
       "      <th>production_company_3</th>\n",
       "      <th>production_company_4</th>\n",
       "      <th>production_company_5</th>\n",
       "      <th>production_company_6</th>\n",
       "      <th>production_company_7</th>\n",
       "      <th>production_company_8</th>\n",
       "    </tr>\n",
       "  </thead>\n",
       "  <tbody>\n",
       "    <tr>\n",
       "      <th>0</th>\n",
       "      <td>United Artists</td>\n",
       "      <td>Metro</td>\n",
       "      <td>Goldwyn</td>\n",
       "      <td>Mayer</td>\n",
       "      <td>MGM</td>\n",
       "      <td>none</td>\n",
       "      <td>none</td>\n",
       "    </tr>\n",
       "    <tr>\n",
       "      <th>1</th>\n",
       "      <td>none</td>\n",
       "      <td>none</td>\n",
       "      <td>none</td>\n",
       "      <td>none</td>\n",
       "      <td>none</td>\n",
       "      <td>none</td>\n",
       "      <td>none</td>\n",
       "    </tr>\n",
       "    <tr>\n",
       "      <th>2</th>\n",
       "      <td>Blumhouse Productions</td>\n",
       "      <td>Right of Way Films</td>\n",
       "      <td>none</td>\n",
       "      <td>none</td>\n",
       "      <td>none</td>\n",
       "      <td>none</td>\n",
       "      <td>none</td>\n",
       "    </tr>\n",
       "    <tr>\n",
       "      <th>3</th>\n",
       "      <td>none</td>\n",
       "      <td>none</td>\n",
       "      <td>none</td>\n",
       "      <td>none</td>\n",
       "      <td>none</td>\n",
       "      <td>none</td>\n",
       "      <td>none</td>\n",
       "    </tr>\n",
       "    <tr>\n",
       "      <th>4</th>\n",
       "      <td>none</td>\n",
       "      <td>none</td>\n",
       "      <td>none</td>\n",
       "      <td>none</td>\n",
       "      <td>none</td>\n",
       "      <td>none</td>\n",
       "      <td>none</td>\n",
       "    </tr>\n",
       "  </tbody>\n",
       "</table>\n",
       "</div>"
      ],
      "text/plain": [
       "    production_company_2 production_company_3 production_company_4  \\\n",
       "0         United Artists                Metro              Goldwyn   \n",
       "1                   none                 none                 none   \n",
       "2  Blumhouse Productions   Right of Way Films                 none   \n",
       "3                   none                 none                 none   \n",
       "4                   none                 none                 none   \n",
       "\n",
       "  production_company_5 production_company_6 production_company_7  \\\n",
       "0               Mayer                   MGM                 none   \n",
       "1                 none                 none                 none   \n",
       "2                 none                 none                 none   \n",
       "3                 none                 none                 none   \n",
       "4                 none                 none                 none   \n",
       "\n",
       "  production_company_8  \n",
       "0                 none  \n",
       "1                 none  \n",
       "2                 none  \n",
       "3                 none  \n",
       "4                 none  "
      ]
     },
     "execution_count": 331,
     "metadata": {},
     "output_type": "execute_result"
    }
   ],
   "source": [
    "train.loc[:, 'production_company_2': 'production_company_8'].head()"
   ]
  },
  {
   "cell_type": "code",
   "execution_count": 332,
   "metadata": {},
   "outputs": [],
   "source": [
    "# Make complete list of production companies\n",
    "prod_companies = train['production_company_1']\n",
    "for i in train.loc[:, 'production_company_2': 'production_company_8'].columns:\n",
    "    prod_companies = pd.concat([prod_companies, train[i]], axis=0)\n",
    "\n",
    "le = LabelEncoder()\n",
    "lab_enc = le.fit_transform(prod_companies)\n",
    "prod_companies_dict = dict(zip(prod_companies, lab_enc))\n",
    "\n",
    "# Map genre_ids_dict to genre_id columns\n",
    "for i in train.loc[:, 'production_company_1': 'production_company_8'].columns:\n",
    "    train[i] = train[i].map(prod_companies_dict)"
   ]
  },
  {
   "cell_type": "code",
   "execution_count": 335,
   "metadata": {
    "scrolled": true
   },
   "outputs": [
    {
     "name": "stdout",
     "output_type": "stream",
     "text": [
      "<class 'pandas.core.frame.DataFrame'>\n",
      "RangeIndex: 3000 entries, 0 to 2999\n",
      "Data columns (total 36 columns):\n",
      "is_in_collection            3000 non-null int8\n",
      "id                          3000 non-null int16\n",
      "budget                      3000 non-null float32\n",
      "original_language           3000 non-null int32\n",
      "popularity                  3000 non-null float16\n",
      "runtime                     3000 non-null float16\n",
      "revenue                     3000 non-null int32\n",
      "release_day                 3000 non-null int8\n",
      "release_weekday             3000 non-null int8\n",
      "release_month               3000 non-null int8\n",
      "release_year                3000 non-null int16\n",
      "title_length                3000 non-null int8\n",
      "genre_id_1                  3000 non-null int64\n",
      "genre_id_2                  3000 non-null int64\n",
      "genre_id_3                  3000 non-null int64\n",
      "genre_id_4                  3000 non-null int64\n",
      "genre_id_5                  3000 non-null int64\n",
      "genre_id_6                  3000 non-null int64\n",
      "genre_id_7                  3000 non-null int64\n",
      "num_genre_types             3000 non-null int8\n",
      "is_sequel                   3000 non-null int8\n",
      "num_keywords                3000 non-null int16\n",
      "collection_id               3000 non-null int32\n",
      "US_prod_country             3000 non-null int8\n",
      "num_production_countries    3000 non-null int8\n",
      "num_production_companies    3000 non-null int8\n",
      "production_company_1        3000 non-null int64\n",
      "production_company_2        3000 non-null int64\n",
      "production_company_3        3000 non-null int64\n",
      "production_company_4        3000 non-null int64\n",
      "production_company_5        3000 non-null int64\n",
      "production_company_6        3000 non-null int64\n",
      "production_company_7        3000 non-null int64\n",
      "production_company_8        3000 non-null int64\n",
      "num_spoken_languages        3000 non-null int8\n",
      "status_is_released          3000 non-null int8\n",
      "dtypes: float16(2), float32(1), int16(3), int32(3), int64(15), int8(12)\n",
      "memory usage: 463.0 KB\n"
     ]
    }
   ],
   "source": [
    "le = LabelEncoder()\n",
    "train['collection_id'] = le.fit_transform(train['collection_id'])\n",
    "train['original_language'] = le.fit_transform(train['original_language'])\n",
    "train.info()"
   ]
  },
  {
   "cell_type": "code",
   "execution_count": 340,
   "metadata": {
    "scrolled": true
   },
   "outputs": [],
   "source": [
    "from sklearn.preprocessing import LabelEncoder\n",
    "def cat_encode(df):\n",
    "    le = LabelEncoder()\n",
    "    \n",
    "    # Make complete list of genre ids\n",
    "    genre_ids = df['genre_id_1']\n",
    "    for i in df.loc[:, 'genre_id_2': 'genre_id_7'].columns:\n",
    "        genre_ids = pd.concat([genre_ids, df[i]], axis=0)\n",
    "\n",
    "    lab_enc_genres = le.fit_transform(genre_ids)\n",
    "    genre_ids_dict = dict(zip(genre_ids, lab_enc_genres))\n",
    "\n",
    "    # Map genre_ids_dict to genre_id columns\n",
    "    for i in df.loc[:, 'genre_id_1': 'genre_id_7'].columns:\n",
    "        df[i] = df[i].map(genre_ids_dict)\n",
    "\n",
    "    # Make complete list of production companies\n",
    "    prod_companies = df['production_company_1']\n",
    "    for i in df.loc[:, 'production_company_2': 'production_company_8'].columns:\n",
    "        prod_companies = pd.concat([prod_companies, df[i]], axis=0)\n",
    "\n",
    "    lab_enc_comp = le.fit_transform(prod_companies)\n",
    "    prod_companies_dict = dict(zip(prod_companies, lab_enc_comp))\n",
    "\n",
    "    # Map genre_ids_dict to genre_id columns\n",
    "    for i in df.loc[:, 'production_company_1': 'production_company_8'].columns:\n",
    "        df[i] = df[i].map(prod_companies_dict)\n",
    "        \n",
    "    df['collection_id'] = le.fit_transform(df['collection_id'])\n",
    "    df['original_language'] = le.fit_transform(df['original_language'])\n",
    "    \n",
    "    return reduce_mem_usage(df)"
   ]
  },
  {
   "cell_type": "code",
   "execution_count": 343,
   "metadata": {},
   "outputs": [
    {
     "name": "stdout",
     "output_type": "stream",
     "text": [
      "Mem. usage decreased to  0.16 Mb (64.5% reduction)\n",
      "<class 'pandas.core.frame.DataFrame'>\n",
      "RangeIndex: 3000 entries, 0 to 2999\n",
      "Data columns (total 36 columns):\n",
      "is_in_collection            3000 non-null int8\n",
      "id                          3000 non-null int16\n",
      "budget                      3000 non-null float32\n",
      "original_language           3000 non-null int8\n",
      "popularity                  3000 non-null float16\n",
      "runtime                     3000 non-null float16\n",
      "revenue                     3000 non-null int32\n",
      "release_day                 3000 non-null int8\n",
      "release_weekday             3000 non-null int8\n",
      "release_month               3000 non-null int8\n",
      "release_year                3000 non-null int16\n",
      "title_length                3000 non-null int8\n",
      "genre_id_1                  3000 non-null int8\n",
      "genre_id_2                  3000 non-null int8\n",
      "genre_id_3                  3000 non-null int8\n",
      "genre_id_4                  3000 non-null int8\n",
      "genre_id_5                  3000 non-null int8\n",
      "genre_id_6                  3000 non-null int8\n",
      "genre_id_7                  3000 non-null int8\n",
      "num_genre_types             3000 non-null int8\n",
      "is_sequel                   3000 non-null int8\n",
      "num_keywords                3000 non-null int16\n",
      "collection_id               3000 non-null int16\n",
      "US_prod_country             3000 non-null int8\n",
      "num_production_countries    3000 non-null int8\n",
      "num_production_companies    3000 non-null int8\n",
      "production_company_1        3000 non-null int16\n",
      "production_company_2        3000 non-null int16\n",
      "production_company_3        3000 non-null int16\n",
      "production_company_4        3000 non-null int16\n",
      "production_company_5        3000 non-null int16\n",
      "production_company_6        3000 non-null int16\n",
      "production_company_7        3000 non-null int16\n",
      "production_company_8        3000 non-null int16\n",
      "num_spoken_languages        3000 non-null int8\n",
      "status_is_released          3000 non-null int8\n",
      "dtypes: float16(2), float32(1), int16(12), int32(1), int8(20)\n",
      "memory usage: 164.1 KB\n"
     ]
    }
   ],
   "source": [
    "train = cat_encode(train)\n",
    "test = cat_encode(test)\n",
    "train.info()"
   ]
  },
  {
   "cell_type": "code",
   "execution_count": 345,
   "metadata": {
    "scrolled": true
   },
   "outputs": [
    {
     "name": "stdout",
     "output_type": "stream",
     "text": [
      "is_in_collection (0.3394249988710912, 8.822682201754573e-82)\n",
      "id (0.0006095635294543107, 0.9733769342889089)\n",
      "budget (0.1584856653167129, 2.496733264319085e-18)\n",
      "original_language (-0.09229646266123444, 4.105701642952348e-07)\n",
      "popularity (0.0, 1.0)\n",
      "runtime (0.0, 1.0)\n",
      "revenue (1.0, 0.0)\n",
      "release_day (0.04569913504538599, 0.012303793328008152)\n",
      "release_weekday (-0.14109009535798767, 8.263944065848156e-15)\n",
      "release_month (0.0201639562122308, 0.26955958869104796)\n",
      "release_year (0.1379329200546047, 3.247716177921109e-14)\n",
      "title_length (0.09629030482419586, 1.2630957399106784e-07)\n",
      "genre_id_1 (-0.0993356540354809, 4.9789836363819086e-08)\n",
      "genre_id_2 (-0.08200122533251733, 6.8888132880519705e-06)\n",
      "genre_id_3 (-0.15117567984925706, 8.456561314003533e-17)\n",
      "genre_id_4 (-0.11019995168467128, 1.4321498347342908e-09)\n",
      "genre_id_5 (-0.030921351163622594, 0.09039243795759676)\n",
      "genre_id_6 (-0.023659914028199055, 0.1951312054107617)\n",
      "genre_id_7 (0.006003837916781562, 0.7423751493481074)\n",
      "num_genre_types (0.16327046799072736, 2.2692429235794536e-19)\n",
      "is_sequel (0.1515609582390459, 7.05351780217829e-17)\n",
      "num_keywords (0.1895337285263729, 1.162646853996101e-25)\n",
      "collection_id (-0.23387500879127537, 1.488204594716605e-38)\n",
      "US_prod_country (0.18306680054716684, 5.073680946421776e-24)\n",
      "num_production_countries (0.04303456202978759, 0.018412844868945243)\n",
      "num_production_companies (0.15569953980317408, 9.753599401463013e-18)\n",
      "production_company_1 (0.05532627278698337, 0.002434194770692784)\n",
      "production_company_2 (-0.06194052952020512, 0.0006876201743365378)\n",
      "production_company_3 (-0.06627771228172193, 0.0002805128913156714)\n",
      "production_company_4 (-0.0932720132319424, 3.0920389416630823e-07)\n",
      "production_company_5 (-0.05317297793907217, 0.0035768676675719396)\n",
      "production_company_6 (-0.08387185388526226, 4.224041794494649e-06)\n",
      "production_company_7 (-0.056370048984503915, 0.002010451472855434)\n",
      "production_company_8 (-0.03773579708782208, 0.038757768923415516)\n",
      "num_spoken_languages (0.062222464380118435, 0.0006497508102644028)\n",
      "status_is_released (0.016805729866448054, 0.3574843976061802)\n"
     ]
    }
   ],
   "source": [
    "# Get an idea of what correlates most strongly with revenue\n",
    "for i in train.columns:\n",
    "    print(i, stats.pearsonr(train[i], train['revenue']))"
   ]
  },
  {
   "cell_type": "markdown",
   "metadata": {},
   "source": [
    "#### Model Building and Parameter Tuning"
   ]
  },
  {
   "cell_type": "code",
   "execution_count": 346,
   "metadata": {},
   "outputs": [],
   "source": [
    "from sklearn.model_selection import train_test_split\n",
    "from sklearn.metrics import classification_report"
   ]
  },
  {
   "cell_type": "code",
   "execution_count": 347,
   "metadata": {},
   "outputs": [],
   "source": [
    "X = train.drop(['id', 'revenue'], axis=1)\n",
    "y = train['revenue']\n",
    "X_train, X_test, y_train, y_test = train_test_split(X, y, test_size=0.3, random_state=101)"
   ]
  },
  {
   "cell_type": "markdown",
   "metadata": {},
   "source": [
    "I think it's useful to first use a basic linear regression model.  We can make a more complex model later."
   ]
  },
  {
   "cell_type": "code",
   "execution_count": 348,
   "metadata": {},
   "outputs": [],
   "source": [
    "from sklearn.linear_model import LinearRegression\n",
    "model = LinearRegression()\n",
    "model.fit(X_train, y_train)\n",
    "pred = model.predict(X_test)"
   ]
  },
  {
   "cell_type": "code",
   "execution_count": 349,
   "metadata": {},
   "outputs": [
    {
     "name": "stderr",
     "output_type": "stream",
     "text": [
      "C:\\Users\\micha\\Anaconda3\\lib\\site-packages\\scipy\\stats\\stats.py:1713: FutureWarning: Using a non-tuple sequence for multidimensional indexing is deprecated; use `arr[tuple(seq)]` instead of `arr[seq]`. In the future this will be interpreted as an array index, `arr[np.array(seq)]`, which will result either in an error or a different result.\n",
      "  return np.add.reduce(sorted[indexer] * weights, axis=axis) / sumval\n"
     ]
    },
    {
     "data": {
      "text/plain": [
       "<matplotlib.axes._subplots.AxesSubplot at 0x1f4b8193e80>"
      ]
     },
     "execution_count": 349,
     "metadata": {},
     "output_type": "execute_result"
    },
    {
     "data": {
      "image/png": "[encoded data removed]",
      "text/plain": [
       "<matplotlib.figure.Figure at 0x1f4b8b6b080>"
      ]
     },
     "metadata": {
      "needs_background": "dark"
     },
     "output_type": "display_data"
    }
   ],
   "source": [
    "sns.distplot((y_test-pred),bins=50)"
   ]
  },
  {
   "cell_type": "code",
   "execution_count": 350,
   "metadata": {},
   "outputs": [],
   "source": [
    "def rmsle(y_true, y_pred):\n",
    "    return 'rmsle', np.sqrt(np.mean(np.power(np.log1p(y_pred) - np.log1p(y_true), 2))), False"
   ]
  },
  {
   "cell_type": "code",
   "execution_count": 351,
   "metadata": {},
   "outputs": [
    {
     "name": "stdout",
     "output_type": "stream",
     "text": [
      "MAE: 65279556.328888886\n",
      "MSE: 1.4582338462940332e+16\n",
      "RMSE: 120757353.65989241\n",
      "RMSLE: ('rmsle', 3.0337372785111856, False)\n"
     ]
    },
    {
     "name": "stderr",
     "output_type": "stream",
     "text": [
      "C:\\Users\\micha\\Anaconda3\\lib\\site-packages\\ipykernel_launcher.py:2: RuntimeWarning: invalid value encountered in log1p\n",
      "  \n"
     ]
    }
   ],
   "source": [
    "from sklearn import metrics\n",
    "print('MAE:', metrics.mean_absolute_error(y_test, pred))\n",
    "print('MSE:', metrics.mean_squared_error(y_test, pred))\n",
    "print('RMSE:', np.sqrt(metrics.mean_squared_error(y_test, pred)))\n",
    "print('RMSLE:', rmsle(y_test, pred))"
   ]
  },
  {
   "cell_type": "code",
   "execution_count": 352,
   "metadata": {},
   "outputs": [],
   "source": [
    "from lightgbm import LGBMRegressor\n",
    "lr = LGBMRegressor(boosting_type='dart', random_state=101)"
   ]
  },
  {
   "cell_type": "code",
   "execution_count": 353,
   "metadata": {},
   "outputs": [],
   "source": [
    "from sklearn.model_selection import GridSearchCV,StratifiedKFold"
   ]
  },
  {
   "cell_type": "code",
   "execution_count": 354,
   "metadata": {},
   "outputs": [],
   "source": [
    "# grid_1\n",
    "params_1 = {'num_leaves': [20, 40, 60, 80, 100], #20 is best\n",
    "          'max_depth': [-1, 2, 4, 6, 8], # -1 is best\n",
    "          'min_data_in_leaf': [20, 50, 100, 200], #20 is best\n",
    "          #'learning_rate': [0.05, 0.1, 0.15, 0.2],\n",
    "          #'n_estimators': [100, 500, 1000],\n",
    "          'subsample_for_bin': [200000],\n",
    "          #'objective': 'regression',\n",
    "          #'class_weight': None,\n",
    "          'min_split_gain': [0.0],\n",
    "          'min_child_weight': [0.001],\n",
    "          #'subsample': [0.5, 0.75, 1.0],\n",
    "          'subsample_freq': [0],\n",
    "          #'colsample_bytree': [0.5, 0.75, 1.0],\n",
    "          #'reg_alpha': [0.0, 0.25, 0.5, 0.75, 1],\n",
    "          #'reg_lambda': [0.0, 0.25, 0.5, 0.75, 1],\n",
    "          'random_state': [101],\n",
    "          'n_jobs': [-1]\n",
    "         }"
   ]
  },
  {
   "cell_type": "code",
   "execution_count": 355,
   "metadata": {},
   "outputs": [
    {
     "data": {
      "text/plain": [
       "GridSearchCV(cv=5, error_score='raise-deprecating',\n",
       "       estimator=LGBMRegressor(boosting_type='dart', class_weight=None, colsample_bytree=1.0,\n",
       "       learning_rate=0.1, max_depth=-1, min_child_samples=20,\n",
       "       min_child_weight=0.001, min_split_gain=0.0, n_estimators=100,\n",
       "       n_jobs=-1, num_leaves=31, objective=None, random_state=101,\n",
       "       reg_alpha=0.0, reg_lambda=0.0, silent=True, subsample=1.0,\n",
       "       subsample_for_bin=200000, subsample_freq=0),\n",
       "       fit_params=None, iid='warn', n_jobs=None,\n",
       "       param_grid={'num_leaves': [20, 40, 60, 80, 100], 'max_depth': [-1, 2, 4, 6, 8], 'min_data_in_leaf': [20, 50, 100, 200], 'subsample_for_bin': [200000], 'min_split_gain': [0.0], 'min_child_weight': [0.001], 'subsample_freq': [0], 'random_state': [101], 'n_jobs': [-1]},\n",
       "       pre_dispatch='2*n_jobs', refit=True, return_train_score='warn',\n",
       "       scoring='neg_mean_squared_error', verbose=0)"
      ]
     },
     "execution_count": 355,
     "metadata": {},
     "output_type": "execute_result"
    }
   ],
   "source": [
    "grid_1 = GridSearchCV(lr, param_grid=params_1, scoring='neg_mean_squared_error', cv=5)\n",
    "grid_1.fit(X_train, y_train)"
   ]
  },
  {
   "cell_type": "code",
   "execution_count": 356,
   "metadata": {},
   "outputs": [
    {
     "name": "stdout",
     "output_type": "stream",
     "text": [
      "{'max_depth': -1, 'min_child_weight': 0.001, 'min_data_in_leaf': 20, 'min_split_gain': 0.0, 'n_jobs': -1, 'num_leaves': 20, 'random_state': 101, 'subsample_for_bin': 200000, 'subsample_freq': 0}\n",
      "-8972681120753005.0\n",
      "LGBMRegressor(boosting_type='dart', class_weight=None, colsample_bytree=1.0,\n",
      "       learning_rate=0.1, max_depth=-1, min_child_samples=20,\n",
      "       min_child_weight=0.001, min_data_in_leaf=20, min_split_gain=0.0,\n",
      "       n_estimators=100, n_jobs=-1, num_leaves=20, objective=None,\n",
      "       random_state=101, reg_alpha=0.0, reg_lambda=0.0, silent=True,\n",
      "       subsample=1.0, subsample_for_bin=200000, subsample_freq=0)\n"
     ]
    }
   ],
   "source": [
    "print(grid_1.best_params_)\n",
    "print(grid_1.best_score_)\n",
    "print(grid_1.best_estimator_)"
   ]
  },
  {
   "cell_type": "code",
   "execution_count": 357,
   "metadata": {},
   "outputs": [],
   "source": [
    "# grid_2\n",
    "params_2 = {'num_leaves': [10, 15, 20], # 20 is best\n",
    "          'max_depth': [-1],\n",
    "          'min_data_in_leaf': [10, 15, 20], # 20 is best\n",
    "          #'learning_rate': [0.05, 0.1, 0.15, 0.2],\n",
    "          #'n_estimators': [100, 500, 1000],\n",
    "          'subsample_for_bin': [200000],\n",
    "          #'objective': 'regression',\n",
    "          #'class_weight': None,\n",
    "          'min_split_gain': [0.0],\n",
    "          'min_child_weight': [0.001],\n",
    "          #'subsample': [0.5, 0.75, 1.0],\n",
    "          'subsample_freq': [0],\n",
    "          #'colsample_bytree': [0.5, 0.75, 1.0],\n",
    "          #'reg_alpha': [0.0, 0.25, 0.5, 0.75, 1],\n",
    "          #'reg_lambda': [0.0, 0.25, 0.5, 0.75, 1],\n",
    "          'random_state': [101],\n",
    "          'n_jobs': [-1]\n",
    "         }"
   ]
  },
  {
   "cell_type": "code",
   "execution_count": 358,
   "metadata": {},
   "outputs": [
    {
     "data": {
      "text/plain": [
       "GridSearchCV(cv=5, error_score='raise-deprecating',\n",
       "       estimator=LGBMRegressor(boosting_type='dart', class_weight=None, colsample_bytree=1.0,\n",
       "       learning_rate=0.1, max_depth=-1, min_child_samples=20,\n",
       "       min_child_weight=0.001, min_split_gain=0.0, n_estimators=100,\n",
       "       n_jobs=-1, num_leaves=31, objective=None, random_state=101,\n",
       "       reg_alpha=0.0, reg_lambda=0.0, silent=True, subsample=1.0,\n",
       "       subsample_for_bin=200000, subsample_freq=0),\n",
       "       fit_params=None, iid='warn', n_jobs=None,\n",
       "       param_grid={'num_leaves': [10, 15, 20], 'max_depth': [-1], 'min_data_in_leaf': [10, 15, 20], 'subsample_for_bin': [200000], 'min_split_gain': [0.0], 'min_child_weight': [0.001], 'subsample_freq': [0], 'random_state': [101], 'n_jobs': [-1]},\n",
       "       pre_dispatch='2*n_jobs', refit=True, return_train_score='warn',\n",
       "       scoring='neg_mean_squared_error', verbose=0)"
      ]
     },
     "execution_count": 358,
     "metadata": {},
     "output_type": "execute_result"
    }
   ],
   "source": [
    "grid_2 = GridSearchCV(lr, param_grid=params_2, scoring='neg_mean_squared_error', cv=5)\n",
    "grid_2.fit(X_train, y_train)"
   ]
  },
  {
   "cell_type": "code",
   "execution_count": 359,
   "metadata": {},
   "outputs": [
    {
     "name": "stdout",
     "output_type": "stream",
     "text": [
      "{'max_depth': -1, 'min_child_weight': 0.001, 'min_data_in_leaf': 20, 'min_split_gain': 0.0, 'n_jobs': -1, 'num_leaves': 20, 'random_state': 101, 'subsample_for_bin': 200000, 'subsample_freq': 0}\n",
      "-8972681120753005.0\n",
      "LGBMRegressor(boosting_type='dart', class_weight=None, colsample_bytree=1.0,\n",
      "       learning_rate=0.1, max_depth=-1, min_child_samples=20,\n",
      "       min_child_weight=0.001, min_data_in_leaf=20, min_split_gain=0.0,\n",
      "       n_estimators=100, n_jobs=-1, num_leaves=20, objective=None,\n",
      "       random_state=101, reg_alpha=0.0, reg_lambda=0.0, silent=True,\n",
      "       subsample=1.0, subsample_for_bin=200000, subsample_freq=0)\n"
     ]
    }
   ],
   "source": [
    "print(grid_2.best_params_)\n",
    "print(grid_2.best_score_)\n",
    "print(grid_2.best_estimator_)"
   ]
  },
  {
   "cell_type": "code",
   "execution_count": 363,
   "metadata": {},
   "outputs": [],
   "source": [
    "# grid_3\n",
    "params_3 = {'num_leaves': [20],\n",
    "          'max_depth': [-1],\n",
    "          'min_data_in_leaf': [20],\n",
    "          'learning_rate': [0.05, 0.1, 0.15, 0.2], # 0.2 is best\n",
    "          'n_estimators': [100, 250, 500, 1000], # 500 is best\n",
    "          'subsample_for_bin': [200000],\n",
    "          #'objective': 'regression',\n",
    "          #'class_weight': None,\n",
    "          'min_split_gain': [0.0],\n",
    "          'min_child_weight': [0.001],\n",
    "          #'subsample': [0.5, 0.75, 1.0],\n",
    "          'subsample_freq': [0],\n",
    "          #'colsample_bytree': [0.5, 0.75, 1.0],\n",
    "          #'reg_alpha': [0.0, 0.25, 0.5, 0.75, 1],\n",
    "          #'reg_lambda': [0.0, 0.25, 0.5, 0.75, 1],\n",
    "          'random_state': [101],\n",
    "          'n_jobs': [-1]\n",
    "         }"
   ]
  },
  {
   "cell_type": "code",
   "execution_count": 364,
   "metadata": {},
   "outputs": [
    {
     "data": {
      "text/plain": [
       "GridSearchCV(cv=5, error_score='raise-deprecating',\n",
       "       estimator=LGBMRegressor(boosting_type='dart', class_weight=None, colsample_bytree=1.0,\n",
       "       learning_rate=0.1, max_depth=-1, min_child_samples=20,\n",
       "       min_child_weight=0.001, min_split_gain=0.0, n_estimators=100,\n",
       "       n_jobs=-1, num_leaves=31, objective=None, random_state=101,\n",
       "       reg_alpha=0.0, reg_lambda=0.0, silent=True, subsample=1.0,\n",
       "       subsample_for_bin=200000, subsample_freq=0),\n",
       "       fit_params=None, iid='warn', n_jobs=None,\n",
       "       param_grid={'num_leaves': [20], 'max_depth': [-1], 'min_data_in_leaf': [20], 'learning_rate': [0.05, 0.1, 0.15, 0.2], 'n_estimators': [100, 250, 500, 1000], 'subsample_for_bin': [200000], 'min_split_gain': [0.0], 'min_child_weight': [0.001], 'subsample_freq': [0], 'random_state': [101], 'n_jobs': [-1]},\n",
       "       pre_dispatch='2*n_jobs', refit=True, return_train_score='warn',\n",
       "       scoring='neg_mean_squared_error', verbose=0)"
      ]
     },
     "execution_count": 364,
     "metadata": {},
     "output_type": "execute_result"
    }
   ],
   "source": [
    "grid_3 = GridSearchCV(lr, param_grid=params_3, scoring='neg_mean_squared_error', cv=5)\n",
    "grid_3.fit(X_train, y_train)"
   ]
  },
  {
   "cell_type": "code",
   "execution_count": 365,
   "metadata": {},
   "outputs": [
    {
     "name": "stdout",
     "output_type": "stream",
     "text": [
      "{'learning_rate': 0.2, 'max_depth': -1, 'min_child_weight': 0.001, 'min_data_in_leaf': 20, 'min_split_gain': 0.0, 'n_estimators': 500, 'n_jobs': -1, 'num_leaves': 20, 'random_state': 101, 'subsample_for_bin': 200000, 'subsample_freq': 0}\n",
      "-8039957543572287.0\n",
      "LGBMRegressor(boosting_type='dart', class_weight=None, colsample_bytree=1.0,\n",
      "       learning_rate=0.2, max_depth=-1, min_child_samples=20,\n",
      "       min_child_weight=0.001, min_data_in_leaf=20, min_split_gain=0.0,\n",
      "       n_estimators=500, n_jobs=-1, num_leaves=20, objective=None,\n",
      "       random_state=101, reg_alpha=0.0, reg_lambda=0.0, silent=True,\n",
      "       subsample=1.0, subsample_for_bin=200000, subsample_freq=0)\n"
     ]
    }
   ],
   "source": [
    "print(grid_3.best_params_)\n",
    "print(grid_3.best_score_)\n",
    "print(grid_3.best_estimator_)"
   ]
  },
  {
   "cell_type": "code",
   "execution_count": 366,
   "metadata": {},
   "outputs": [],
   "source": [
    "# grid_4\n",
    "params_4 = {'num_leaves': [20],\n",
    "          'max_depth': [-1],\n",
    "          'min_data_in_leaf': [20],\n",
    "          'learning_rate': [0.2], \n",
    "          'n_estimators': [500],\n",
    "          'subsample_for_bin': [200000],\n",
    "          #'objective': 'regression',\n",
    "          #'class_weight': None,\n",
    "          'min_split_gain': [0.0],\n",
    "          'min_child_weight': [0.001],\n",
    "          'subsample': [0.1, 0.25, 0.5, 0.75, 1.0], # 0.1 is best\n",
    "          'subsample_freq': [0],\n",
    "          'colsample_bytree': [0.1, 0.25, 0.5, 0.75, 1.0], # 0.75 is best\n",
    "          #'reg_alpha': [0.0, 0.25, 0.5, 0.75, 1],\n",
    "          #'reg_lambda': [0.0, 0.25, 0.5, 0.75, 1],\n",
    "          'random_state': [101],\n",
    "          'n_jobs': [-1]\n",
    "         }"
   ]
  },
  {
   "cell_type": "code",
   "execution_count": 367,
   "metadata": {},
   "outputs": [
    {
     "data": {
      "text/plain": [
       "GridSearchCV(cv=5, error_score='raise-deprecating',\n",
       "       estimator=LGBMRegressor(boosting_type='dart', class_weight=None, colsample_bytree=1.0,\n",
       "       learning_rate=0.1, max_depth=-1, min_child_samples=20,\n",
       "       min_child_weight=0.001, min_split_gain=0.0, n_estimators=100,\n",
       "       n_jobs=-1, num_leaves=31, objective=None, random_state=101,\n",
       "       reg_alpha=0.0, reg_lambda=0.0, silent=True, subsample=1.0,\n",
       "       subsample_for_bin=200000, subsample_freq=0),\n",
       "       fit_params=None, iid='warn', n_jobs=None,\n",
       "       param_grid={'num_leaves': [20], 'max_depth': [-1], 'min_data_in_leaf': [20], 'learning_rate': [0.2], 'n_estimators': [500], 'subsample_for_bin': [200000], 'min_split_gain': [0.0], 'min_child_weight': [0.001], 'subsample': [0.1, 0.25, 0.5, 0.75, 1.0], 'subsample_freq': [0], 'colsample_bytree': [0.1, 0.25, 0.5, 0.75, 1.0], 'random_state': [101], 'n_jobs': [-1]},\n",
       "       pre_dispatch='2*n_jobs', refit=True, return_train_score='warn',\n",
       "       scoring='neg_mean_squared_error', verbose=0)"
      ]
     },
     "execution_count": 367,
     "metadata": {},
     "output_type": "execute_result"
    }
   ],
   "source": [
    "grid_4 = GridSearchCV(lr, param_grid=params_4, scoring='neg_mean_squared_error', cv=5)\n",
    "grid_4.fit(X_train, y_train)"
   ]
  },
  {
   "cell_type": "code",
   "execution_count": 368,
   "metadata": {},
   "outputs": [
    {
     "name": "stdout",
     "output_type": "stream",
     "text": [
      "{'colsample_bytree': 0.75, 'learning_rate': 0.2, 'max_depth': -1, 'min_child_weight': 0.001, 'min_data_in_leaf': 20, 'min_split_gain': 0.0, 'n_estimators': 500, 'n_jobs': -1, 'num_leaves': 20, 'random_state': 101, 'subsample': 0.1, 'subsample_for_bin': 200000, 'subsample_freq': 0}\n",
      "-7962069953924532.0\n",
      "LGBMRegressor(boosting_type='dart', class_weight=None, colsample_bytree=0.75,\n",
      "       learning_rate=0.2, max_depth=-1, min_child_samples=20,\n",
      "       min_child_weight=0.001, min_data_in_leaf=20, min_split_gain=0.0,\n",
      "       n_estimators=500, n_jobs=-1, num_leaves=20, objective=None,\n",
      "       random_state=101, reg_alpha=0.0, reg_lambda=0.0, silent=True,\n",
      "       subsample=0.1, subsample_for_bin=200000, subsample_freq=0)\n"
     ]
    }
   ],
   "source": [
    "print(grid_4.best_params_)\n",
    "print(grid_4.best_score_)\n",
    "print(grid_4.best_estimator_)"
   ]
  },
  {
   "cell_type": "code",
   "execution_count": 369,
   "metadata": {},
   "outputs": [],
   "source": [
    "# grid_5\n",
    "params_5 = {'num_leaves': [20],\n",
    "          'max_depth': [-1],\n",
    "          'min_data_in_leaf': [20],\n",
    "          'learning_rate': [0.2], \n",
    "          'n_estimators': [500],\n",
    "          'subsample_for_bin': [200000],\n",
    "          #'objective': 'regression',\n",
    "          #'class_weight': None,\n",
    "          'min_split_gain': [0.0],\n",
    "          'min_child_weight': [0.001],\n",
    "          'subsample': [0.1],\n",
    "          'subsample_freq': [0],\n",
    "          'colsample_bytree': [0.75],\n",
    "          'reg_alpha': [0.0, 0.25, 0.5, 0.75, 1], # 0 is best\n",
    "          'reg_lambda': [0.0, 0.25, 0.5, 0.75, 1], # 0 is best\n",
    "          'random_state': [101],\n",
    "          'n_jobs': [-1]\n",
    "         }"
   ]
  },
  {
   "cell_type": "code",
   "execution_count": 370,
   "metadata": {},
   "outputs": [
    {
     "data": {
      "text/plain": [
       "GridSearchCV(cv=5, error_score='raise-deprecating',\n",
       "       estimator=LGBMRegressor(boosting_type='dart', class_weight=None, colsample_bytree=1.0,\n",
       "       learning_rate=0.1, max_depth=-1, min_child_samples=20,\n",
       "       min_child_weight=0.001, min_split_gain=0.0, n_estimators=100,\n",
       "       n_jobs=-1, num_leaves=31, objective=None, random_state=101,\n",
       "       reg_alpha=0.0, reg_lambda=0.0, silent=True, subsample=1.0,\n",
       "       subsample_for_bin=200000, subsample_freq=0),\n",
       "       fit_params=None, iid='warn', n_jobs=None,\n",
       "       param_grid={'num_leaves': [20], 'max_depth': [-1], 'min_data_in_leaf': [20], 'learning_rate': [0.2], 'n_estimators': [500], 'subsample_for_bin': [200000], 'min_split_gain': [0.0], 'min_child_weight': [0.001], 'subsample': [0.1, 0.25, 0.5, 0.75, 1.0], 'subsample_freq': [0], 'colsample_bytree': [0.1, 0.25, 0.5, 0.75, 1.0], 'random_state': [101], 'n_jobs': [-1]},\n",
       "       pre_dispatch='2*n_jobs', refit=True, return_train_score='warn',\n",
       "       scoring='neg_mean_squared_error', verbose=0)"
      ]
     },
     "execution_count": 370,
     "metadata": {},
     "output_type": "execute_result"
    }
   ],
   "source": [
    "grid_5 = GridSearchCV(lr, param_grid=params_4, scoring='neg_mean_squared_error', cv=5)\n",
    "grid_5.fit(X_train, y_train)"
   ]
  },
  {
   "cell_type": "code",
   "execution_count": 371,
   "metadata": {},
   "outputs": [
    {
     "name": "stdout",
     "output_type": "stream",
     "text": [
      "{'colsample_bytree': 0.75, 'learning_rate': 0.2, 'max_depth': -1, 'min_child_weight': 0.001, 'min_data_in_leaf': 20, 'min_split_gain': 0.0, 'n_estimators': 500, 'n_jobs': -1, 'num_leaves': 20, 'random_state': 101, 'subsample': 0.1, 'subsample_for_bin': 200000, 'subsample_freq': 0}\n",
      "-7962069953924532.0\n",
      "LGBMRegressor(boosting_type='dart', class_weight=None, colsample_bytree=0.75,\n",
      "       learning_rate=0.2, max_depth=-1, min_child_samples=20,\n",
      "       min_child_weight=0.001, min_data_in_leaf=20, min_split_gain=0.0,\n",
      "       n_estimators=500, n_jobs=-1, num_leaves=20, objective=None,\n",
      "       random_state=101, reg_alpha=0.0, reg_lambda=0.0, silent=True,\n",
      "       subsample=0.1, subsample_for_bin=200000, subsample_freq=0)\n"
     ]
    }
   ],
   "source": [
    "print(grid_5.best_params_)\n",
    "print(grid_5.best_score_)\n",
    "print(grid_5.best_estimator_)"
   ]
  },
  {
   "cell_type": "code",
   "execution_count": 372,
   "metadata": {},
   "outputs": [],
   "source": [
    "lr = LGBMRegressor(boosting_type='dart',\n",
    "                   num_leaves=20,\n",
    "                   max_depth=-1,\n",
    "                   min_data_in_leaf=20, \n",
    "                   learning_rate=0.2,\n",
    "                   n_estimators=500,\n",
    "                   subsample_for_bin=200000,\n",
    "                   #objective='regression',\n",
    "                   class_weight=None,\n",
    "                   min_split_gain=0.0,\n",
    "                   min_child_weight=0.001,\n",
    "                   subsample=0.1,\n",
    "                   subsample_freq=0,\n",
    "                   colsample_bytree=0.75,\n",
    "                   reg_alpha=0.0,\n",
    "                   reg_lambda=0.0,\n",
    "                   random_state=101,\n",
    "                   n_jobs=-1)"
   ]
  },
  {
   "cell_type": "code",
   "execution_count": 373,
   "metadata": {},
   "outputs": [
    {
     "name": "stdout",
     "output_type": "stream",
     "text": [
      "[1]\tvalid_0's l2: 1.69918e+16\tvalid_0's rmsle: 3.62417\n",
      "Training until validation scores don't improve for 500 rounds.\n",
      "[2]\tvalid_0's l2: 1.45016e+16\tvalid_0's rmsle: 3.54595\n",
      "[3]\tvalid_0's l2: 1.33889e+16\tvalid_0's rmsle: 3.49049\n",
      "[4]\tvalid_0's l2: 1.23438e+16\tvalid_0's rmsle: 3.42875\n",
      "[5]\tvalid_0's l2: 1.14374e+16\tvalid_0's rmsle: 3.37382\n",
      "[6]\tvalid_0's l2: 1.09088e+16\tvalid_0's rmsle: 3.3188\n",
      "[7]\tvalid_0's l2: 1.05372e+16\tvalid_0's rmsle: 3.27418\n",
      "[8]\tvalid_0's l2: 1.03835e+16\tvalid_0's rmsle: 3.23247\n",
      "[9]\tvalid_0's l2: 1.02827e+16\tvalid_0's rmsle: 3.19183\n",
      "[10]\tvalid_0's l2: 1.04423e+16\tvalid_0's rmsle: 3.23522\n",
      "[11]\tvalid_0's l2: 1.03566e+16\tvalid_0's rmsle: 3.19589\n",
      "[12]\tvalid_0's l2: 1.03561e+16\tvalid_0's rmsle: 3.16648\n",
      "[13]\tvalid_0's l2: 1.02922e+16\tvalid_0's rmsle: 3.12533\n",
      "[14]\tvalid_0's l2: 1.02034e+16\tvalid_0's rmsle: 3.07477\n",
      "[15]\tvalid_0's l2: 1.02398e+16\tvalid_0's rmsle: 3.1098\n",
      "[16]\tvalid_0's l2: 1.02544e+16\tvalid_0's rmsle: 3.06409\n",
      "[17]\tvalid_0's l2: 1.031e+16\tvalid_0's rmsle: 3.09478\n",
      "[18]\tvalid_0's l2: 1.02936e+16\tvalid_0's rmsle: 3.09276\n",
      "[19]\tvalid_0's l2: 1.02399e+16\tvalid_0's rmsle: 3.06542\n",
      "[20]\tvalid_0's l2: 1.01354e+16\tvalid_0's rmsle: 3.03829\n",
      "[21]\tvalid_0's l2: 1.01934e+16\tvalid_0's rmsle: 3.01718\n",
      "[22]\tvalid_0's l2: 1.01656e+16\tvalid_0's rmsle: 3.02482\n",
      "[23]\tvalid_0's l2: 1.01145e+16\tvalid_0's rmsle: 3.03564\n",
      "[24]\tvalid_0's l2: 1.01454e+16\tvalid_0's rmsle: 3.02269\n",
      "[25]\tvalid_0's l2: 1.01757e+16\tvalid_0's rmsle: 3.01796\n",
      "[26]\tvalid_0's l2: 1.01956e+16\tvalid_0's rmsle: 2.97769\n",
      "[27]\tvalid_0's l2: 1.02104e+16\tvalid_0's rmsle: 3.02915\n",
      "[28]\tvalid_0's l2: 1.06161e+16\tvalid_0's rmsle: 2.34134\n",
      "[29]\tvalid_0's l2: 1.04323e+16\tvalid_0's rmsle: 2.41175\n",
      "[30]\tvalid_0's l2: 1.04041e+16\tvalid_0's rmsle: 2.52431\n",
      "[31]\tvalid_0's l2: 1.03353e+16\tvalid_0's rmsle: 2.55809\n",
      "[32]\tvalid_0's l2: 1.03647e+16\tvalid_0's rmsle: 2.60108\n",
      "[33]\tvalid_0's l2: 1.02492e+16\tvalid_0's rmsle: 2.63045\n",
      "[34]\tvalid_0's l2: 1.02334e+16\tvalid_0's rmsle: 2.65532\n",
      "[35]\tvalid_0's l2: 1.02247e+16\tvalid_0's rmsle: 2.66565\n",
      "[36]\tvalid_0's l2: 1.02029e+16\tvalid_0's rmsle: 2.71107\n",
      "[37]\tvalid_0's l2: 1.02673e+16\tvalid_0's rmsle: 2.54774\n",
      "[38]\tvalid_0's l2: 1.02725e+16\tvalid_0's rmsle: 2.66486\n",
      "[39]\tvalid_0's l2: 1.02317e+16\tvalid_0's rmsle: 2.70337\n",
      "[40]\tvalid_0's l2: 1.02463e+16\tvalid_0's rmsle: 2.81007\n",
      "[41]\tvalid_0's l2: 1.0273e+16\tvalid_0's rmsle: 2.82556\n",
      "[42]\tvalid_0's l2: 1.02705e+16\tvalid_0's rmsle: 2.84482\n",
      "[43]\tvalid_0's l2: 1.02529e+16\tvalid_0's rmsle: 2.8456\n",
      "[44]\tvalid_0's l2: 1.03458e+16\tvalid_0's rmsle: 2.66081\n",
      "[45]\tvalid_0's l2: 1.01998e+16\tvalid_0's rmsle: 2.76672\n",
      "[46]\tvalid_0's l2: 1.02316e+16\tvalid_0's rmsle: 2.72288\n",
      "[47]\tvalid_0's l2: 1.02332e+16\tvalid_0's rmsle: 2.80215\n",
      "[48]\tvalid_0's l2: 1.02347e+16\tvalid_0's rmsle: 2.82483\n",
      "[49]\tvalid_0's l2: 1.02347e+16\tvalid_0's rmsle: 2.86692\n",
      "[50]\tvalid_0's l2: 1.04193e+16\tvalid_0's rmsle: 2.54437\n",
      "[51]\tvalid_0's l2: 1.03536e+16\tvalid_0's rmsle: 2.60842\n",
      "[52]\tvalid_0's l2: 1.03054e+16\tvalid_0's rmsle: 2.66937\n",
      "[53]\tvalid_0's l2: 1.02977e+16\tvalid_0's rmsle: 2.68462\n",
      "[54]\tvalid_0's l2: 1.03013e+16\tvalid_0's rmsle: 2.68839\n",
      "[55]\tvalid_0's l2: 1.02958e+16\tvalid_0's rmsle: 2.68063\n",
      "[56]\tvalid_0's l2: 1.02945e+16\tvalid_0's rmsle: 2.67483\n",
      "[57]\tvalid_0's l2: 1.02049e+16\tvalid_0's rmsle: 2.69523\n",
      "[58]\tvalid_0's l2: 1.03364e+16\tvalid_0's rmsle: 2.64893\n",
      "[59]\tvalid_0's l2: 1.03222e+16\tvalid_0's rmsle: 2.65954\n"
     ]
    },
    {
     "name": "stderr",
     "output_type": "stream",
     "text": [
      "C:\\Users\\micha\\Anaconda3\\lib\\site-packages\\ipykernel_launcher.py:2: RuntimeWarning: invalid value encountered in log1p\n",
      "  \n"
     ]
    },
    {
     "name": "stdout",
     "output_type": "stream",
     "text": [
      "[60]\tvalid_0's l2: 1.03155e+16\tvalid_0's rmsle: 2.67567\n",
      "[61]\tvalid_0's l2: 1.03525e+16\tvalid_0's rmsle: 2.74649\n",
      "[62]\tvalid_0's l2: 1.03827e+16\tvalid_0's rmsle: 2.78761\n",
      "[63]\tvalid_0's l2: 1.027e+16\tvalid_0's rmsle: 2.79785\n",
      "[64]\tvalid_0's l2: 1.02489e+16\tvalid_0's rmsle: 2.83777\n",
      "[65]\tvalid_0's l2: 1.02706e+16\tvalid_0's rmsle: 2.85841\n",
      "[66]\tvalid_0's l2: 1.02511e+16\tvalid_0's rmsle: 2.84711\n",
      "[67]\tvalid_0's l2: 1.02621e+16\tvalid_0's rmsle: 2.84214\n",
      "[68]\tvalid_0's l2: 1.02758e+16\tvalid_0's rmsle: 2.87117\n",
      "[69]\tvalid_0's l2: 1.0365e+16\tvalid_0's rmsle: 2.89303\n",
      "[70]\tvalid_0's l2: 1.03458e+16\tvalid_0's rmsle: 2.9254\n",
      "[71]\tvalid_0's l2: 1.03176e+16\tvalid_0's rmsle: 2.92144\n",
      "[72]\tvalid_0's l2: 1.02951e+16\tvalid_0's rmsle: 2.91034\n",
      "[73]\tvalid_0's l2: 1.03129e+16\tvalid_0's rmsle: 2.92619\n",
      "[74]\tvalid_0's l2: 1.0309e+16\tvalid_0's rmsle: 2.94407\n",
      "[75]\tvalid_0's l2: 1.03098e+16\tvalid_0's rmsle: 2.9521\n",
      "[76]\tvalid_0's l2: 1.03012e+16\tvalid_0's rmsle: 2.95009\n",
      "[77]\tvalid_0's l2: 1.03008e+16\tvalid_0's rmsle: 2.94773\n",
      "[78]\tvalid_0's l2: 1.02952e+16\tvalid_0's rmsle: 2.94664\n",
      "[79]\tvalid_0's l2: 1.02772e+16\tvalid_0's rmsle: 2.94502\n",
      "[80]\tvalid_0's l2: 1.02783e+16\tvalid_0's rmsle: 2.95115\n",
      "[81]\tvalid_0's l2: 1.02315e+16\tvalid_0's rmsle: 2.9375\n",
      "[82]\tvalid_0's l2: 1.02425e+16\tvalid_0's rmsle: 2.91691\n",
      "[83]\tvalid_0's l2: 1.02285e+16\tvalid_0's rmsle: 2.91902\n",
      "[84]\tvalid_0's l2: 1.02981e+16\tvalid_0's rmsle: 2.91158\n",
      "[85]\tvalid_0's l2: 1.03029e+16\tvalid_0's rmsle: 2.89299\n",
      "[86]\tvalid_0's l2: 1.02924e+16\tvalid_0's rmsle: 2.91516\n",
      "[87]\tvalid_0's l2: 1.03154e+16\tvalid_0's rmsle: 2.92574\n",
      "[88]\tvalid_0's l2: 1.03086e+16\tvalid_0's rmsle: 2.93018\n",
      "[89]\tvalid_0's l2: 1.03276e+16\tvalid_0's rmsle: 2.92934\n",
      "[90]\tvalid_0's l2: 1.03902e+16\tvalid_0's rmsle: 2.9242\n",
      "[91]\tvalid_0's l2: 1.04512e+16\tvalid_0's rmsle: 2.92783\n",
      "[92]\tvalid_0's l2: 1.04267e+16\tvalid_0's rmsle: 2.92303\n",
      "[93]\tvalid_0's l2: 1.04061e+16\tvalid_0's rmsle: 2.92138\n",
      "[94]\tvalid_0's l2: 1.04054e+16\tvalid_0's rmsle: 2.9351\n",
      "[95]\tvalid_0's l2: 1.03895e+16\tvalid_0's rmsle: 2.93923\n",
      "[96]\tvalid_0's l2: 1.03871e+16\tvalid_0's rmsle: 2.94529\n",
      "[97]\tvalid_0's l2: 1.03891e+16\tvalid_0's rmsle: 2.9592\n",
      "[98]\tvalid_0's l2: 1.04003e+16\tvalid_0's rmsle: 2.94551\n",
      "[99]\tvalid_0's l2: 1.03918e+16\tvalid_0's rmsle: 2.96176\n",
      "[100]\tvalid_0's l2: 1.03729e+16\tvalid_0's rmsle: 2.96116\n",
      "[101]\tvalid_0's l2: 1.03077e+16\tvalid_0's rmsle: 2.9187\n",
      "[102]\tvalid_0's l2: 1.03022e+16\tvalid_0's rmsle: 2.92193\n",
      "[103]\tvalid_0's l2: 1.02756e+16\tvalid_0's rmsle: 2.92293\n",
      "[104]\tvalid_0's l2: 1.02565e+16\tvalid_0's rmsle: 2.94461\n",
      "[105]\tvalid_0's l2: 1.02873e+16\tvalid_0's rmsle: 2.94426\n",
      "[106]\tvalid_0's l2: 1.02096e+16\tvalid_0's rmsle: 2.93265\n",
      "[107]\tvalid_0's l2: 1.02261e+16\tvalid_0's rmsle: 2.90879\n",
      "[108]\tvalid_0's l2: 1.02113e+16\tvalid_0's rmsle: 2.91362\n",
      "[109]\tvalid_0's l2: 1.02122e+16\tvalid_0's rmsle: 2.9353\n",
      "[110]\tvalid_0's l2: 1.02168e+16\tvalid_0's rmsle: 2.94966\n",
      "[111]\tvalid_0's l2: 1.02296e+16\tvalid_0's rmsle: 2.94812\n",
      "[112]\tvalid_0's l2: 1.02078e+16\tvalid_0's rmsle: 2.9344\n",
      "[113]\tvalid_0's l2: 1.02113e+16\tvalid_0's rmsle: 2.90552\n",
      "[114]\tvalid_0's l2: 1.02245e+16\tvalid_0's rmsle: 2.90119\n",
      "[115]\tvalid_0's l2: 1.02729e+16\tvalid_0's rmsle: 2.89022\n",
      "[116]\tvalid_0's l2: 1.02613e+16\tvalid_0's rmsle: 2.91416\n",
      "[117]\tvalid_0's l2: 1.02586e+16\tvalid_0's rmsle: 2.92441\n",
      "[118]\tvalid_0's l2: 1.02636e+16\tvalid_0's rmsle: 2.93515\n",
      "[119]\tvalid_0's l2: 1.0276e+16\tvalid_0's rmsle: 2.92391\n",
      "[120]\tvalid_0's l2: 1.02753e+16\tvalid_0's rmsle: 2.95008\n",
      "[121]\tvalid_0's l2: 1.02977e+16\tvalid_0's rmsle: 2.91344\n",
      "[122]\tvalid_0's l2: 1.03219e+16\tvalid_0's rmsle: 2.91194\n",
      "[123]\tvalid_0's l2: 1.03174e+16\tvalid_0's rmsle: 2.90433\n",
      "[124]\tvalid_0's l2: 1.03417e+16\tvalid_0's rmsle: 2.91047\n",
      "[125]\tvalid_0's l2: 1.03375e+16\tvalid_0's rmsle: 2.91462\n",
      "[126]\tvalid_0's l2: 1.03225e+16\tvalid_0's rmsle: 2.92028\n",
      "[127]\tvalid_0's l2: 1.03318e+16\tvalid_0's rmsle: 2.89033\n",
      "[128]\tvalid_0's l2: 1.03072e+16\tvalid_0's rmsle: 2.88452\n",
      "[129]\tvalid_0's l2: 1.03014e+16\tvalid_0's rmsle: 2.93201\n",
      "[130]\tvalid_0's l2: 1.03626e+16\tvalid_0's rmsle: 2.92225\n",
      "[131]\tvalid_0's l2: 1.03083e+16\tvalid_0's rmsle: 2.9184\n",
      "[132]\tvalid_0's l2: 1.03144e+16\tvalid_0's rmsle: 2.91729\n",
      "[133]\tvalid_0's l2: 1.03123e+16\tvalid_0's rmsle: 2.90333\n",
      "[134]\tvalid_0's l2: 1.02705e+16\tvalid_0's rmsle: 2.86897\n",
      "[135]\tvalid_0's l2: 1.02689e+16\tvalid_0's rmsle: 2.82706\n",
      "[136]\tvalid_0's l2: 1.01972e+16\tvalid_0's rmsle: 2.8021\n",
      "[137]\tvalid_0's l2: 1.0205e+16\tvalid_0's rmsle: 2.7981\n",
      "[138]\tvalid_0's l2: 1.02004e+16\tvalid_0's rmsle: 2.78584\n",
      "[139]\tvalid_0's l2: 1.01878e+16\tvalid_0's rmsle: 2.84405\n",
      "[140]\tvalid_0's l2: 1.01804e+16\tvalid_0's rmsle: 2.84153\n",
      "[141]\tvalid_0's l2: 1.02287e+16\tvalid_0's rmsle: 2.85014\n",
      "[142]\tvalid_0's l2: 1.02181e+16\tvalid_0's rmsle: 2.85139\n",
      "[143]\tvalid_0's l2: 1.02103e+16\tvalid_0's rmsle: 2.8449\n",
      "[144]\tvalid_0's l2: 1.02084e+16\tvalid_0's rmsle: 2.8489\n",
      "[145]\tvalid_0's l2: 1.01858e+16\tvalid_0's rmsle: 2.84022\n",
      "[146]\tvalid_0's l2: 1.0207e+16\tvalid_0's rmsle: 2.84301\n",
      "[147]\tvalid_0's l2: 1.02345e+16\tvalid_0's rmsle: 2.81328\n",
      "[148]\tvalid_0's l2: 1.01903e+16\tvalid_0's rmsle: 2.79909\n",
      "[149]\tvalid_0's l2: 1.01858e+16\tvalid_0's rmsle: 2.81664\n",
      "[150]\tvalid_0's l2: 1.01837e+16\tvalid_0's rmsle: 2.80782\n",
      "[151]\tvalid_0's l2: 1.01776e+16\tvalid_0's rmsle: 2.81977\n",
      "[152]\tvalid_0's l2: 1.01877e+16\tvalid_0's rmsle: 2.80894\n",
      "[153]\tvalid_0's l2: 1.01816e+16\tvalid_0's rmsle: 2.82683\n",
      "[154]\tvalid_0's l2: 1.01788e+16\tvalid_0's rmsle: 2.78655\n",
      "[155]\tvalid_0's l2: 1.01996e+16\tvalid_0's rmsle: 2.79251\n",
      "[156]\tvalid_0's l2: 1.02144e+16\tvalid_0's rmsle: 2.7597\n",
      "[157]\tvalid_0's l2: 1.02045e+16\tvalid_0's rmsle: 2.78882\n",
      "[158]\tvalid_0's l2: 1.01928e+16\tvalid_0's rmsle: 2.73848\n",
      "[159]\tvalid_0's l2: 1.01992e+16\tvalid_0's rmsle: 2.75749\n",
      "[160]\tvalid_0's l2: 1.02088e+16\tvalid_0's rmsle: 2.753\n",
      "[161]\tvalid_0's l2: 1.0201e+16\tvalid_0's rmsle: 2.74979\n",
      "[162]\tvalid_0's l2: 1.02272e+16\tvalid_0's rmsle: 2.74845\n",
      "[163]\tvalid_0's l2: 1.02268e+16\tvalid_0's rmsle: 2.75718\n",
      "[164]\tvalid_0's l2: 1.02419e+16\tvalid_0's rmsle: 2.75907\n",
      "[165]\tvalid_0's l2: 1.0237e+16\tvalid_0's rmsle: 2.75581\n",
      "[166]\tvalid_0's l2: 1.02096e+16\tvalid_0's rmsle: 2.74467\n",
      "[167]\tvalid_0's l2: 1.01983e+16\tvalid_0's rmsle: 2.73288\n",
      "[168]\tvalid_0's l2: 1.01864e+16\tvalid_0's rmsle: 2.73147\n",
      "[169]\tvalid_0's l2: 1.01734e+16\tvalid_0's rmsle: 2.75066\n",
      "[170]\tvalid_0's l2: 1.01667e+16\tvalid_0's rmsle: 2.75082\n",
      "[171]\tvalid_0's l2: 1.01581e+16\tvalid_0's rmsle: 2.75077\n",
      "[172]\tvalid_0's l2: 1.01304e+16\tvalid_0's rmsle: 2.73378\n",
      "[173]\tvalid_0's l2: 1.01255e+16\tvalid_0's rmsle: 2.73754\n",
      "[174]\tvalid_0's l2: 1.01646e+16\tvalid_0's rmsle: 2.78601\n",
      "[175]\tvalid_0's l2: 1.01787e+16\tvalid_0's rmsle: 2.7843\n",
      "[176]\tvalid_0's l2: 1.01594e+16\tvalid_0's rmsle: 2.77601\n",
      "[177]\tvalid_0's l2: 1.01472e+16\tvalid_0's rmsle: 2.76213\n",
      "[178]\tvalid_0's l2: 1.01592e+16\tvalid_0's rmsle: 2.76872\n",
      "[179]\tvalid_0's l2: 1.01532e+16\tvalid_0's rmsle: 2.77832\n",
      "[180]\tvalid_0's l2: 1.01453e+16\tvalid_0's rmsle: 2.77394\n",
      "[181]\tvalid_0's l2: 1.02017e+16\tvalid_0's rmsle: 2.77814\n",
      "[182]\tvalid_0's l2: 1.01913e+16\tvalid_0's rmsle: 2.77622\n",
      "[183]\tvalid_0's l2: 1.01848e+16\tvalid_0's rmsle: 2.78028\n",
      "[184]\tvalid_0's l2: 1.02354e+16\tvalid_0's rmsle: 2.77132\n",
      "[185]\tvalid_0's l2: 1.02268e+16\tvalid_0's rmsle: 2.75814\n",
      "[186]\tvalid_0's l2: 1.02211e+16\tvalid_0's rmsle: 2.77458\n",
      "[187]\tvalid_0's l2: 1.02108e+16\tvalid_0's rmsle: 2.76894\n",
      "[188]\tvalid_0's l2: 1.0145e+16\tvalid_0's rmsle: 2.78838\n",
      "[189]\tvalid_0's l2: 1.01815e+16\tvalid_0's rmsle: 2.77557\n",
      "[190]\tvalid_0's l2: 1.01634e+16\tvalid_0's rmsle: 2.7665\n",
      "[191]\tvalid_0's l2: 1.01548e+16\tvalid_0's rmsle: 2.79688\n",
      "[192]\tvalid_0's l2: 1.0153e+16\tvalid_0's rmsle: 2.79978\n",
      "[193]\tvalid_0's l2: 1.01754e+16\tvalid_0's rmsle: 2.79667\n",
      "[194]\tvalid_0's l2: 1.01767e+16\tvalid_0's rmsle: 2.79888\n",
      "[195]\tvalid_0's l2: 1.01701e+16\tvalid_0's rmsle: 2.81255\n",
      "[196]\tvalid_0's l2: 1.01641e+16\tvalid_0's rmsle: 2.81708\n",
      "[197]\tvalid_0's l2: 1.01615e+16\tvalid_0's rmsle: 2.82979\n",
      "[198]\tvalid_0's l2: 1.01581e+16\tvalid_0's rmsle: 2.82383\n",
      "[199]\tvalid_0's l2: 1.01471e+16\tvalid_0's rmsle: 2.84328\n",
      "[200]\tvalid_0's l2: 1.01559e+16\tvalid_0's rmsle: 2.85521\n",
      "[201]\tvalid_0's l2: 1.01936e+16\tvalid_0's rmsle: 2.85699\n",
      "[202]\tvalid_0's l2: 1.02341e+16\tvalid_0's rmsle: 2.86364\n",
      "[203]\tvalid_0's l2: 1.02293e+16\tvalid_0's rmsle: 2.86924\n",
      "[204]\tvalid_0's l2: 1.02718e+16\tvalid_0's rmsle: 2.87589\n",
      "[205]\tvalid_0's l2: 1.0286e+16\tvalid_0's rmsle: 2.8689\n",
      "[206]\tvalid_0's l2: 1.0277e+16\tvalid_0's rmsle: 2.87612\n"
     ]
    },
    {
     "name": "stdout",
     "output_type": "stream",
     "text": [
      "[207]\tvalid_0's l2: 1.02707e+16\tvalid_0's rmsle: 2.87272\n",
      "[208]\tvalid_0's l2: 1.02749e+16\tvalid_0's rmsle: 2.86827\n",
      "[209]\tvalid_0's l2: 1.02647e+16\tvalid_0's rmsle: 2.87151\n",
      "[210]\tvalid_0's l2: 1.02537e+16\tvalid_0's rmsle: 2.87389\n",
      "[211]\tvalid_0's l2: 1.026e+16\tvalid_0's rmsle: 2.88678\n",
      "[212]\tvalid_0's l2: 1.025e+16\tvalid_0's rmsle: 2.88607\n",
      "[213]\tvalid_0's l2: 1.02436e+16\tvalid_0's rmsle: 2.88826\n",
      "[214]\tvalid_0's l2: 1.02305e+16\tvalid_0's rmsle: 2.89171\n",
      "[215]\tvalid_0's l2: 1.0231e+16\tvalid_0's rmsle: 2.89501\n",
      "[216]\tvalid_0's l2: 1.02328e+16\tvalid_0's rmsle: 2.90866\n",
      "[217]\tvalid_0's l2: 1.02478e+16\tvalid_0's rmsle: 2.8935\n",
      "[218]\tvalid_0's l2: 1.02674e+16\tvalid_0's rmsle: 2.89834\n",
      "[219]\tvalid_0's l2: 1.02597e+16\tvalid_0's rmsle: 2.9126\n",
      "[220]\tvalid_0's l2: 1.02552e+16\tvalid_0's rmsle: 2.90396\n",
      "[221]\tvalid_0's l2: 1.02546e+16\tvalid_0's rmsle: 2.90375\n",
      "[222]\tvalid_0's l2: 1.02796e+16\tvalid_0's rmsle: 2.89914\n",
      "[223]\tvalid_0's l2: 1.02668e+16\tvalid_0's rmsle: 2.89911\n",
      "[224]\tvalid_0's l2: 1.02659e+16\tvalid_0's rmsle: 2.90462\n",
      "[225]\tvalid_0's l2: 1.02386e+16\tvalid_0's rmsle: 2.90497\n",
      "[226]\tvalid_0's l2: 1.02338e+16\tvalid_0's rmsle: 2.87988\n",
      "[227]\tvalid_0's l2: 1.02277e+16\tvalid_0's rmsle: 2.88315\n",
      "[228]\tvalid_0's l2: 1.02196e+16\tvalid_0's rmsle: 2.88139\n",
      "[229]\tvalid_0's l2: 1.02507e+16\tvalid_0's rmsle: 2.87593\n",
      "[230]\tvalid_0's l2: 1.02493e+16\tvalid_0's rmsle: 2.87826\n",
      "[231]\tvalid_0's l2: 1.02829e+16\tvalid_0's rmsle: 2.85849\n",
      "[232]\tvalid_0's l2: 1.02355e+16\tvalid_0's rmsle: 2.85037\n",
      "[233]\tvalid_0's l2: 1.02338e+16\tvalid_0's rmsle: 2.85232\n",
      "[234]\tvalid_0's l2: 1.02284e+16\tvalid_0's rmsle: 2.85009\n",
      "[235]\tvalid_0's l2: 1.02089e+16\tvalid_0's rmsle: 2.854\n",
      "[236]\tvalid_0's l2: 1.02405e+16\tvalid_0's rmsle: 2.85187\n",
      "[237]\tvalid_0's l2: 1.02018e+16\tvalid_0's rmsle: 2.81494\n",
      "[238]\tvalid_0's l2: 1.01954e+16\tvalid_0's rmsle: 2.82175\n",
      "[239]\tvalid_0's l2: 1.02469e+16\tvalid_0's rmsle: 2.81893\n",
      "[240]\tvalid_0's l2: 1.02352e+16\tvalid_0's rmsle: 2.82748\n",
      "[241]\tvalid_0's l2: 1.02297e+16\tvalid_0's rmsle: 2.85212\n",
      "[242]\tvalid_0's l2: 1.0262e+16\tvalid_0's rmsle: 2.83807\n",
      "[243]\tvalid_0's l2: 1.03238e+16\tvalid_0's rmsle: 2.85666\n",
      "[244]\tvalid_0's l2: 1.03187e+16\tvalid_0's rmsle: 2.83382\n",
      "[245]\tvalid_0's l2: 1.03155e+16\tvalid_0's rmsle: 2.83198\n",
      "[246]\tvalid_0's l2: 1.03179e+16\tvalid_0's rmsle: 2.83844\n",
      "[247]\tvalid_0's l2: 1.03093e+16\tvalid_0's rmsle: 2.83212\n",
      "[248]\tvalid_0's l2: 1.02974e+16\tvalid_0's rmsle: 2.83854\n",
      "[249]\tvalid_0's l2: 1.02879e+16\tvalid_0's rmsle: 2.8482\n",
      "[250]\tvalid_0's l2: 1.02795e+16\tvalid_0's rmsle: 2.88242\n",
      "[251]\tvalid_0's l2: 1.02789e+16\tvalid_0's rmsle: 2.87945\n",
      "[252]\tvalid_0's l2: 1.02823e+16\tvalid_0's rmsle: 2.89337\n",
      "[253]\tvalid_0's l2: 1.02815e+16\tvalid_0's rmsle: 2.86639\n",
      "[254]\tvalid_0's l2: 1.02697e+16\tvalid_0's rmsle: 2.87663\n",
      "[255]\tvalid_0's l2: 1.02888e+16\tvalid_0's rmsle: 2.86884\n",
      "[256]\tvalid_0's l2: 1.02891e+16\tvalid_0's rmsle: 2.87995\n",
      "[257]\tvalid_0's l2: 1.0335e+16\tvalid_0's rmsle: 2.87151\n",
      "[258]\tvalid_0's l2: 1.03277e+16\tvalid_0's rmsle: 2.88619\n",
      "[259]\tvalid_0's l2: 1.03258e+16\tvalid_0's rmsle: 2.89573\n",
      "[260]\tvalid_0's l2: 1.03402e+16\tvalid_0's rmsle: 2.85095\n",
      "[261]\tvalid_0's l2: 1.0337e+16\tvalid_0's rmsle: 2.88454\n",
      "[262]\tvalid_0's l2: 1.03665e+16\tvalid_0's rmsle: 2.8518\n",
      "[263]\tvalid_0's l2: 1.03512e+16\tvalid_0's rmsle: 2.86344\n",
      "[264]\tvalid_0's l2: 1.03472e+16\tvalid_0's rmsle: 2.88617\n",
      "[265]\tvalid_0's l2: 1.03462e+16\tvalid_0's rmsle: 2.90385\n",
      "[266]\tvalid_0's l2: 1.0378e+16\tvalid_0's rmsle: 2.90602\n",
      "[267]\tvalid_0's l2: 1.03983e+16\tvalid_0's rmsle: 2.84695\n",
      "[268]\tvalid_0's l2: 1.0395e+16\tvalid_0's rmsle: 2.8512\n",
      "[269]\tvalid_0's l2: 1.0415e+16\tvalid_0's rmsle: 2.86215\n",
      "[270]\tvalid_0's l2: 1.04075e+16\tvalid_0's rmsle: 2.86114\n",
      "[271]\tvalid_0's l2: 1.04012e+16\tvalid_0's rmsle: 2.86331\n",
      "[272]\tvalid_0's l2: 1.04057e+16\tvalid_0's rmsle: 2.84111\n",
      "[273]\tvalid_0's l2: 1.03959e+16\tvalid_0's rmsle: 2.82628\n",
      "[274]\tvalid_0's l2: 1.03929e+16\tvalid_0's rmsle: 2.82535\n",
      "[275]\tvalid_0's l2: 1.03928e+16\tvalid_0's rmsle: 2.81565\n",
      "[276]\tvalid_0's l2: 1.04033e+16\tvalid_0's rmsle: 2.84264\n",
      "[277]\tvalid_0's l2: 1.0388e+16\tvalid_0's rmsle: 2.84108\n",
      "[278]\tvalid_0's l2: 1.03844e+16\tvalid_0's rmsle: 2.82903\n",
      "[279]\tvalid_0's l2: 1.03989e+16\tvalid_0's rmsle: 2.84242\n",
      "[280]\tvalid_0's l2: 1.04379e+16\tvalid_0's rmsle: 2.85848\n",
      "[281]\tvalid_0's l2: 1.04303e+16\tvalid_0's rmsle: 2.85508\n",
      "[282]\tvalid_0's l2: 1.04236e+16\tvalid_0's rmsle: 2.85628\n",
      "[283]\tvalid_0's l2: 1.04142e+16\tvalid_0's rmsle: 2.85723\n",
      "[284]\tvalid_0's l2: 1.04044e+16\tvalid_0's rmsle: 2.87076\n",
      "[285]\tvalid_0's l2: 1.04231e+16\tvalid_0's rmsle: 2.86082\n",
      "[286]\tvalid_0's l2: 1.04185e+16\tvalid_0's rmsle: 2.8546\n",
      "[287]\tvalid_0's l2: 1.04356e+16\tvalid_0's rmsle: 2.8489\n",
      "[288]\tvalid_0's l2: 1.04774e+16\tvalid_0's rmsle: 2.86496\n",
      "[289]\tvalid_0's l2: 1.04615e+16\tvalid_0's rmsle: 2.85761\n",
      "[290]\tvalid_0's l2: 1.04526e+16\tvalid_0's rmsle: 2.87358\n",
      "[291]\tvalid_0's l2: 1.04512e+16\tvalid_0's rmsle: 2.85971\n",
      "[292]\tvalid_0's l2: 1.04775e+16\tvalid_0's rmsle: 2.84189\n",
      "[293]\tvalid_0's l2: 1.04502e+16\tvalid_0's rmsle: 2.83796\n",
      "[294]\tvalid_0's l2: 1.04535e+16\tvalid_0's rmsle: 2.84899\n",
      "[295]\tvalid_0's l2: 1.04174e+16\tvalid_0's rmsle: 2.8135\n",
      "[296]\tvalid_0's l2: 1.04086e+16\tvalid_0's rmsle: 2.81208\n",
      "[297]\tvalid_0's l2: 1.04405e+16\tvalid_0's rmsle: 2.80243\n",
      "[298]\tvalid_0's l2: 1.04139e+16\tvalid_0's rmsle: 2.79501\n",
      "[299]\tvalid_0's l2: 1.04037e+16\tvalid_0's rmsle: 2.78267\n",
      "[300]\tvalid_0's l2: 1.04259e+16\tvalid_0's rmsle: 2.77451\n",
      "[301]\tvalid_0's l2: 1.04136e+16\tvalid_0's rmsle: 2.78177\n",
      "[302]\tvalid_0's l2: 1.04045e+16\tvalid_0's rmsle: 2.77721\n",
      "[303]\tvalid_0's l2: 1.04005e+16\tvalid_0's rmsle: 2.78716\n",
      "[304]\tvalid_0's l2: 1.03892e+16\tvalid_0's rmsle: 2.78525\n",
      "[305]\tvalid_0's l2: 1.038e+16\tvalid_0's rmsle: 2.78381\n",
      "[306]\tvalid_0's l2: 1.03753e+16\tvalid_0's rmsle: 2.78369\n",
      "[307]\tvalid_0's l2: 1.03662e+16\tvalid_0's rmsle: 2.78955\n",
      "[308]\tvalid_0's l2: 1.03967e+16\tvalid_0's rmsle: 2.79941\n",
      "[309]\tvalid_0's l2: 1.0379e+16\tvalid_0's rmsle: 2.7822\n",
      "[310]\tvalid_0's l2: 1.03868e+16\tvalid_0's rmsle: 2.79673\n",
      "[311]\tvalid_0's l2: 1.03992e+16\tvalid_0's rmsle: 2.79689\n",
      "[312]\tvalid_0's l2: 1.03897e+16\tvalid_0's rmsle: 2.7952\n",
      "[313]\tvalid_0's l2: 1.03845e+16\tvalid_0's rmsle: 2.79511\n",
      "[314]\tvalid_0's l2: 1.03786e+16\tvalid_0's rmsle: 2.79521\n",
      "[315]\tvalid_0's l2: 1.03479e+16\tvalid_0's rmsle: 2.77931\n",
      "[316]\tvalid_0's l2: 1.03452e+16\tvalid_0's rmsle: 2.7621\n",
      "[317]\tvalid_0's l2: 1.03343e+16\tvalid_0's rmsle: 2.78426\n",
      "[318]\tvalid_0's l2: 1.03244e+16\tvalid_0's rmsle: 2.77852\n",
      "[319]\tvalid_0's l2: 1.03201e+16\tvalid_0's rmsle: 2.82271\n",
      "[320]\tvalid_0's l2: 1.03661e+16\tvalid_0's rmsle: 2.82716\n",
      "[321]\tvalid_0's l2: 1.03924e+16\tvalid_0's rmsle: 2.82162\n",
      "[322]\tvalid_0's l2: 1.03998e+16\tvalid_0's rmsle: 2.83803\n",
      "[323]\tvalid_0's l2: 1.04008e+16\tvalid_0's rmsle: 2.82096\n",
      "[324]\tvalid_0's l2: 1.03914e+16\tvalid_0's rmsle: 2.84068\n",
      "[325]\tvalid_0's l2: 1.04015e+16\tvalid_0's rmsle: 2.84035\n",
      "[326]\tvalid_0's l2: 1.03935e+16\tvalid_0's rmsle: 2.85167\n",
      "[327]\tvalid_0's l2: 1.03855e+16\tvalid_0's rmsle: 2.84193\n",
      "[328]\tvalid_0's l2: 1.03985e+16\tvalid_0's rmsle: 2.84863\n",
      "[329]\tvalid_0's l2: 1.04087e+16\tvalid_0's rmsle: 2.82144\n",
      "[330]\tvalid_0's l2: 1.0407e+16\tvalid_0's rmsle: 2.81857\n",
      "[331]\tvalid_0's l2: 1.03953e+16\tvalid_0's rmsle: 2.81718\n",
      "[332]\tvalid_0's l2: 1.0392e+16\tvalid_0's rmsle: 2.81744\n",
      "[333]\tvalid_0's l2: 1.03872e+16\tvalid_0's rmsle: 2.83325\n",
      "[334]\tvalid_0's l2: 1.03736e+16\tvalid_0's rmsle: 2.81826\n",
      "[335]\tvalid_0's l2: 1.03925e+16\tvalid_0's rmsle: 2.81634\n",
      "[336]\tvalid_0's l2: 1.0412e+16\tvalid_0's rmsle: 2.82383\n",
      "[337]\tvalid_0's l2: 1.04048e+16\tvalid_0's rmsle: 2.83208\n",
      "[338]\tvalid_0's l2: 1.03957e+16\tvalid_0's rmsle: 2.82479\n",
      "[339]\tvalid_0's l2: 1.04124e+16\tvalid_0's rmsle: 2.81226\n",
      "[340]\tvalid_0's l2: 1.04042e+16\tvalid_0's rmsle: 2.81942\n",
      "[341]\tvalid_0's l2: 1.03936e+16\tvalid_0's rmsle: 2.83143\n",
      "[342]\tvalid_0's l2: 1.03996e+16\tvalid_0's rmsle: 2.82524\n",
      "[343]\tvalid_0's l2: 1.03927e+16\tvalid_0's rmsle: 2.82636\n",
      "[344]\tvalid_0's l2: 1.04102e+16\tvalid_0's rmsle: 2.87307\n",
      "[345]\tvalid_0's l2: 1.04002e+16\tvalid_0's rmsle: 2.87069\n",
      "[346]\tvalid_0's l2: 1.04271e+16\tvalid_0's rmsle: 2.87498\n",
      "[347]\tvalid_0's l2: 1.04173e+16\tvalid_0's rmsle: 2.87291\n",
      "[348]\tvalid_0's l2: 1.03931e+16\tvalid_0's rmsle: 2.87241\n",
      "[349]\tvalid_0's l2: 1.03842e+16\tvalid_0's rmsle: 2.87172\n",
      "[350]\tvalid_0's l2: 1.03626e+16\tvalid_0's rmsle: 2.86964\n",
      "[351]\tvalid_0's l2: 1.03671e+16\tvalid_0's rmsle: 2.8672\n",
      "[352]\tvalid_0's l2: 1.03616e+16\tvalid_0's rmsle: 2.86429\n",
      "[353]\tvalid_0's l2: 1.03558e+16\tvalid_0's rmsle: 2.86374\n",
      "[354]\tvalid_0's l2: 1.03957e+16\tvalid_0's rmsle: 2.86529\n",
      "[355]\tvalid_0's l2: 1.03886e+16\tvalid_0's rmsle: 2.84802\n",
      "[356]\tvalid_0's l2: 1.03832e+16\tvalid_0's rmsle: 2.84003\n",
      "[357]\tvalid_0's l2: 1.03765e+16\tvalid_0's rmsle: 2.84517\n",
      "[358]\tvalid_0's l2: 1.03712e+16\tvalid_0's rmsle: 2.83793\n"
     ]
    },
    {
     "name": "stdout",
     "output_type": "stream",
     "text": [
      "[359]\tvalid_0's l2: 1.0364e+16\tvalid_0's rmsle: 2.83702\n",
      "[360]\tvalid_0's l2: 1.03754e+16\tvalid_0's rmsle: 2.83658\n",
      "[361]\tvalid_0's l2: 1.03716e+16\tvalid_0's rmsle: 2.84137\n",
      "[362]\tvalid_0's l2: 1.03676e+16\tvalid_0's rmsle: 2.83829\n",
      "[363]\tvalid_0's l2: 1.03875e+16\tvalid_0's rmsle: 2.83959\n",
      "[364]\tvalid_0's l2: 1.04295e+16\tvalid_0's rmsle: 2.8439\n",
      "[365]\tvalid_0's l2: 1.04273e+16\tvalid_0's rmsle: 2.86568\n",
      "[366]\tvalid_0's l2: 1.04217e+16\tvalid_0's rmsle: 2.85563\n",
      "[367]\tvalid_0's l2: 1.04163e+16\tvalid_0's rmsle: 2.83445\n",
      "[368]\tvalid_0's l2: 1.03931e+16\tvalid_0's rmsle: 2.85033\n",
      "[369]\tvalid_0's l2: 1.03939e+16\tvalid_0's rmsle: 2.84\n",
      "[370]\tvalid_0's l2: 1.03866e+16\tvalid_0's rmsle: 2.84769\n",
      "[371]\tvalid_0's l2: 1.03836e+16\tvalid_0's rmsle: 2.84831\n",
      "[372]\tvalid_0's l2: 1.03789e+16\tvalid_0's rmsle: 2.83701\n",
      "[373]\tvalid_0's l2: 1.03253e+16\tvalid_0's rmsle: 2.84701\n",
      "[374]\tvalid_0's l2: 1.03216e+16\tvalid_0's rmsle: 2.85366\n",
      "[375]\tvalid_0's l2: 1.03202e+16\tvalid_0's rmsle: 2.86143\n",
      "[376]\tvalid_0's l2: 1.0315e+16\tvalid_0's rmsle: 2.84741\n",
      "[377]\tvalid_0's l2: 1.03091e+16\tvalid_0's rmsle: 2.87038\n",
      "[378]\tvalid_0's l2: 1.03057e+16\tvalid_0's rmsle: 2.86878\n",
      "[379]\tvalid_0's l2: 1.03027e+16\tvalid_0's rmsle: 2.83704\n",
      "[380]\tvalid_0's l2: 1.03247e+16\tvalid_0's rmsle: 2.8389\n",
      "[381]\tvalid_0's l2: 1.03202e+16\tvalid_0's rmsle: 2.83737\n",
      "[382]\tvalid_0's l2: 1.03299e+16\tvalid_0's rmsle: 2.83653\n",
      "[383]\tvalid_0's l2: 1.03228e+16\tvalid_0's rmsle: 2.84099\n",
      "[384]\tvalid_0's l2: 1.03172e+16\tvalid_0's rmsle: 2.84268\n",
      "[385]\tvalid_0's l2: 1.03338e+16\tvalid_0's rmsle: 2.85385\n",
      "[386]\tvalid_0's l2: 1.03478e+16\tvalid_0's rmsle: 2.83257\n",
      "[387]\tvalid_0's l2: 1.03443e+16\tvalid_0's rmsle: 2.82617\n",
      "[388]\tvalid_0's l2: 1.03303e+16\tvalid_0's rmsle: 2.83053\n",
      "[389]\tvalid_0's l2: 1.03496e+16\tvalid_0's rmsle: 2.81625\n",
      "[390]\tvalid_0's l2: 1.03466e+16\tvalid_0's rmsle: 2.81016\n",
      "[391]\tvalid_0's l2: 1.03422e+16\tvalid_0's rmsle: 2.80866\n",
      "[392]\tvalid_0's l2: 1.03365e+16\tvalid_0's rmsle: 2.80591\n",
      "[393]\tvalid_0's l2: 1.03531e+16\tvalid_0's rmsle: 2.81337\n",
      "[394]\tvalid_0's l2: 1.03699e+16\tvalid_0's rmsle: 2.82453\n",
      "[395]\tvalid_0's l2: 1.03635e+16\tvalid_0's rmsle: 2.82252\n",
      "[396]\tvalid_0's l2: 1.03602e+16\tvalid_0's rmsle: 2.82176\n",
      "[397]\tvalid_0's l2: 1.03509e+16\tvalid_0's rmsle: 2.81438\n",
      "[398]\tvalid_0's l2: 1.03427e+16\tvalid_0's rmsle: 2.81288\n",
      "[399]\tvalid_0's l2: 1.03349e+16\tvalid_0's rmsle: 2.82211\n",
      "[400]\tvalid_0's l2: 1.03288e+16\tvalid_0's rmsle: 2.81701\n",
      "[401]\tvalid_0's l2: 1.03134e+16\tvalid_0's rmsle: 2.81585\n",
      "[402]\tvalid_0's l2: 1.03112e+16\tvalid_0's rmsle: 2.81456\n",
      "[403]\tvalid_0's l2: 1.03178e+16\tvalid_0's rmsle: 2.81436\n",
      "[404]\tvalid_0's l2: 1.03198e+16\tvalid_0's rmsle: 2.81654\n",
      "[405]\tvalid_0's l2: 1.03089e+16\tvalid_0's rmsle: 2.81666\n",
      "[406]\tvalid_0's l2: 1.03085e+16\tvalid_0's rmsle: 2.81679\n",
      "[407]\tvalid_0's l2: 1.02997e+16\tvalid_0's rmsle: 2.81554\n",
      "[408]\tvalid_0's l2: 1.02941e+16\tvalid_0's rmsle: 2.81613\n",
      "[409]\tvalid_0's l2: 1.02982e+16\tvalid_0's rmsle: 2.81394\n",
      "[410]\tvalid_0's l2: 1.02932e+16\tvalid_0's rmsle: 2.81762\n",
      "[411]\tvalid_0's l2: 1.02748e+16\tvalid_0's rmsle: 2.81583\n",
      "[412]\tvalid_0's l2: 1.02725e+16\tvalid_0's rmsle: 2.81707\n",
      "[413]\tvalid_0's l2: 1.02918e+16\tvalid_0's rmsle: 2.81263\n",
      "[414]\tvalid_0's l2: 1.02883e+16\tvalid_0's rmsle: 2.81179\n",
      "[415]\tvalid_0's l2: 1.02806e+16\tvalid_0's rmsle: 2.81611\n",
      "[416]\tvalid_0's l2: 1.02956e+16\tvalid_0's rmsle: 2.8098\n",
      "[417]\tvalid_0's l2: 1.0286e+16\tvalid_0's rmsle: 2.80996\n",
      "[418]\tvalid_0's l2: 1.02996e+16\tvalid_0's rmsle: 2.8065\n",
      "[419]\tvalid_0's l2: 1.03166e+16\tvalid_0's rmsle: 2.81445\n",
      "[420]\tvalid_0's l2: 1.03118e+16\tvalid_0's rmsle: 2.81256\n",
      "[421]\tvalid_0's l2: 1.03039e+16\tvalid_0's rmsle: 2.81872\n",
      "[422]\tvalid_0's l2: 1.03025e+16\tvalid_0's rmsle: 2.81428\n",
      "[423]\tvalid_0's l2: 1.02944e+16\tvalid_0's rmsle: 2.81383\n",
      "[424]\tvalid_0's l2: 1.02895e+16\tvalid_0's rmsle: 2.81108\n",
      "[425]\tvalid_0's l2: 1.02865e+16\tvalid_0's rmsle: 2.80915\n",
      "[426]\tvalid_0's l2: 1.03044e+16\tvalid_0's rmsle: 2.80878\n",
      "[427]\tvalid_0's l2: 1.03241e+16\tvalid_0's rmsle: 2.80537\n",
      "[428]\tvalid_0's l2: 1.03195e+16\tvalid_0's rmsle: 2.80875\n",
      "[429]\tvalid_0's l2: 1.0317e+16\tvalid_0's rmsle: 2.81392\n",
      "[430]\tvalid_0's l2: 1.03102e+16\tvalid_0's rmsle: 2.80956\n",
      "[431]\tvalid_0's l2: 1.03151e+16\tvalid_0's rmsle: 2.80798\n",
      "[432]\tvalid_0's l2: 1.03111e+16\tvalid_0's rmsle: 2.80854\n",
      "[433]\tvalid_0's l2: 1.03243e+16\tvalid_0's rmsle: 2.81235\n",
      "[434]\tvalid_0's l2: 1.03174e+16\tvalid_0's rmsle: 2.81157\n",
      "[435]\tvalid_0's l2: 1.03088e+16\tvalid_0's rmsle: 2.80888\n",
      "[436]\tvalid_0's l2: 1.03126e+16\tvalid_0's rmsle: 2.8206\n",
      "[437]\tvalid_0's l2: 1.03357e+16\tvalid_0's rmsle: 2.81023\n",
      "[438]\tvalid_0's l2: 1.03293e+16\tvalid_0's rmsle: 2.80959\n",
      "[439]\tvalid_0's l2: 1.03519e+16\tvalid_0's rmsle: 2.80653\n",
      "[440]\tvalid_0's l2: 1.03712e+16\tvalid_0's rmsle: 2.80522\n",
      "[441]\tvalid_0's l2: 1.03736e+16\tvalid_0's rmsle: 2.79145\n",
      "[442]\tvalid_0's l2: 1.03686e+16\tvalid_0's rmsle: 2.78409\n",
      "[443]\tvalid_0's l2: 1.03375e+16\tvalid_0's rmsle: 2.79682\n",
      "[444]\tvalid_0's l2: 1.03351e+16\tvalid_0's rmsle: 2.79065\n",
      "[445]\tvalid_0's l2: 1.03319e+16\tvalid_0's rmsle: 2.78221\n",
      "[446]\tvalid_0's l2: 1.03513e+16\tvalid_0's rmsle: 2.80877\n",
      "[447]\tvalid_0's l2: 1.03458e+16\tvalid_0's rmsle: 2.77873\n",
      "[448]\tvalid_0's l2: 1.034e+16\tvalid_0's rmsle: 2.77042\n",
      "[449]\tvalid_0's l2: 1.03322e+16\tvalid_0's rmsle: 2.77551\n",
      "[450]\tvalid_0's l2: 1.03272e+16\tvalid_0's rmsle: 2.78223\n",
      "[451]\tvalid_0's l2: 1.03238e+16\tvalid_0's rmsle: 2.77916\n",
      "[452]\tvalid_0's l2: 1.03493e+16\tvalid_0's rmsle: 2.79886\n",
      "[453]\tvalid_0's l2: 1.03627e+16\tvalid_0's rmsle: 2.78935\n",
      "[454]\tvalid_0's l2: 1.04087e+16\tvalid_0's rmsle: 2.80836\n",
      "[455]\tvalid_0's l2: 1.0387e+16\tvalid_0's rmsle: 2.81031\n",
      "[456]\tvalid_0's l2: 1.03814e+16\tvalid_0's rmsle: 2.80832\n",
      "[457]\tvalid_0's l2: 1.03775e+16\tvalid_0's rmsle: 2.81\n",
      "[458]\tvalid_0's l2: 1.03715e+16\tvalid_0's rmsle: 2.80972\n",
      "[459]\tvalid_0's l2: 1.03473e+16\tvalid_0's rmsle: 2.79244\n",
      "[460]\tvalid_0's l2: 1.03408e+16\tvalid_0's rmsle: 2.79192\n",
      "[461]\tvalid_0's l2: 1.03475e+16\tvalid_0's rmsle: 2.78574\n",
      "[462]\tvalid_0's l2: 1.03408e+16\tvalid_0's rmsle: 2.78513\n",
      "[463]\tvalid_0's l2: 1.03369e+16\tvalid_0's rmsle: 2.78421\n",
      "[464]\tvalid_0's l2: 1.03366e+16\tvalid_0's rmsle: 2.78469\n",
      "[465]\tvalid_0's l2: 1.03565e+16\tvalid_0's rmsle: 2.78032\n",
      "[466]\tvalid_0's l2: 1.03515e+16\tvalid_0's rmsle: 2.78801\n",
      "[467]\tvalid_0's l2: 1.03429e+16\tvalid_0's rmsle: 2.78939\n",
      "[468]\tvalid_0's l2: 1.03409e+16\tvalid_0's rmsle: 2.79147\n",
      "[469]\tvalid_0's l2: 1.03439e+16\tvalid_0's rmsle: 2.79246\n",
      "[470]\tvalid_0's l2: 1.03388e+16\tvalid_0's rmsle: 2.79372\n",
      "[471]\tvalid_0's l2: 1.03315e+16\tvalid_0's rmsle: 2.79304\n",
      "[472]\tvalid_0's l2: 1.03257e+16\tvalid_0's rmsle: 2.79247\n",
      "[473]\tvalid_0's l2: 1.03598e+16\tvalid_0's rmsle: 2.79582\n",
      "[474]\tvalid_0's l2: 1.03546e+16\tvalid_0's rmsle: 2.79613\n",
      "[475]\tvalid_0's l2: 1.03596e+16\tvalid_0's rmsle: 2.79734\n",
      "[476]\tvalid_0's l2: 1.0356e+16\tvalid_0's rmsle: 2.79858\n",
      "[477]\tvalid_0's l2: 1.03495e+16\tvalid_0's rmsle: 2.81843\n",
      "[478]\tvalid_0's l2: 1.03486e+16\tvalid_0's rmsle: 2.82019\n",
      "[479]\tvalid_0's l2: 1.0341e+16\tvalid_0's rmsle: 2.81522\n",
      "[480]\tvalid_0's l2: 1.03533e+16\tvalid_0's rmsle: 2.81542\n",
      "[481]\tvalid_0's l2: 1.035e+16\tvalid_0's rmsle: 2.81434\n",
      "[482]\tvalid_0's l2: 1.03396e+16\tvalid_0's rmsle: 2.81055\n",
      "[483]\tvalid_0's l2: 1.03347e+16\tvalid_0's rmsle: 2.81024\n",
      "[484]\tvalid_0's l2: 1.03317e+16\tvalid_0's rmsle: 2.82871\n",
      "[485]\tvalid_0's l2: 1.03478e+16\tvalid_0's rmsle: 2.82584\n",
      "[486]\tvalid_0's l2: 1.03428e+16\tvalid_0's rmsle: 2.82184\n",
      "[487]\tvalid_0's l2: 1.03419e+16\tvalid_0's rmsle: 2.81252\n",
      "[488]\tvalid_0's l2: 1.03672e+16\tvalid_0's rmsle: 2.8192\n",
      "[489]\tvalid_0's l2: 1.03676e+16\tvalid_0's rmsle: 2.81473\n",
      "[490]\tvalid_0's l2: 1.03661e+16\tvalid_0's rmsle: 2.81083\n",
      "[491]\tvalid_0's l2: 1.03633e+16\tvalid_0's rmsle: 2.81502\n",
      "[492]\tvalid_0's l2: 1.03603e+16\tvalid_0's rmsle: 2.81272\n",
      "[493]\tvalid_0's l2: 1.03428e+16\tvalid_0's rmsle: 2.81048\n",
      "[494]\tvalid_0's l2: 1.0358e+16\tvalid_0's rmsle: 2.81839\n",
      "[495]\tvalid_0's l2: 1.0384e+16\tvalid_0's rmsle: 2.80818\n",
      "[496]\tvalid_0's l2: 1.03699e+16\tvalid_0's rmsle: 2.81789\n",
      "[497]\tvalid_0's l2: 1.03643e+16\tvalid_0's rmsle: 2.83761\n",
      "[498]\tvalid_0's l2: 1.03617e+16\tvalid_0's rmsle: 2.82829\n",
      "[499]\tvalid_0's l2: 1.03586e+16\tvalid_0's rmsle: 2.81192\n",
      "[500]\tvalid_0's l2: 1.03526e+16\tvalid_0's rmsle: 2.80108\n",
      "Did not meet early stopping. Best iteration is:\n",
      "[23]\tvalid_0's l2: 1.01145e+16\tvalid_0's rmsle: 3.03564\n"
     ]
    },
    {
     "data": {
      "text/plain": [
       "LGBMRegressor(boosting_type='dart', class_weight=None, colsample_bytree=0.75,\n",
       "       learning_rate=0.2, max_depth=-1, min_child_samples=20,\n",
       "       min_child_weight=0.001, min_data_in_leaf=20, min_split_gain=0.0,\n",
       "       n_estimators=500, n_jobs=-1, num_leaves=20, objective=None,\n",
       "       random_state=101, reg_alpha=0.0, reg_lambda=0.0, silent=True,\n",
       "       subsample=0.1, subsample_for_bin=200000, subsample_freq=0)"
      ]
     },
     "execution_count": 373,
     "metadata": {},
     "output_type": "execute_result"
    }
   ],
   "source": [
    "lr.fit(X_train, y_train,\n",
    "        eval_set=[(X_test, y_test)],\n",
    "        eval_metric=rmsle,\n",
    "        early_stopping_rounds=500)"
   ]
  },
  {
   "cell_type": "code",
   "execution_count": 374,
   "metadata": {},
   "outputs": [],
   "source": [
    "pred = lr.predict(X_test, num_iteration=lr.best_iteration_)"
   ]
  },
  {
   "cell_type": "code",
   "execution_count": 375,
   "metadata": {},
   "outputs": [
    {
     "name": "stdout",
     "output_type": "stream",
     "text": [
      "MAE: 58305343.05678833\n",
      "MSE: 1.843965416713692e+16\n",
      "RMSE: 135792688.19467756\n",
      "RMSLE: ('rmsle', 2.708189759118778, False)\n"
     ]
    },
    {
     "name": "stderr",
     "output_type": "stream",
     "text": [
      "C:\\Users\\micha\\Anaconda3\\lib\\site-packages\\ipykernel_launcher.py:2: RuntimeWarning: invalid value encountered in log1p\n",
      "  \n"
     ]
    }
   ],
   "source": [
    "print('MAE:', metrics.mean_absolute_error(y_test, pred))\n",
    "print('MSE:', metrics.mean_squared_error(y_test, pred))\n",
    "print('RMSE:', np.sqrt(metrics.mean_squared_error(y_test, pred)))\n",
    "print('RMSLE:', rmsle(y_test, pred))"
   ]
  },
  {
   "cell_type": "code",
   "execution_count": 378,
   "metadata": {},
   "outputs": [],
   "source": [
    "submission = pd.DataFrame()\n",
    "submission['id'] = test['id']\n",
    "submission['revenue'] = lr.predict(test.drop('id', axis=1), num_iteration=lr.best_iteration_)"
   ]
  },
  {
   "cell_type": "code",
   "execution_count": 381,
   "metadata": {},
   "outputs": [],
   "source": [
    "submission.to_csv('TMDB_test_predictions.csv', index=False)"
   ]
  }
 ],
 "metadata": {
  "kernelspec": {
   "display_name": "Python 3",
   "language": "python",
   "name": "python3"
  },
  "language_info": {
   "codemirror_mode": {
    "name": "ipython",
    "version": 3
   },
   "file_extension": ".py",
   "mimetype": "text/x-python",
   "name": "python",
   "nbconvert_exporter": "python",
   "pygments_lexer": "ipython3",
   "version": "3.6.8"
  }
 },
 "nbformat": 4,
 "nbformat_minor": 2
}
